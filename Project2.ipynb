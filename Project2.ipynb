{
 "cells": [
  {
   "cell_type": "code",
   "execution_count": 230,
   "metadata": {
    "ExecuteTime": {
     "end_time": "2021-01-26T05:50:24.636431Z",
     "start_time": "2021-01-26T05:50:24.628486Z"
    }
   },
   "outputs": [],
   "source": [
    "import pandas as pd\n",
    "import numpy as np\n",
    "import seaborn as sns\n",
    "import matplotlib.pyplot as plt\n",
    "%matplotlib inline\n",
    "\n",
    "import statsmodels\n",
    "import statsmodels.api as sm\n",
    "import statsmodels.formula as smf\n",
    "from statsmodels.formula.api import ols\n",
    "\n",
    "from sklearn.linear_model import LinearRegression\n",
    "from sklearn.metrics import r2_score\n",
    "from sklearn.metrics import mean_squared_error\n",
    "from sklearn.model_selection import train_test_split\n",
    "\n",
    "import folium "
   ]
  },
  {
   "cell_type": "code",
   "execution_count": 231,
   "metadata": {
    "ExecuteTime": {
     "end_time": "2021-01-26T05:50:25.541533Z",
     "start_time": "2021-01-26T05:50:25.470031Z"
    }
   },
   "outputs": [
    {
     "data": {
      "text/html": [
       "<div>\n",
       "<style scoped>\n",
       "    .dataframe tbody tr th:only-of-type {\n",
       "        vertical-align: middle;\n",
       "    }\n",
       "\n",
       "    .dataframe tbody tr th {\n",
       "        vertical-align: top;\n",
       "    }\n",
       "\n",
       "    .dataframe thead th {\n",
       "        text-align: right;\n",
       "    }\n",
       "</style>\n",
       "<table border=\"1\" class=\"dataframe\">\n",
       "  <thead>\n",
       "    <tr style=\"text-align: right;\">\n",
       "      <th></th>\n",
       "      <th>id</th>\n",
       "      <th>date</th>\n",
       "      <th>price</th>\n",
       "      <th>bedrooms</th>\n",
       "      <th>bathrooms</th>\n",
       "      <th>sqft_living</th>\n",
       "      <th>sqft_lot</th>\n",
       "      <th>floors</th>\n",
       "      <th>waterfront</th>\n",
       "      <th>view</th>\n",
       "      <th>...</th>\n",
       "      <th>grade</th>\n",
       "      <th>sqft_above</th>\n",
       "      <th>sqft_basement</th>\n",
       "      <th>yr_built</th>\n",
       "      <th>yr_renovated</th>\n",
       "      <th>zipcode</th>\n",
       "      <th>lat</th>\n",
       "      <th>long</th>\n",
       "      <th>sqft_living15</th>\n",
       "      <th>sqft_lot15</th>\n",
       "    </tr>\n",
       "  </thead>\n",
       "  <tbody>\n",
       "    <tr>\n",
       "      <th>0</th>\n",
       "      <td>7129300520</td>\n",
       "      <td>10/13/2014</td>\n",
       "      <td>221900.0</td>\n",
       "      <td>3</td>\n",
       "      <td>1.00</td>\n",
       "      <td>1180</td>\n",
       "      <td>5650</td>\n",
       "      <td>1.0</td>\n",
       "      <td>NaN</td>\n",
       "      <td>0.0</td>\n",
       "      <td>...</td>\n",
       "      <td>7</td>\n",
       "      <td>1180</td>\n",
       "      <td>0.0</td>\n",
       "      <td>1955</td>\n",
       "      <td>0.0</td>\n",
       "      <td>98178</td>\n",
       "      <td>47.5112</td>\n",
       "      <td>-122.257</td>\n",
       "      <td>1340</td>\n",
       "      <td>5650</td>\n",
       "    </tr>\n",
       "    <tr>\n",
       "      <th>1</th>\n",
       "      <td>6414100192</td>\n",
       "      <td>12/9/2014</td>\n",
       "      <td>538000.0</td>\n",
       "      <td>3</td>\n",
       "      <td>2.25</td>\n",
       "      <td>2570</td>\n",
       "      <td>7242</td>\n",
       "      <td>2.0</td>\n",
       "      <td>0.0</td>\n",
       "      <td>0.0</td>\n",
       "      <td>...</td>\n",
       "      <td>7</td>\n",
       "      <td>2170</td>\n",
       "      <td>400.0</td>\n",
       "      <td>1951</td>\n",
       "      <td>1991.0</td>\n",
       "      <td>98125</td>\n",
       "      <td>47.7210</td>\n",
       "      <td>-122.319</td>\n",
       "      <td>1690</td>\n",
       "      <td>7639</td>\n",
       "    </tr>\n",
       "    <tr>\n",
       "      <th>2</th>\n",
       "      <td>5631500400</td>\n",
       "      <td>2/25/2015</td>\n",
       "      <td>180000.0</td>\n",
       "      <td>2</td>\n",
       "      <td>1.00</td>\n",
       "      <td>770</td>\n",
       "      <td>10000</td>\n",
       "      <td>1.0</td>\n",
       "      <td>0.0</td>\n",
       "      <td>0.0</td>\n",
       "      <td>...</td>\n",
       "      <td>6</td>\n",
       "      <td>770</td>\n",
       "      <td>0.0</td>\n",
       "      <td>1933</td>\n",
       "      <td>NaN</td>\n",
       "      <td>98028</td>\n",
       "      <td>47.7379</td>\n",
       "      <td>-122.233</td>\n",
       "      <td>2720</td>\n",
       "      <td>8062</td>\n",
       "    </tr>\n",
       "    <tr>\n",
       "      <th>3</th>\n",
       "      <td>2487200875</td>\n",
       "      <td>12/9/2014</td>\n",
       "      <td>604000.0</td>\n",
       "      <td>4</td>\n",
       "      <td>3.00</td>\n",
       "      <td>1960</td>\n",
       "      <td>5000</td>\n",
       "      <td>1.0</td>\n",
       "      <td>0.0</td>\n",
       "      <td>0.0</td>\n",
       "      <td>...</td>\n",
       "      <td>7</td>\n",
       "      <td>1050</td>\n",
       "      <td>910.0</td>\n",
       "      <td>1965</td>\n",
       "      <td>0.0</td>\n",
       "      <td>98136</td>\n",
       "      <td>47.5208</td>\n",
       "      <td>-122.393</td>\n",
       "      <td>1360</td>\n",
       "      <td>5000</td>\n",
       "    </tr>\n",
       "    <tr>\n",
       "      <th>4</th>\n",
       "      <td>1954400510</td>\n",
       "      <td>2/18/2015</td>\n",
       "      <td>510000.0</td>\n",
       "      <td>3</td>\n",
       "      <td>2.00</td>\n",
       "      <td>1680</td>\n",
       "      <td>8080</td>\n",
       "      <td>1.0</td>\n",
       "      <td>0.0</td>\n",
       "      <td>0.0</td>\n",
       "      <td>...</td>\n",
       "      <td>8</td>\n",
       "      <td>1680</td>\n",
       "      <td>0.0</td>\n",
       "      <td>1987</td>\n",
       "      <td>0.0</td>\n",
       "      <td>98074</td>\n",
       "      <td>47.6168</td>\n",
       "      <td>-122.045</td>\n",
       "      <td>1800</td>\n",
       "      <td>7503</td>\n",
       "    </tr>\n",
       "    <tr>\n",
       "      <th>5</th>\n",
       "      <td>7237550310</td>\n",
       "      <td>5/12/2014</td>\n",
       "      <td>1230000.0</td>\n",
       "      <td>4</td>\n",
       "      <td>4.50</td>\n",
       "      <td>5420</td>\n",
       "      <td>101930</td>\n",
       "      <td>1.0</td>\n",
       "      <td>0.0</td>\n",
       "      <td>0.0</td>\n",
       "      <td>...</td>\n",
       "      <td>11</td>\n",
       "      <td>3890</td>\n",
       "      <td>1530.0</td>\n",
       "      <td>2001</td>\n",
       "      <td>0.0</td>\n",
       "      <td>98053</td>\n",
       "      <td>47.6561</td>\n",
       "      <td>-122.005</td>\n",
       "      <td>4760</td>\n",
       "      <td>101930</td>\n",
       "    </tr>\n",
       "    <tr>\n",
       "      <th>6</th>\n",
       "      <td>1321400060</td>\n",
       "      <td>6/27/2014</td>\n",
       "      <td>257500.0</td>\n",
       "      <td>3</td>\n",
       "      <td>2.25</td>\n",
       "      <td>1715</td>\n",
       "      <td>6819</td>\n",
       "      <td>2.0</td>\n",
       "      <td>0.0</td>\n",
       "      <td>0.0</td>\n",
       "      <td>...</td>\n",
       "      <td>7</td>\n",
       "      <td>1715</td>\n",
       "      <td>?</td>\n",
       "      <td>1995</td>\n",
       "      <td>0.0</td>\n",
       "      <td>98003</td>\n",
       "      <td>47.3097</td>\n",
       "      <td>-122.327</td>\n",
       "      <td>2238</td>\n",
       "      <td>6819</td>\n",
       "    </tr>\n",
       "    <tr>\n",
       "      <th>7</th>\n",
       "      <td>2008000270</td>\n",
       "      <td>1/15/2015</td>\n",
       "      <td>291850.0</td>\n",
       "      <td>3</td>\n",
       "      <td>1.50</td>\n",
       "      <td>1060</td>\n",
       "      <td>9711</td>\n",
       "      <td>1.0</td>\n",
       "      <td>0.0</td>\n",
       "      <td>NaN</td>\n",
       "      <td>...</td>\n",
       "      <td>7</td>\n",
       "      <td>1060</td>\n",
       "      <td>0.0</td>\n",
       "      <td>1963</td>\n",
       "      <td>0.0</td>\n",
       "      <td>98198</td>\n",
       "      <td>47.4095</td>\n",
       "      <td>-122.315</td>\n",
       "      <td>1650</td>\n",
       "      <td>9711</td>\n",
       "    </tr>\n",
       "    <tr>\n",
       "      <th>8</th>\n",
       "      <td>2414600126</td>\n",
       "      <td>4/15/2015</td>\n",
       "      <td>229500.0</td>\n",
       "      <td>3</td>\n",
       "      <td>1.00</td>\n",
       "      <td>1780</td>\n",
       "      <td>7470</td>\n",
       "      <td>1.0</td>\n",
       "      <td>0.0</td>\n",
       "      <td>0.0</td>\n",
       "      <td>...</td>\n",
       "      <td>7</td>\n",
       "      <td>1050</td>\n",
       "      <td>730.0</td>\n",
       "      <td>1960</td>\n",
       "      <td>0.0</td>\n",
       "      <td>98146</td>\n",
       "      <td>47.5123</td>\n",
       "      <td>-122.337</td>\n",
       "      <td>1780</td>\n",
       "      <td>8113</td>\n",
       "    </tr>\n",
       "    <tr>\n",
       "      <th>9</th>\n",
       "      <td>3793500160</td>\n",
       "      <td>3/12/2015</td>\n",
       "      <td>323000.0</td>\n",
       "      <td>3</td>\n",
       "      <td>2.50</td>\n",
       "      <td>1890</td>\n",
       "      <td>6560</td>\n",
       "      <td>2.0</td>\n",
       "      <td>0.0</td>\n",
       "      <td>0.0</td>\n",
       "      <td>...</td>\n",
       "      <td>7</td>\n",
       "      <td>1890</td>\n",
       "      <td>0.0</td>\n",
       "      <td>2003</td>\n",
       "      <td>0.0</td>\n",
       "      <td>98038</td>\n",
       "      <td>47.3684</td>\n",
       "      <td>-122.031</td>\n",
       "      <td>2390</td>\n",
       "      <td>7570</td>\n",
       "    </tr>\n",
       "  </tbody>\n",
       "</table>\n",
       "<p>10 rows × 21 columns</p>\n",
       "</div>"
      ],
      "text/plain": [
       "           id        date      price  bedrooms  bathrooms  sqft_living  \\\n",
       "0  7129300520  10/13/2014   221900.0         3       1.00         1180   \n",
       "1  6414100192   12/9/2014   538000.0         3       2.25         2570   \n",
       "2  5631500400   2/25/2015   180000.0         2       1.00          770   \n",
       "3  2487200875   12/9/2014   604000.0         4       3.00         1960   \n",
       "4  1954400510   2/18/2015   510000.0         3       2.00         1680   \n",
       "5  7237550310   5/12/2014  1230000.0         4       4.50         5420   \n",
       "6  1321400060   6/27/2014   257500.0         3       2.25         1715   \n",
       "7  2008000270   1/15/2015   291850.0         3       1.50         1060   \n",
       "8  2414600126   4/15/2015   229500.0         3       1.00         1780   \n",
       "9  3793500160   3/12/2015   323000.0         3       2.50         1890   \n",
       "\n",
       "   sqft_lot  floors  waterfront  view  ...  grade  sqft_above  sqft_basement  \\\n",
       "0      5650     1.0         NaN   0.0  ...      7        1180            0.0   \n",
       "1      7242     2.0         0.0   0.0  ...      7        2170          400.0   \n",
       "2     10000     1.0         0.0   0.0  ...      6         770            0.0   \n",
       "3      5000     1.0         0.0   0.0  ...      7        1050          910.0   \n",
       "4      8080     1.0         0.0   0.0  ...      8        1680            0.0   \n",
       "5    101930     1.0         0.0   0.0  ...     11        3890         1530.0   \n",
       "6      6819     2.0         0.0   0.0  ...      7        1715              ?   \n",
       "7      9711     1.0         0.0   NaN  ...      7        1060            0.0   \n",
       "8      7470     1.0         0.0   0.0  ...      7        1050          730.0   \n",
       "9      6560     2.0         0.0   0.0  ...      7        1890            0.0   \n",
       "\n",
       "  yr_built  yr_renovated  zipcode      lat     long  sqft_living15  sqft_lot15  \n",
       "0     1955           0.0    98178  47.5112 -122.257           1340        5650  \n",
       "1     1951        1991.0    98125  47.7210 -122.319           1690        7639  \n",
       "2     1933           NaN    98028  47.7379 -122.233           2720        8062  \n",
       "3     1965           0.0    98136  47.5208 -122.393           1360        5000  \n",
       "4     1987           0.0    98074  47.6168 -122.045           1800        7503  \n",
       "5     2001           0.0    98053  47.6561 -122.005           4760      101930  \n",
       "6     1995           0.0    98003  47.3097 -122.327           2238        6819  \n",
       "7     1963           0.0    98198  47.4095 -122.315           1650        9711  \n",
       "8     1960           0.0    98146  47.5123 -122.337           1780        8113  \n",
       "9     2003           0.0    98038  47.3684 -122.031           2390        7570  \n",
       "\n",
       "[10 rows x 21 columns]"
      ]
     },
     "execution_count": 231,
     "metadata": {},
     "output_type": "execute_result"
    }
   ],
   "source": [
    "df = pd.read_csv('data/kc_house_data.csv')\n",
    "df.head(10)"
   ]
  },
  {
   "cell_type": "code",
   "execution_count": null,
   "metadata": {
    "ExecuteTime": {
     "end_time": "2021-01-21T01:07:29.994757Z",
     "start_time": "2021-01-21T01:07:29.956974Z"
    }
   },
   "outputs": [],
   "source": []
  },
  {
   "cell_type": "markdown",
   "metadata": {
    "ExecuteTime": {
     "end_time": "2021-01-19T18:18:48.643167Z",
     "start_time": "2021-01-19T18:18:48.628188Z"
    }
   },
   "source": [
    "# Column Names and descriptions for Kings County Data Set\n",
    "* **id** - unique identified for a house\n",
    "* **dateDate** - house was sold\n",
    "* **pricePrice** -  is prediction target\n",
    "* **bedroomsNumber** -  of Bedrooms/House\n",
    "* **bathroomsNumber** -  of bathrooms/bedrooms\n",
    "* **sqft_livingsquare** -  footage of the home\n",
    "* **sqft_lotsquare** -  footage of the lot\n",
    "* **floorsTotal** -  floors (levels) in house\n",
    "* **waterfront** - House which has a view to a waterfront\n",
    "* **view** - Has been viewed\n",
    "* **condition** - How good the condition is ( Overall )\n",
    "* **grade** - overall grade given to the housing unit, based on King County grading system\n",
    "* **sqft_above** - square footage of house apart from basement\n",
    "* **sqft_basement** - square footage of the basement\n",
    "* **yr_built** - Built Year\n",
    "* **yr_renovated** - Year when house was renovated\n",
    "* **zipcode** - zip\n",
    "* **lat** - Latitude coordinate\n",
    "* **long** - Longitude coordinate\n",
    "* **sqft_living15** - The square footage of interior housing living space for the nearest 15 neighbors\n",
    "* **sqft_lot15** - The square footage of the land lots of the nearest 15 neighbors\n"
   ]
  },
  {
   "cell_type": "code",
   "execution_count": 232,
   "metadata": {
    "ExecuteTime": {
     "end_time": "2021-01-26T05:50:28.142047Z",
     "start_time": "2021-01-26T05:50:28.131566Z"
    }
   },
   "outputs": [
    {
     "name": "stdout",
     "output_type": "stream",
     "text": [
      "<class 'pandas.core.frame.DataFrame'>\n",
      "RangeIndex: 21597 entries, 0 to 21596\n",
      "Data columns (total 21 columns):\n",
      "id               21597 non-null int64\n",
      "date             21597 non-null object\n",
      "price            21597 non-null float64\n",
      "bedrooms         21597 non-null int64\n",
      "bathrooms        21597 non-null float64\n",
      "sqft_living      21597 non-null int64\n",
      "sqft_lot         21597 non-null int64\n",
      "floors           21597 non-null float64\n",
      "waterfront       19221 non-null float64\n",
      "view             21534 non-null float64\n",
      "condition        21597 non-null int64\n",
      "grade            21597 non-null int64\n",
      "sqft_above       21597 non-null int64\n",
      "sqft_basement    21597 non-null object\n",
      "yr_built         21597 non-null int64\n",
      "yr_renovated     17755 non-null float64\n",
      "zipcode          21597 non-null int64\n",
      "lat              21597 non-null float64\n",
      "long             21597 non-null float64\n",
      "sqft_living15    21597 non-null int64\n",
      "sqft_lot15       21597 non-null int64\n",
      "dtypes: float64(8), int64(11), object(2)\n",
      "memory usage: 3.5+ MB\n"
     ]
    }
   ],
   "source": [
    "# looking at the types of data \n",
    "\n",
    "df.info()"
   ]
  },
  {
   "cell_type": "code",
   "execution_count": 233,
   "metadata": {
    "ExecuteTime": {
     "end_time": "2021-01-26T05:50:29.045532Z",
     "start_time": "2021-01-26T05:50:29.036451Z"
    }
   },
   "outputs": [
    {
     "data": {
      "text/plain": [
       "id                  0\n",
       "date                0\n",
       "price               0\n",
       "bedrooms            0\n",
       "bathrooms           0\n",
       "sqft_living         0\n",
       "sqft_lot            0\n",
       "floors              0\n",
       "waterfront       2376\n",
       "view               63\n",
       "condition           0\n",
       "grade               0\n",
       "sqft_above          0\n",
       "sqft_basement       0\n",
       "yr_built            0\n",
       "yr_renovated     3842\n",
       "zipcode             0\n",
       "lat                 0\n",
       "long                0\n",
       "sqft_living15       0\n",
       "sqft_lot15          0\n",
       "dtype: int64"
      ]
     },
     "execution_count": 233,
     "metadata": {},
     "output_type": "execute_result"
    }
   ],
   "source": [
    "# see if there are any null values\n",
    "df.isna().sum()"
   ]
  },
  {
   "cell_type": "code",
   "execution_count": 234,
   "metadata": {
    "ExecuteTime": {
     "end_time": "2021-01-26T05:50:30.224077Z",
     "start_time": "2021-01-26T05:50:30.220782Z"
    }
   },
   "outputs": [],
   "source": [
    "# dropping columns that is recommended to drop for me\n",
    "#\n",
    "#"
   ]
  },
  {
   "cell_type": "code",
   "execution_count": 235,
   "metadata": {
    "ExecuteTime": {
     "end_time": "2021-01-26T05:50:31.135957Z",
     "start_time": "2021-01-26T05:50:31.131734Z"
    }
   },
   "outputs": [],
   "source": [
    "df = df.drop(columns = ['view', 'sqft_above', 'sqft_basement', 'yr_renovated',\n",
    "                        'sqft_living15', 'sqft_lot15'])"
   ]
  },
  {
   "cell_type": "code",
   "execution_count": 236,
   "metadata": {
    "ExecuteTime": {
     "end_time": "2021-01-26T05:50:34.497666Z",
     "start_time": "2021-01-26T05:50:34.484214Z"
    }
   },
   "outputs": [
    {
     "data": {
      "text/html": [
       "<div>\n",
       "<style scoped>\n",
       "    .dataframe tbody tr th:only-of-type {\n",
       "        vertical-align: middle;\n",
       "    }\n",
       "\n",
       "    .dataframe tbody tr th {\n",
       "        vertical-align: top;\n",
       "    }\n",
       "\n",
       "    .dataframe thead th {\n",
       "        text-align: right;\n",
       "    }\n",
       "</style>\n",
       "<table border=\"1\" class=\"dataframe\">\n",
       "  <thead>\n",
       "    <tr style=\"text-align: right;\">\n",
       "      <th></th>\n",
       "      <th>id</th>\n",
       "      <th>date</th>\n",
       "      <th>price</th>\n",
       "      <th>bedrooms</th>\n",
       "      <th>bathrooms</th>\n",
       "      <th>sqft_living</th>\n",
       "      <th>sqft_lot</th>\n",
       "      <th>floors</th>\n",
       "      <th>waterfront</th>\n",
       "      <th>condition</th>\n",
       "      <th>grade</th>\n",
       "      <th>yr_built</th>\n",
       "      <th>zipcode</th>\n",
       "      <th>lat</th>\n",
       "      <th>long</th>\n",
       "    </tr>\n",
       "  </thead>\n",
       "  <tbody>\n",
       "    <tr>\n",
       "      <th>0</th>\n",
       "      <td>7129300520</td>\n",
       "      <td>10/13/2014</td>\n",
       "      <td>221900.0</td>\n",
       "      <td>3</td>\n",
       "      <td>1.00</td>\n",
       "      <td>1180</td>\n",
       "      <td>5650</td>\n",
       "      <td>1.0</td>\n",
       "      <td>NaN</td>\n",
       "      <td>3</td>\n",
       "      <td>7</td>\n",
       "      <td>1955</td>\n",
       "      <td>98178</td>\n",
       "      <td>47.5112</td>\n",
       "      <td>-122.257</td>\n",
       "    </tr>\n",
       "    <tr>\n",
       "      <th>1</th>\n",
       "      <td>6414100192</td>\n",
       "      <td>12/9/2014</td>\n",
       "      <td>538000.0</td>\n",
       "      <td>3</td>\n",
       "      <td>2.25</td>\n",
       "      <td>2570</td>\n",
       "      <td>7242</td>\n",
       "      <td>2.0</td>\n",
       "      <td>0.0</td>\n",
       "      <td>3</td>\n",
       "      <td>7</td>\n",
       "      <td>1951</td>\n",
       "      <td>98125</td>\n",
       "      <td>47.7210</td>\n",
       "      <td>-122.319</td>\n",
       "    </tr>\n",
       "    <tr>\n",
       "      <th>2</th>\n",
       "      <td>5631500400</td>\n",
       "      <td>2/25/2015</td>\n",
       "      <td>180000.0</td>\n",
       "      <td>2</td>\n",
       "      <td>1.00</td>\n",
       "      <td>770</td>\n",
       "      <td>10000</td>\n",
       "      <td>1.0</td>\n",
       "      <td>0.0</td>\n",
       "      <td>3</td>\n",
       "      <td>6</td>\n",
       "      <td>1933</td>\n",
       "      <td>98028</td>\n",
       "      <td>47.7379</td>\n",
       "      <td>-122.233</td>\n",
       "    </tr>\n",
       "    <tr>\n",
       "      <th>3</th>\n",
       "      <td>2487200875</td>\n",
       "      <td>12/9/2014</td>\n",
       "      <td>604000.0</td>\n",
       "      <td>4</td>\n",
       "      <td>3.00</td>\n",
       "      <td>1960</td>\n",
       "      <td>5000</td>\n",
       "      <td>1.0</td>\n",
       "      <td>0.0</td>\n",
       "      <td>5</td>\n",
       "      <td>7</td>\n",
       "      <td>1965</td>\n",
       "      <td>98136</td>\n",
       "      <td>47.5208</td>\n",
       "      <td>-122.393</td>\n",
       "    </tr>\n",
       "    <tr>\n",
       "      <th>4</th>\n",
       "      <td>1954400510</td>\n",
       "      <td>2/18/2015</td>\n",
       "      <td>510000.0</td>\n",
       "      <td>3</td>\n",
       "      <td>2.00</td>\n",
       "      <td>1680</td>\n",
       "      <td>8080</td>\n",
       "      <td>1.0</td>\n",
       "      <td>0.0</td>\n",
       "      <td>3</td>\n",
       "      <td>8</td>\n",
       "      <td>1987</td>\n",
       "      <td>98074</td>\n",
       "      <td>47.6168</td>\n",
       "      <td>-122.045</td>\n",
       "    </tr>\n",
       "  </tbody>\n",
       "</table>\n",
       "</div>"
      ],
      "text/plain": [
       "           id        date     price  bedrooms  bathrooms  sqft_living  \\\n",
       "0  7129300520  10/13/2014  221900.0         3       1.00         1180   \n",
       "1  6414100192   12/9/2014  538000.0         3       2.25         2570   \n",
       "2  5631500400   2/25/2015  180000.0         2       1.00          770   \n",
       "3  2487200875   12/9/2014  604000.0         4       3.00         1960   \n",
       "4  1954400510   2/18/2015  510000.0         3       2.00         1680   \n",
       "\n",
       "   sqft_lot  floors  waterfront  condition  grade  yr_built  zipcode      lat  \\\n",
       "0      5650     1.0         NaN          3      7      1955    98178  47.5112   \n",
       "1      7242     2.0         0.0          3      7      1951    98125  47.7210   \n",
       "2     10000     1.0         0.0          3      6      1933    98028  47.7379   \n",
       "3      5000     1.0         0.0          5      7      1965    98136  47.5208   \n",
       "4      8080     1.0         0.0          3      8      1987    98074  47.6168   \n",
       "\n",
       "      long  \n",
       "0 -122.257  \n",
       "1 -122.319  \n",
       "2 -122.233  \n",
       "3 -122.393  \n",
       "4 -122.045  "
      ]
     },
     "execution_count": 236,
     "metadata": {},
     "output_type": "execute_result"
    }
   ],
   "source": [
    "df.head()"
   ]
  },
  {
   "cell_type": "code",
   "execution_count": 237,
   "metadata": {
    "ExecuteTime": {
     "end_time": "2021-01-26T05:50:37.068016Z",
     "start_time": "2021-01-26T05:50:37.060032Z"
    }
   },
   "outputs": [
    {
     "data": {
      "text/plain": [
       "id                0\n",
       "date              0\n",
       "price             0\n",
       "bedrooms          0\n",
       "bathrooms         0\n",
       "sqft_living       0\n",
       "sqft_lot          0\n",
       "floors            0\n",
       "waterfront     2376\n",
       "condition         0\n",
       "grade             0\n",
       "yr_built          0\n",
       "zipcode           0\n",
       "lat               0\n",
       "long              0\n",
       "dtype: int64"
      ]
     },
     "execution_count": 237,
     "metadata": {},
     "output_type": "execute_result"
    }
   ],
   "source": [
    "df.isna().sum()"
   ]
  },
  {
   "cell_type": "code",
   "execution_count": 238,
   "metadata": {
    "ExecuteTime": {
     "end_time": "2021-01-26T05:50:37.943932Z",
     "start_time": "2021-01-26T05:50:37.941112Z"
    }
   },
   "outputs": [],
   "source": [
    "# cleaning waterfront\n",
    "#"
   ]
  },
  {
   "cell_type": "code",
   "execution_count": 239,
   "metadata": {
    "ExecuteTime": {
     "end_time": "2021-01-26T05:50:38.681313Z",
     "start_time": "2021-01-26T05:50:38.676384Z"
    }
   },
   "outputs": [
    {
     "data": {
      "text/plain": [
       "array([nan,  0.,  1.])"
      ]
     },
     "execution_count": 239,
     "metadata": {},
     "output_type": "execute_result"
    }
   ],
   "source": [
    "# seeing what kind of values it has\n",
    "df.waterfront.unique()"
   ]
  },
  {
   "cell_type": "code",
   "execution_count": 240,
   "metadata": {
    "ExecuteTime": {
     "end_time": "2021-01-26T05:50:39.251550Z",
     "start_time": "2021-01-26T05:50:39.244392Z"
    }
   },
   "outputs": [
    {
     "data": {
      "text/plain": [
       "0.0    19075\n",
       "1.0      146\n",
       "Name: waterfront, dtype: int64"
      ]
     },
     "execution_count": 240,
     "metadata": {},
     "output_type": "execute_result"
    }
   ],
   "source": [
    "df.waterfront.value_counts()"
   ]
  },
  {
   "cell_type": "code",
   "execution_count": 241,
   "metadata": {
    "ExecuteTime": {
     "end_time": "2021-01-26T05:50:39.912861Z",
     "start_time": "2021-01-26T05:50:39.907037Z"
    }
   },
   "outputs": [
    {
     "data": {
      "text/plain": [
       "2376"
      ]
     },
     "execution_count": 241,
     "metadata": {},
     "output_type": "execute_result"
    }
   ],
   "source": [
    "df.waterfront.isna().sum()"
   ]
  },
  {
   "cell_type": "code",
   "execution_count": 242,
   "metadata": {
    "ExecuteTime": {
     "end_time": "2021-01-26T05:50:40.633440Z",
     "start_time": "2021-01-26T05:50:40.628990Z"
    }
   },
   "outputs": [],
   "source": [
    "# replaceing the nan values with 0\n",
    "df.waterfront = df.waterfront.fillna(0)"
   ]
  },
  {
   "cell_type": "code",
   "execution_count": 243,
   "metadata": {
    "ExecuteTime": {
     "end_time": "2021-01-26T05:50:41.265496Z",
     "start_time": "2021-01-26T05:50:41.261084Z"
    }
   },
   "outputs": [
    {
     "data": {
      "text/plain": [
       "array([0., 1.])"
      ]
     },
     "execution_count": 243,
     "metadata": {},
     "output_type": "execute_result"
    }
   ],
   "source": [
    "# making sure it worked\n",
    "\n",
    "df.waterfront.unique()"
   ]
  },
  {
   "cell_type": "code",
   "execution_count": 244,
   "metadata": {
    "ExecuteTime": {
     "end_time": "2021-01-26T05:50:41.955357Z",
     "start_time": "2021-01-26T05:50:41.949827Z"
    }
   },
   "outputs": [
    {
     "data": {
      "text/plain": [
       "0"
      ]
     },
     "execution_count": 244,
     "metadata": {},
     "output_type": "execute_result"
    }
   ],
   "source": [
    "\n",
    "df.waterfront.isna().sum()"
   ]
  },
  {
   "cell_type": "code",
   "execution_count": 245,
   "metadata": {
    "ExecuteTime": {
     "end_time": "2021-01-26T05:50:42.545207Z",
     "start_time": "2021-01-26T05:50:42.537699Z"
    }
   },
   "outputs": [
    {
     "data": {
      "text/plain": [
       "id             0\n",
       "date           0\n",
       "price          0\n",
       "bedrooms       0\n",
       "bathrooms      0\n",
       "sqft_living    0\n",
       "sqft_lot       0\n",
       "floors         0\n",
       "waterfront     0\n",
       "condition      0\n",
       "grade          0\n",
       "yr_built       0\n",
       "zipcode        0\n",
       "lat            0\n",
       "long           0\n",
       "dtype: int64"
      ]
     },
     "execution_count": 245,
     "metadata": {},
     "output_type": "execute_result"
    }
   ],
   "source": [
    "df.isna().sum()"
   ]
  },
  {
   "cell_type": "code",
   "execution_count": 246,
   "metadata": {
    "ExecuteTime": {
     "end_time": "2021-01-26T05:50:43.141641Z",
     "start_time": "2021-01-26T05:50:43.138205Z"
    }
   },
   "outputs": [],
   "source": [
    "#\n",
    "#\n",
    "# checking to see if there are any duplicate values"
   ]
  },
  {
   "cell_type": "code",
   "execution_count": 247,
   "metadata": {
    "ExecuteTime": {
     "end_time": "2021-01-26T05:50:43.933012Z",
     "start_time": "2021-01-26T05:50:43.916180Z"
    }
   },
   "outputs": [
    {
     "data": {
      "text/plain": [
       "0"
      ]
     },
     "execution_count": 247,
     "metadata": {},
     "output_type": "execute_result"
    }
   ],
   "source": [
    "df.duplicated().sum()"
   ]
  },
  {
   "cell_type": "code",
   "execution_count": 248,
   "metadata": {
    "ExecuteTime": {
     "end_time": "2021-01-26T05:50:44.494828Z",
     "start_time": "2021-01-26T05:50:44.490951Z"
    }
   },
   "outputs": [],
   "source": [
    "#\n",
    "#\n",
    "# looking at the average house prices"
   ]
  },
  {
   "cell_type": "code",
   "execution_count": 249,
   "metadata": {
    "ExecuteTime": {
     "end_time": "2021-01-26T05:50:45.109592Z",
     "start_time": "2021-01-26T05:50:45.038543Z"
    }
   },
   "outputs": [
    {
     "data": {
      "text/html": [
       "<div>\n",
       "<style scoped>\n",
       "    .dataframe tbody tr th:only-of-type {\n",
       "        vertical-align: middle;\n",
       "    }\n",
       "\n",
       "    .dataframe tbody tr th {\n",
       "        vertical-align: top;\n",
       "    }\n",
       "\n",
       "    .dataframe thead th {\n",
       "        text-align: right;\n",
       "    }\n",
       "</style>\n",
       "<table border=\"1\" class=\"dataframe\">\n",
       "  <thead>\n",
       "    <tr style=\"text-align: right;\">\n",
       "      <th></th>\n",
       "      <th>id</th>\n",
       "      <th>price</th>\n",
       "      <th>bedrooms</th>\n",
       "      <th>bathrooms</th>\n",
       "      <th>sqft_living</th>\n",
       "      <th>sqft_lot</th>\n",
       "      <th>floors</th>\n",
       "      <th>waterfront</th>\n",
       "      <th>condition</th>\n",
       "      <th>grade</th>\n",
       "      <th>yr_built</th>\n",
       "      <th>zipcode</th>\n",
       "      <th>lat</th>\n",
       "      <th>long</th>\n",
       "    </tr>\n",
       "  </thead>\n",
       "  <tbody>\n",
       "    <tr>\n",
       "      <th>count</th>\n",
       "      <td>2.159700e+04</td>\n",
       "      <td>2.159700e+04</td>\n",
       "      <td>21597.000000</td>\n",
       "      <td>21597.000000</td>\n",
       "      <td>21597.000000</td>\n",
       "      <td>2.159700e+04</td>\n",
       "      <td>21597.000000</td>\n",
       "      <td>21597.000000</td>\n",
       "      <td>21597.000000</td>\n",
       "      <td>21597.000000</td>\n",
       "      <td>21597.000000</td>\n",
       "      <td>21597.000000</td>\n",
       "      <td>21597.000000</td>\n",
       "      <td>21597.000000</td>\n",
       "    </tr>\n",
       "    <tr>\n",
       "      <th>mean</th>\n",
       "      <td>4.580474e+09</td>\n",
       "      <td>5.402966e+05</td>\n",
       "      <td>3.373200</td>\n",
       "      <td>2.115826</td>\n",
       "      <td>2080.321850</td>\n",
       "      <td>1.509941e+04</td>\n",
       "      <td>1.494096</td>\n",
       "      <td>0.006760</td>\n",
       "      <td>3.409825</td>\n",
       "      <td>7.657915</td>\n",
       "      <td>1970.999676</td>\n",
       "      <td>98077.951845</td>\n",
       "      <td>47.560093</td>\n",
       "      <td>-122.213982</td>\n",
       "    </tr>\n",
       "    <tr>\n",
       "      <th>std</th>\n",
       "      <td>2.876736e+09</td>\n",
       "      <td>3.673681e+05</td>\n",
       "      <td>0.926299</td>\n",
       "      <td>0.768984</td>\n",
       "      <td>918.106125</td>\n",
       "      <td>4.141264e+04</td>\n",
       "      <td>0.539683</td>\n",
       "      <td>0.081944</td>\n",
       "      <td>0.650546</td>\n",
       "      <td>1.173200</td>\n",
       "      <td>29.375234</td>\n",
       "      <td>53.513072</td>\n",
       "      <td>0.138552</td>\n",
       "      <td>0.140724</td>\n",
       "    </tr>\n",
       "    <tr>\n",
       "      <th>min</th>\n",
       "      <td>1.000102e+06</td>\n",
       "      <td>7.800000e+04</td>\n",
       "      <td>1.000000</td>\n",
       "      <td>0.500000</td>\n",
       "      <td>370.000000</td>\n",
       "      <td>5.200000e+02</td>\n",
       "      <td>1.000000</td>\n",
       "      <td>0.000000</td>\n",
       "      <td>1.000000</td>\n",
       "      <td>3.000000</td>\n",
       "      <td>1900.000000</td>\n",
       "      <td>98001.000000</td>\n",
       "      <td>47.155900</td>\n",
       "      <td>-122.519000</td>\n",
       "    </tr>\n",
       "    <tr>\n",
       "      <th>25%</th>\n",
       "      <td>2.123049e+09</td>\n",
       "      <td>3.220000e+05</td>\n",
       "      <td>3.000000</td>\n",
       "      <td>1.750000</td>\n",
       "      <td>1430.000000</td>\n",
       "      <td>5.040000e+03</td>\n",
       "      <td>1.000000</td>\n",
       "      <td>0.000000</td>\n",
       "      <td>3.000000</td>\n",
       "      <td>7.000000</td>\n",
       "      <td>1951.000000</td>\n",
       "      <td>98033.000000</td>\n",
       "      <td>47.471100</td>\n",
       "      <td>-122.328000</td>\n",
       "    </tr>\n",
       "    <tr>\n",
       "      <th>50%</th>\n",
       "      <td>3.904930e+09</td>\n",
       "      <td>4.500000e+05</td>\n",
       "      <td>3.000000</td>\n",
       "      <td>2.250000</td>\n",
       "      <td>1910.000000</td>\n",
       "      <td>7.618000e+03</td>\n",
       "      <td>1.500000</td>\n",
       "      <td>0.000000</td>\n",
       "      <td>3.000000</td>\n",
       "      <td>7.000000</td>\n",
       "      <td>1975.000000</td>\n",
       "      <td>98065.000000</td>\n",
       "      <td>47.571800</td>\n",
       "      <td>-122.231000</td>\n",
       "    </tr>\n",
       "    <tr>\n",
       "      <th>75%</th>\n",
       "      <td>7.308900e+09</td>\n",
       "      <td>6.450000e+05</td>\n",
       "      <td>4.000000</td>\n",
       "      <td>2.500000</td>\n",
       "      <td>2550.000000</td>\n",
       "      <td>1.068500e+04</td>\n",
       "      <td>2.000000</td>\n",
       "      <td>0.000000</td>\n",
       "      <td>4.000000</td>\n",
       "      <td>8.000000</td>\n",
       "      <td>1997.000000</td>\n",
       "      <td>98118.000000</td>\n",
       "      <td>47.678000</td>\n",
       "      <td>-122.125000</td>\n",
       "    </tr>\n",
       "    <tr>\n",
       "      <th>max</th>\n",
       "      <td>9.900000e+09</td>\n",
       "      <td>7.700000e+06</td>\n",
       "      <td>33.000000</td>\n",
       "      <td>8.000000</td>\n",
       "      <td>13540.000000</td>\n",
       "      <td>1.651359e+06</td>\n",
       "      <td>3.500000</td>\n",
       "      <td>1.000000</td>\n",
       "      <td>5.000000</td>\n",
       "      <td>13.000000</td>\n",
       "      <td>2015.000000</td>\n",
       "      <td>98199.000000</td>\n",
       "      <td>47.777600</td>\n",
       "      <td>-121.315000</td>\n",
       "    </tr>\n",
       "  </tbody>\n",
       "</table>\n",
       "</div>"
      ],
      "text/plain": [
       "                 id         price      bedrooms     bathrooms   sqft_living  \\\n",
       "count  2.159700e+04  2.159700e+04  21597.000000  21597.000000  21597.000000   \n",
       "mean   4.580474e+09  5.402966e+05      3.373200      2.115826   2080.321850   \n",
       "std    2.876736e+09  3.673681e+05      0.926299      0.768984    918.106125   \n",
       "min    1.000102e+06  7.800000e+04      1.000000      0.500000    370.000000   \n",
       "25%    2.123049e+09  3.220000e+05      3.000000      1.750000   1430.000000   \n",
       "50%    3.904930e+09  4.500000e+05      3.000000      2.250000   1910.000000   \n",
       "75%    7.308900e+09  6.450000e+05      4.000000      2.500000   2550.000000   \n",
       "max    9.900000e+09  7.700000e+06     33.000000      8.000000  13540.000000   \n",
       "\n",
       "           sqft_lot        floors    waterfront     condition         grade  \\\n",
       "count  2.159700e+04  21597.000000  21597.000000  21597.000000  21597.000000   \n",
       "mean   1.509941e+04      1.494096      0.006760      3.409825      7.657915   \n",
       "std    4.141264e+04      0.539683      0.081944      0.650546      1.173200   \n",
       "min    5.200000e+02      1.000000      0.000000      1.000000      3.000000   \n",
       "25%    5.040000e+03      1.000000      0.000000      3.000000      7.000000   \n",
       "50%    7.618000e+03      1.500000      0.000000      3.000000      7.000000   \n",
       "75%    1.068500e+04      2.000000      0.000000      4.000000      8.000000   \n",
       "max    1.651359e+06      3.500000      1.000000      5.000000     13.000000   \n",
       "\n",
       "           yr_built       zipcode           lat          long  \n",
       "count  21597.000000  21597.000000  21597.000000  21597.000000  \n",
       "mean    1970.999676  98077.951845     47.560093   -122.213982  \n",
       "std       29.375234     53.513072      0.138552      0.140724  \n",
       "min     1900.000000  98001.000000     47.155900   -122.519000  \n",
       "25%     1951.000000  98033.000000     47.471100   -122.328000  \n",
       "50%     1975.000000  98065.000000     47.571800   -122.231000  \n",
       "75%     1997.000000  98118.000000     47.678000   -122.125000  \n",
       "max     2015.000000  98199.000000     47.777600   -121.315000  "
      ]
     },
     "execution_count": 249,
     "metadata": {},
     "output_type": "execute_result"
    }
   ],
   "source": [
    "df.describe()"
   ]
  },
  {
   "cell_type": "code",
   "execution_count": 250,
   "metadata": {
    "ExecuteTime": {
     "end_time": "2021-01-26T05:50:45.564787Z",
     "start_time": "2021-01-26T05:50:45.562435Z"
    }
   },
   "outputs": [],
   "source": [
    "#\n",
    "# removing the houses that cost more than $850,000 so i can look at starter homes"
   ]
  },
  {
   "cell_type": "code",
   "execution_count": 251,
   "metadata": {
    "ExecuteTime": {
     "end_time": "2021-01-26T05:50:46.253718Z",
     "start_time": "2021-01-26T05:50:46.235189Z"
    }
   },
   "outputs": [
    {
     "data": {
      "text/html": [
       "<div>\n",
       "<style scoped>\n",
       "    .dataframe tbody tr th:only-of-type {\n",
       "        vertical-align: middle;\n",
       "    }\n",
       "\n",
       "    .dataframe tbody tr th {\n",
       "        vertical-align: top;\n",
       "    }\n",
       "\n",
       "    .dataframe thead th {\n",
       "        text-align: right;\n",
       "    }\n",
       "</style>\n",
       "<table border=\"1\" class=\"dataframe\">\n",
       "  <thead>\n",
       "    <tr style=\"text-align: right;\">\n",
       "      <th></th>\n",
       "      <th>id</th>\n",
       "      <th>date</th>\n",
       "      <th>price</th>\n",
       "      <th>bedrooms</th>\n",
       "      <th>bathrooms</th>\n",
       "      <th>sqft_living</th>\n",
       "      <th>sqft_lot</th>\n",
       "      <th>floors</th>\n",
       "      <th>waterfront</th>\n",
       "      <th>condition</th>\n",
       "      <th>grade</th>\n",
       "      <th>yr_built</th>\n",
       "      <th>zipcode</th>\n",
       "      <th>lat</th>\n",
       "      <th>long</th>\n",
       "    </tr>\n",
       "  </thead>\n",
       "  <tbody>\n",
       "    <tr>\n",
       "      <th>0</th>\n",
       "      <td>7129300520</td>\n",
       "      <td>10/13/2014</td>\n",
       "      <td>221900.0</td>\n",
       "      <td>3</td>\n",
       "      <td>1.00</td>\n",
       "      <td>1180</td>\n",
       "      <td>5650</td>\n",
       "      <td>1.0</td>\n",
       "      <td>0.0</td>\n",
       "      <td>3</td>\n",
       "      <td>7</td>\n",
       "      <td>1955</td>\n",
       "      <td>98178</td>\n",
       "      <td>47.5112</td>\n",
       "      <td>-122.257</td>\n",
       "    </tr>\n",
       "    <tr>\n",
       "      <th>1</th>\n",
       "      <td>6414100192</td>\n",
       "      <td>12/9/2014</td>\n",
       "      <td>538000.0</td>\n",
       "      <td>3</td>\n",
       "      <td>2.25</td>\n",
       "      <td>2570</td>\n",
       "      <td>7242</td>\n",
       "      <td>2.0</td>\n",
       "      <td>0.0</td>\n",
       "      <td>3</td>\n",
       "      <td>7</td>\n",
       "      <td>1951</td>\n",
       "      <td>98125</td>\n",
       "      <td>47.7210</td>\n",
       "      <td>-122.319</td>\n",
       "    </tr>\n",
       "    <tr>\n",
       "      <th>2</th>\n",
       "      <td>5631500400</td>\n",
       "      <td>2/25/2015</td>\n",
       "      <td>180000.0</td>\n",
       "      <td>2</td>\n",
       "      <td>1.00</td>\n",
       "      <td>770</td>\n",
       "      <td>10000</td>\n",
       "      <td>1.0</td>\n",
       "      <td>0.0</td>\n",
       "      <td>3</td>\n",
       "      <td>6</td>\n",
       "      <td>1933</td>\n",
       "      <td>98028</td>\n",
       "      <td>47.7379</td>\n",
       "      <td>-122.233</td>\n",
       "    </tr>\n",
       "    <tr>\n",
       "      <th>3</th>\n",
       "      <td>2487200875</td>\n",
       "      <td>12/9/2014</td>\n",
       "      <td>604000.0</td>\n",
       "      <td>4</td>\n",
       "      <td>3.00</td>\n",
       "      <td>1960</td>\n",
       "      <td>5000</td>\n",
       "      <td>1.0</td>\n",
       "      <td>0.0</td>\n",
       "      <td>5</td>\n",
       "      <td>7</td>\n",
       "      <td>1965</td>\n",
       "      <td>98136</td>\n",
       "      <td>47.5208</td>\n",
       "      <td>-122.393</td>\n",
       "    </tr>\n",
       "    <tr>\n",
       "      <th>4</th>\n",
       "      <td>1954400510</td>\n",
       "      <td>2/18/2015</td>\n",
       "      <td>510000.0</td>\n",
       "      <td>3</td>\n",
       "      <td>2.00</td>\n",
       "      <td>1680</td>\n",
       "      <td>8080</td>\n",
       "      <td>1.0</td>\n",
       "      <td>0.0</td>\n",
       "      <td>3</td>\n",
       "      <td>8</td>\n",
       "      <td>1987</td>\n",
       "      <td>98074</td>\n",
       "      <td>47.6168</td>\n",
       "      <td>-122.045</td>\n",
       "    </tr>\n",
       "  </tbody>\n",
       "</table>\n",
       "</div>"
      ],
      "text/plain": [
       "           id        date     price  bedrooms  bathrooms  sqft_living  \\\n",
       "0  7129300520  10/13/2014  221900.0         3       1.00         1180   \n",
       "1  6414100192   12/9/2014  538000.0         3       2.25         2570   \n",
       "2  5631500400   2/25/2015  180000.0         2       1.00          770   \n",
       "3  2487200875   12/9/2014  604000.0         4       3.00         1960   \n",
       "4  1954400510   2/18/2015  510000.0         3       2.00         1680   \n",
       "\n",
       "   sqft_lot  floors  waterfront  condition  grade  yr_built  zipcode      lat  \\\n",
       "0      5650     1.0         0.0          3      7      1955    98178  47.5112   \n",
       "1      7242     2.0         0.0          3      7      1951    98125  47.7210   \n",
       "2     10000     1.0         0.0          3      6      1933    98028  47.7379   \n",
       "3      5000     1.0         0.0          5      7      1965    98136  47.5208   \n",
       "4      8080     1.0         0.0          3      8      1987    98074  47.6168   \n",
       "\n",
       "      long  \n",
       "0 -122.257  \n",
       "1 -122.319  \n",
       "2 -122.233  \n",
       "3 -122.393  \n",
       "4 -122.045  "
      ]
     },
     "execution_count": 251,
     "metadata": {},
     "output_type": "execute_result"
    }
   ],
   "source": [
    "df_low_prices = df.drop(df[df.price > 850000].index)\n",
    "df_low_prices.head()"
   ]
  },
  {
   "cell_type": "code",
   "execution_count": null,
   "metadata": {
    "ExecuteTime": {
     "end_time": "2021-01-25T20:01:18.352716Z",
     "start_time": "2021-01-25T20:01:18.289613Z"
    }
   },
   "outputs": [],
   "source": []
  },
  {
   "cell_type": "code",
   "execution_count": 252,
   "metadata": {
    "ExecuteTime": {
     "end_time": "2021-01-26T05:50:47.762300Z",
     "start_time": "2021-01-26T05:50:47.748094Z"
    }
   },
   "outputs": [
    {
     "data": {
      "text/html": [
       "<div>\n",
       "<style scoped>\n",
       "    .dataframe tbody tr th:only-of-type {\n",
       "        vertical-align: middle;\n",
       "    }\n",
       "\n",
       "    .dataframe tbody tr th {\n",
       "        vertical-align: top;\n",
       "    }\n",
       "\n",
       "    .dataframe thead th {\n",
       "        text-align: right;\n",
       "    }\n",
       "</style>\n",
       "<table border=\"1\" class=\"dataframe\">\n",
       "  <thead>\n",
       "    <tr style=\"text-align: right;\">\n",
       "      <th></th>\n",
       "      <th>id</th>\n",
       "      <th>date</th>\n",
       "      <th>price</th>\n",
       "      <th>bedrooms</th>\n",
       "      <th>bathrooms</th>\n",
       "      <th>sqft_living</th>\n",
       "      <th>sqft_lot</th>\n",
       "      <th>floors</th>\n",
       "      <th>waterfront</th>\n",
       "      <th>condition</th>\n",
       "      <th>grade</th>\n",
       "      <th>yr_built</th>\n",
       "      <th>zipcode</th>\n",
       "      <th>lat</th>\n",
       "      <th>long</th>\n",
       "    </tr>\n",
       "  </thead>\n",
       "  <tbody>\n",
       "    <tr>\n",
       "      <th>0</th>\n",
       "      <td>7129300520</td>\n",
       "      <td>10/13/2014</td>\n",
       "      <td>221900.0</td>\n",
       "      <td>3</td>\n",
       "      <td>1.00</td>\n",
       "      <td>1180</td>\n",
       "      <td>5650</td>\n",
       "      <td>1.0</td>\n",
       "      <td>0.0</td>\n",
       "      <td>3</td>\n",
       "      <td>7</td>\n",
       "      <td>1955</td>\n",
       "      <td>98178</td>\n",
       "      <td>47.5112</td>\n",
       "      <td>-122.257</td>\n",
       "    </tr>\n",
       "    <tr>\n",
       "      <th>1</th>\n",
       "      <td>6414100192</td>\n",
       "      <td>12/9/2014</td>\n",
       "      <td>538000.0</td>\n",
       "      <td>3</td>\n",
       "      <td>2.25</td>\n",
       "      <td>2570</td>\n",
       "      <td>7242</td>\n",
       "      <td>2.0</td>\n",
       "      <td>0.0</td>\n",
       "      <td>3</td>\n",
       "      <td>7</td>\n",
       "      <td>1951</td>\n",
       "      <td>98125</td>\n",
       "      <td>47.7210</td>\n",
       "      <td>-122.319</td>\n",
       "    </tr>\n",
       "    <tr>\n",
       "      <th>2</th>\n",
       "      <td>5631500400</td>\n",
       "      <td>2/25/2015</td>\n",
       "      <td>180000.0</td>\n",
       "      <td>2</td>\n",
       "      <td>1.00</td>\n",
       "      <td>770</td>\n",
       "      <td>10000</td>\n",
       "      <td>1.0</td>\n",
       "      <td>0.0</td>\n",
       "      <td>3</td>\n",
       "      <td>6</td>\n",
       "      <td>1933</td>\n",
       "      <td>98028</td>\n",
       "      <td>47.7379</td>\n",
       "      <td>-122.233</td>\n",
       "    </tr>\n",
       "    <tr>\n",
       "      <th>3</th>\n",
       "      <td>2487200875</td>\n",
       "      <td>12/9/2014</td>\n",
       "      <td>604000.0</td>\n",
       "      <td>4</td>\n",
       "      <td>3.00</td>\n",
       "      <td>1960</td>\n",
       "      <td>5000</td>\n",
       "      <td>1.0</td>\n",
       "      <td>0.0</td>\n",
       "      <td>5</td>\n",
       "      <td>7</td>\n",
       "      <td>1965</td>\n",
       "      <td>98136</td>\n",
       "      <td>47.5208</td>\n",
       "      <td>-122.393</td>\n",
       "    </tr>\n",
       "    <tr>\n",
       "      <th>4</th>\n",
       "      <td>1954400510</td>\n",
       "      <td>2/18/2015</td>\n",
       "      <td>510000.0</td>\n",
       "      <td>3</td>\n",
       "      <td>2.00</td>\n",
       "      <td>1680</td>\n",
       "      <td>8080</td>\n",
       "      <td>1.0</td>\n",
       "      <td>0.0</td>\n",
       "      <td>3</td>\n",
       "      <td>8</td>\n",
       "      <td>1987</td>\n",
       "      <td>98074</td>\n",
       "      <td>47.6168</td>\n",
       "      <td>-122.045</td>\n",
       "    </tr>\n",
       "  </tbody>\n",
       "</table>\n",
       "</div>"
      ],
      "text/plain": [
       "           id        date     price  bedrooms  bathrooms  sqft_living  \\\n",
       "0  7129300520  10/13/2014  221900.0         3       1.00         1180   \n",
       "1  6414100192   12/9/2014  538000.0         3       2.25         2570   \n",
       "2  5631500400   2/25/2015  180000.0         2       1.00          770   \n",
       "3  2487200875   12/9/2014  604000.0         4       3.00         1960   \n",
       "4  1954400510   2/18/2015  510000.0         3       2.00         1680   \n",
       "\n",
       "   sqft_lot  floors  waterfront  condition  grade  yr_built  zipcode      lat  \\\n",
       "0      5650     1.0         0.0          3      7      1955    98178  47.5112   \n",
       "1      7242     2.0         0.0          3      7      1951    98125  47.7210   \n",
       "2     10000     1.0         0.0          3      6      1933    98028  47.7379   \n",
       "3      5000     1.0         0.0          5      7      1965    98136  47.5208   \n",
       "4      8080     1.0         0.0          3      8      1987    98074  47.6168   \n",
       "\n",
       "      long  \n",
       "0 -122.257  \n",
       "1 -122.319  \n",
       "2 -122.233  \n",
       "3 -122.393  \n",
       "4 -122.045  "
      ]
     },
     "execution_count": 252,
     "metadata": {},
     "output_type": "execute_result"
    }
   ],
   "source": [
    "df_low_prices.head()"
   ]
  },
  {
   "cell_type": "code",
   "execution_count": 253,
   "metadata": {
    "ExecuteTime": {
     "end_time": "2021-01-26T05:50:48.413392Z",
     "start_time": "2021-01-26T05:50:48.404010Z"
    }
   },
   "outputs": [
    {
     "data": {
      "text/plain": [
       "count     19165.000000\n",
       "mean     444937.455622\n",
       "std      171763.093232\n",
       "min       78000.000000\n",
       "25%      308000.000000\n",
       "50%      422120.000000\n",
       "75%      565000.000000\n",
       "max      850000.000000\n",
       "Name: price, dtype: float64"
      ]
     },
     "execution_count": 253,
     "metadata": {},
     "output_type": "execute_result"
    }
   ],
   "source": [
    "# looking at what the mean of the prices are now that we dropped the higher priced homes\n",
    "\n",
    "df_low_prices.price.describe()"
   ]
  },
  {
   "cell_type": "code",
   "execution_count": 254,
   "metadata": {
    "ExecuteTime": {
     "end_time": "2021-01-26T05:50:49.000496Z",
     "start_time": "2021-01-26T05:50:48.997380Z"
    }
   },
   "outputs": [],
   "source": [
    "#\n",
    "#\n",
    "# making a month and a year column so i can see what time of year is the best time \n",
    "# to buy a house\n",
    "# "
   ]
  },
  {
   "cell_type": "code",
   "execution_count": 255,
   "metadata": {
    "ExecuteTime": {
     "end_time": "2021-01-26T05:50:49.611451Z",
     "start_time": "2021-01-26T05:50:49.580878Z"
    }
   },
   "outputs": [],
   "source": [
    "df_low_prices['date_dateformat'] = pd.to_datetime(df_low_prices['date'])"
   ]
  },
  {
   "cell_type": "code",
   "execution_count": 256,
   "metadata": {
    "ExecuteTime": {
     "end_time": "2021-01-26T05:50:50.313686Z",
     "start_time": "2021-01-26T05:50:50.308598Z"
    }
   },
   "outputs": [],
   "source": [
    "df_low_prices['month'] = df_low_prices.date_dateformat.dt.month"
   ]
  },
  {
   "cell_type": "code",
   "execution_count": 257,
   "metadata": {
    "ExecuteTime": {
     "end_time": "2021-01-26T05:50:52.793789Z",
     "start_time": "2021-01-26T05:50:52.789200Z"
    }
   },
   "outputs": [],
   "source": [
    "df_low_prices['year'] = df_low_prices.date_dateformat.dt.year"
   ]
  },
  {
   "cell_type": "code",
   "execution_count": 258,
   "metadata": {
    "ExecuteTime": {
     "end_time": "2021-01-26T05:50:53.373975Z",
     "start_time": "2021-01-26T05:50:53.369268Z"
    }
   },
   "outputs": [],
   "source": [
    "df_low_prices['age_sold'] = df_low_prices['year'] - df_low_prices['yr_built']"
   ]
  },
  {
   "cell_type": "code",
   "execution_count": 259,
   "metadata": {
    "ExecuteTime": {
     "end_time": "2021-01-26T05:50:53.974066Z",
     "start_time": "2021-01-26T05:50:53.971115Z"
    }
   },
   "outputs": [],
   "source": [
    "#\n",
    "# looking at the average age, youngest age and the oldest age of houses sold "
   ]
  },
  {
   "cell_type": "code",
   "execution_count": 260,
   "metadata": {
    "ExecuteTime": {
     "end_time": "2021-01-26T05:50:54.567142Z",
     "start_time": "2021-01-26T05:50:54.557586Z"
    }
   },
   "outputs": [
    {
     "data": {
      "text/plain": [
       "count    19165.000000\n",
       "mean        43.699713\n",
       "std         28.927806\n",
       "min         -1.000000\n",
       "25%         19.000000\n",
       "50%         41.000000\n",
       "75%         63.000000\n",
       "max        115.000000\n",
       "Name: age_sold, dtype: float64"
      ]
     },
     "execution_count": 260,
     "metadata": {},
     "output_type": "execute_result"
    }
   ],
   "source": [
    "df_low_prices.age_sold.describe()"
   ]
  },
  {
   "cell_type": "code",
   "execution_count": 261,
   "metadata": {
    "ExecuteTime": {
     "end_time": "2021-01-26T05:50:55.150874Z",
     "start_time": "2021-01-26T05:50:55.146737Z"
    }
   },
   "outputs": [],
   "source": [
    "# the average age of houses sold was 43 years old\n",
    "# the youngest house sold was -1 so it was bought before it was even built\n",
    "# the oldest house was 115 years old"
   ]
  },
  {
   "cell_type": "code",
   "execution_count": null,
   "metadata": {
    "ExecuteTime": {
     "end_time": "2021-01-25T18:27:34.767525Z",
     "start_time": "2021-01-25T18:27:34.755960Z"
    }
   },
   "outputs": [],
   "source": []
  },
  {
   "cell_type": "code",
   "execution_count": 262,
   "metadata": {
    "ExecuteTime": {
     "end_time": "2021-01-26T05:50:56.308103Z",
     "start_time": "2021-01-26T05:50:56.292355Z"
    }
   },
   "outputs": [
    {
     "data": {
      "text/html": [
       "<div>\n",
       "<style scoped>\n",
       "    .dataframe tbody tr th:only-of-type {\n",
       "        vertical-align: middle;\n",
       "    }\n",
       "\n",
       "    .dataframe tbody tr th {\n",
       "        vertical-align: top;\n",
       "    }\n",
       "\n",
       "    .dataframe thead th {\n",
       "        text-align: right;\n",
       "    }\n",
       "</style>\n",
       "<table border=\"1\" class=\"dataframe\">\n",
       "  <thead>\n",
       "    <tr style=\"text-align: right;\">\n",
       "      <th></th>\n",
       "      <th>id</th>\n",
       "      <th>date</th>\n",
       "      <th>price</th>\n",
       "      <th>bedrooms</th>\n",
       "      <th>bathrooms</th>\n",
       "      <th>sqft_living</th>\n",
       "      <th>sqft_lot</th>\n",
       "      <th>floors</th>\n",
       "      <th>waterfront</th>\n",
       "      <th>condition</th>\n",
       "      <th>grade</th>\n",
       "      <th>yr_built</th>\n",
       "      <th>zipcode</th>\n",
       "      <th>lat</th>\n",
       "      <th>long</th>\n",
       "      <th>date_dateformat</th>\n",
       "      <th>month</th>\n",
       "      <th>year</th>\n",
       "      <th>age_sold</th>\n",
       "    </tr>\n",
       "  </thead>\n",
       "  <tbody>\n",
       "    <tr>\n",
       "      <th>0</th>\n",
       "      <td>7129300520</td>\n",
       "      <td>10/13/2014</td>\n",
       "      <td>221900.0</td>\n",
       "      <td>3</td>\n",
       "      <td>1.00</td>\n",
       "      <td>1180</td>\n",
       "      <td>5650</td>\n",
       "      <td>1.0</td>\n",
       "      <td>0.0</td>\n",
       "      <td>3</td>\n",
       "      <td>7</td>\n",
       "      <td>1955</td>\n",
       "      <td>98178</td>\n",
       "      <td>47.5112</td>\n",
       "      <td>-122.257</td>\n",
       "      <td>2014-10-13</td>\n",
       "      <td>10</td>\n",
       "      <td>2014</td>\n",
       "      <td>59</td>\n",
       "    </tr>\n",
       "    <tr>\n",
       "      <th>1</th>\n",
       "      <td>6414100192</td>\n",
       "      <td>12/9/2014</td>\n",
       "      <td>538000.0</td>\n",
       "      <td>3</td>\n",
       "      <td>2.25</td>\n",
       "      <td>2570</td>\n",
       "      <td>7242</td>\n",
       "      <td>2.0</td>\n",
       "      <td>0.0</td>\n",
       "      <td>3</td>\n",
       "      <td>7</td>\n",
       "      <td>1951</td>\n",
       "      <td>98125</td>\n",
       "      <td>47.7210</td>\n",
       "      <td>-122.319</td>\n",
       "      <td>2014-12-09</td>\n",
       "      <td>12</td>\n",
       "      <td>2014</td>\n",
       "      <td>63</td>\n",
       "    </tr>\n",
       "    <tr>\n",
       "      <th>2</th>\n",
       "      <td>5631500400</td>\n",
       "      <td>2/25/2015</td>\n",
       "      <td>180000.0</td>\n",
       "      <td>2</td>\n",
       "      <td>1.00</td>\n",
       "      <td>770</td>\n",
       "      <td>10000</td>\n",
       "      <td>1.0</td>\n",
       "      <td>0.0</td>\n",
       "      <td>3</td>\n",
       "      <td>6</td>\n",
       "      <td>1933</td>\n",
       "      <td>98028</td>\n",
       "      <td>47.7379</td>\n",
       "      <td>-122.233</td>\n",
       "      <td>2015-02-25</td>\n",
       "      <td>2</td>\n",
       "      <td>2015</td>\n",
       "      <td>82</td>\n",
       "    </tr>\n",
       "    <tr>\n",
       "      <th>3</th>\n",
       "      <td>2487200875</td>\n",
       "      <td>12/9/2014</td>\n",
       "      <td>604000.0</td>\n",
       "      <td>4</td>\n",
       "      <td>3.00</td>\n",
       "      <td>1960</td>\n",
       "      <td>5000</td>\n",
       "      <td>1.0</td>\n",
       "      <td>0.0</td>\n",
       "      <td>5</td>\n",
       "      <td>7</td>\n",
       "      <td>1965</td>\n",
       "      <td>98136</td>\n",
       "      <td>47.5208</td>\n",
       "      <td>-122.393</td>\n",
       "      <td>2014-12-09</td>\n",
       "      <td>12</td>\n",
       "      <td>2014</td>\n",
       "      <td>49</td>\n",
       "    </tr>\n",
       "    <tr>\n",
       "      <th>4</th>\n",
       "      <td>1954400510</td>\n",
       "      <td>2/18/2015</td>\n",
       "      <td>510000.0</td>\n",
       "      <td>3</td>\n",
       "      <td>2.00</td>\n",
       "      <td>1680</td>\n",
       "      <td>8080</td>\n",
       "      <td>1.0</td>\n",
       "      <td>0.0</td>\n",
       "      <td>3</td>\n",
       "      <td>8</td>\n",
       "      <td>1987</td>\n",
       "      <td>98074</td>\n",
       "      <td>47.6168</td>\n",
       "      <td>-122.045</td>\n",
       "      <td>2015-02-18</td>\n",
       "      <td>2</td>\n",
       "      <td>2015</td>\n",
       "      <td>28</td>\n",
       "    </tr>\n",
       "  </tbody>\n",
       "</table>\n",
       "</div>"
      ],
      "text/plain": [
       "           id        date     price  bedrooms  bathrooms  sqft_living  \\\n",
       "0  7129300520  10/13/2014  221900.0         3       1.00         1180   \n",
       "1  6414100192   12/9/2014  538000.0         3       2.25         2570   \n",
       "2  5631500400   2/25/2015  180000.0         2       1.00          770   \n",
       "3  2487200875   12/9/2014  604000.0         4       3.00         1960   \n",
       "4  1954400510   2/18/2015  510000.0         3       2.00         1680   \n",
       "\n",
       "   sqft_lot  floors  waterfront  condition  grade  yr_built  zipcode      lat  \\\n",
       "0      5650     1.0         0.0          3      7      1955    98178  47.5112   \n",
       "1      7242     2.0         0.0          3      7      1951    98125  47.7210   \n",
       "2     10000     1.0         0.0          3      6      1933    98028  47.7379   \n",
       "3      5000     1.0         0.0          5      7      1965    98136  47.5208   \n",
       "4      8080     1.0         0.0          3      8      1987    98074  47.6168   \n",
       "\n",
       "      long date_dateformat  month  year  age_sold  \n",
       "0 -122.257      2014-10-13     10  2014        59  \n",
       "1 -122.319      2014-12-09     12  2014        63  \n",
       "2 -122.233      2015-02-25      2  2015        82  \n",
       "3 -122.393      2014-12-09     12  2014        49  \n",
       "4 -122.045      2015-02-18      2  2015        28  "
      ]
     },
     "execution_count": 262,
     "metadata": {},
     "output_type": "execute_result"
    }
   ],
   "source": [
    "df_low_prices.head()"
   ]
  },
  {
   "cell_type": "code",
   "execution_count": 263,
   "metadata": {
    "ExecuteTime": {
     "end_time": "2021-01-26T05:50:57.317696Z",
     "start_time": "2021-01-26T05:50:56.916485Z"
    }
   },
   "outputs": [
    {
     "data": {
      "text/plain": [
       "<matplotlib.axes._subplots.AxesSubplot at 0x7fb33f9c33c8>"
      ]
     },
     "execution_count": 263,
     "metadata": {},
     "output_type": "execute_result"
    },
    {
     "data": {
      "image/png": "[encoded data removed]",
      "text/plain": [
       "<Figure size 432x288 with 1 Axes>"
      ]
     },
     "metadata": {
      "needs_background": "light"
     },
     "output_type": "display_data"
    }
   ],
   "source": [
    "df_low_prices.plot.scatter(x = 'grade', y = 'price')"
   ]
  },
  {
   "cell_type": "code",
   "execution_count": 264,
   "metadata": {
    "ExecuteTime": {
     "end_time": "2021-01-26T05:50:57.753331Z",
     "start_time": "2021-01-26T05:50:57.745297Z"
    }
   },
   "outputs": [],
   "source": [
    "df_months = df.groupby(by = df_low_prices.month).mean()"
   ]
  },
  {
   "cell_type": "code",
   "execution_count": 265,
   "metadata": {
    "ExecuteTime": {
     "end_time": "2021-01-26T05:50:58.208190Z",
     "start_time": "2021-01-26T05:50:58.184558Z"
    }
   },
   "outputs": [
    {
     "data": {
      "text/html": [
       "<div>\n",
       "<style scoped>\n",
       "    .dataframe tbody tr th:only-of-type {\n",
       "        vertical-align: middle;\n",
       "    }\n",
       "\n",
       "    .dataframe tbody tr th {\n",
       "        vertical-align: top;\n",
       "    }\n",
       "\n",
       "    .dataframe thead th {\n",
       "        text-align: right;\n",
       "    }\n",
       "</style>\n",
       "<table border=\"1\" class=\"dataframe\">\n",
       "  <thead>\n",
       "    <tr style=\"text-align: right;\">\n",
       "      <th></th>\n",
       "      <th>id</th>\n",
       "      <th>price</th>\n",
       "      <th>bedrooms</th>\n",
       "      <th>bathrooms</th>\n",
       "      <th>sqft_living</th>\n",
       "      <th>sqft_lot</th>\n",
       "      <th>floors</th>\n",
       "      <th>waterfront</th>\n",
       "      <th>condition</th>\n",
       "      <th>grade</th>\n",
       "      <th>yr_built</th>\n",
       "      <th>zipcode</th>\n",
       "      <th>lat</th>\n",
       "      <th>long</th>\n",
       "    </tr>\n",
       "    <tr>\n",
       "      <th>month</th>\n",
       "      <th></th>\n",
       "      <th></th>\n",
       "      <th></th>\n",
       "      <th></th>\n",
       "      <th></th>\n",
       "      <th></th>\n",
       "      <th></th>\n",
       "      <th></th>\n",
       "      <th></th>\n",
       "      <th></th>\n",
       "      <th></th>\n",
       "      <th></th>\n",
       "      <th></th>\n",
       "      <th></th>\n",
       "    </tr>\n",
       "  </thead>\n",
       "  <tbody>\n",
       "    <tr>\n",
       "      <th>1.0</th>\n",
       "      <td>4.544011e+09</td>\n",
       "      <td>432717.713311</td>\n",
       "      <td>3.335609</td>\n",
       "      <td>2.020193</td>\n",
       "      <td>1908.313993</td>\n",
       "      <td>14216.822526</td>\n",
       "      <td>1.441411</td>\n",
       "      <td>0.003413</td>\n",
       "      <td>3.348123</td>\n",
       "      <td>7.405006</td>\n",
       "      <td>1970.558589</td>\n",
       "      <td>98079.568828</td>\n",
       "      <td>47.545334</td>\n",
       "      <td>-122.214824</td>\n",
       "    </tr>\n",
       "    <tr>\n",
       "      <th>2.0</th>\n",
       "      <td>4.628168e+09</td>\n",
       "      <td>428202.557624</td>\n",
       "      <td>3.286348</td>\n",
       "      <td>1.963652</td>\n",
       "      <td>1861.281028</td>\n",
       "      <td>13000.993794</td>\n",
       "      <td>1.437057</td>\n",
       "      <td>0.001773</td>\n",
       "      <td>3.403369</td>\n",
       "      <td>7.362589</td>\n",
       "      <td>1970.830674</td>\n",
       "      <td>98077.853723</td>\n",
       "      <td>47.539557</td>\n",
       "      <td>-122.216631</td>\n",
       "    </tr>\n",
       "    <tr>\n",
       "      <th>3.0</th>\n",
       "      <td>4.621795e+09</td>\n",
       "      <td>444789.657592</td>\n",
       "      <td>3.276467</td>\n",
       "      <td>1.954779</td>\n",
       "      <td>1851.949788</td>\n",
       "      <td>14081.466425</td>\n",
       "      <td>1.426195</td>\n",
       "      <td>0.000605</td>\n",
       "      <td>3.339988</td>\n",
       "      <td>7.366606</td>\n",
       "      <td>1970.441621</td>\n",
       "      <td>98078.479734</td>\n",
       "      <td>47.544155</td>\n",
       "      <td>-122.213073</td>\n",
       "    </tr>\n",
       "    <tr>\n",
       "      <th>4.0</th>\n",
       "      <td>4.729054e+09</td>\n",
       "      <td>457891.300775</td>\n",
       "      <td>3.284755</td>\n",
       "      <td>1.993282</td>\n",
       "      <td>1869.603618</td>\n",
       "      <td>13143.885271</td>\n",
       "      <td>1.452972</td>\n",
       "      <td>0.002067</td>\n",
       "      <td>3.355556</td>\n",
       "      <td>7.406202</td>\n",
       "      <td>1971.288372</td>\n",
       "      <td>98079.809302</td>\n",
       "      <td>47.551957</td>\n",
       "      <td>-122.213341</td>\n",
       "    </tr>\n",
       "    <tr>\n",
       "      <th>5.0</th>\n",
       "      <td>4.672661e+09</td>\n",
       "      <td>449510.722795</td>\n",
       "      <td>3.271107</td>\n",
       "      <td>2.002111</td>\n",
       "      <td>1899.670263</td>\n",
       "      <td>15721.538931</td>\n",
       "      <td>1.453565</td>\n",
       "      <td>0.001407</td>\n",
       "      <td>3.412758</td>\n",
       "      <td>7.437148</td>\n",
       "      <td>1970.184803</td>\n",
       "      <td>98080.196060</td>\n",
       "      <td>47.557722</td>\n",
       "      <td>-122.214100</td>\n",
       "    </tr>\n",
       "    <tr>\n",
       "      <th>6.0</th>\n",
       "      <td>4.626459e+09</td>\n",
       "      <td>453561.519979</td>\n",
       "      <td>3.330179</td>\n",
       "      <td>2.044821</td>\n",
       "      <td>1933.896425</td>\n",
       "      <td>13654.105152</td>\n",
       "      <td>1.471083</td>\n",
       "      <td>0.002629</td>\n",
       "      <td>3.449527</td>\n",
       "      <td>7.488433</td>\n",
       "      <td>1970.431651</td>\n",
       "      <td>98080.968454</td>\n",
       "      <td>47.557631</td>\n",
       "      <td>-122.213674</td>\n",
       "    </tr>\n",
       "    <tr>\n",
       "      <th>7.0</th>\n",
       "      <td>4.627296e+09</td>\n",
       "      <td>452051.876594</td>\n",
       "      <td>3.314125</td>\n",
       "      <td>2.031234</td>\n",
       "      <td>1938.160122</td>\n",
       "      <td>13212.214686</td>\n",
       "      <td>1.483937</td>\n",
       "      <td>0.001530</td>\n",
       "      <td>3.435492</td>\n",
       "      <td>7.494136</td>\n",
       "      <td>1971.447731</td>\n",
       "      <td>98075.436512</td>\n",
       "      <td>47.553493</td>\n",
       "      <td>-122.206672</td>\n",
       "    </tr>\n",
       "    <tr>\n",
       "      <th>8.0</th>\n",
       "      <td>4.624538e+09</td>\n",
       "      <td>442707.637420</td>\n",
       "      <td>3.271935</td>\n",
       "      <td>2.012929</td>\n",
       "      <td>1899.233004</td>\n",
       "      <td>13676.805927</td>\n",
       "      <td>1.459326</td>\n",
       "      <td>0.001162</td>\n",
       "      <td>3.438117</td>\n",
       "      <td>7.444509</td>\n",
       "      <td>1971.271354</td>\n",
       "      <td>98077.887275</td>\n",
       "      <td>47.557798</td>\n",
       "      <td>-122.210114</td>\n",
       "    </tr>\n",
       "    <tr>\n",
       "      <th>9.0</th>\n",
       "      <td>4.533074e+09</td>\n",
       "      <td>447155.970680</td>\n",
       "      <td>3.297567</td>\n",
       "      <td>2.049127</td>\n",
       "      <td>1929.390518</td>\n",
       "      <td>14743.004367</td>\n",
       "      <td>1.462882</td>\n",
       "      <td>0.002495</td>\n",
       "      <td>3.420462</td>\n",
       "      <td>7.457268</td>\n",
       "      <td>1970.804117</td>\n",
       "      <td>98078.827199</td>\n",
       "      <td>47.554384</td>\n",
       "      <td>-122.211638</td>\n",
       "    </tr>\n",
       "    <tr>\n",
       "      <th>10.0</th>\n",
       "      <td>4.567890e+09</td>\n",
       "      <td>442076.636527</td>\n",
       "      <td>3.283234</td>\n",
       "      <td>2.006138</td>\n",
       "      <td>1903.989820</td>\n",
       "      <td>14336.535928</td>\n",
       "      <td>1.467365</td>\n",
       "      <td>0.002994</td>\n",
       "      <td>3.407784</td>\n",
       "      <td>7.417365</td>\n",
       "      <td>1969.298204</td>\n",
       "      <td>98079.875449</td>\n",
       "      <td>47.555035</td>\n",
       "      <td>-122.217306</td>\n",
       "    </tr>\n",
       "    <tr>\n",
       "      <th>11.0</th>\n",
       "      <td>4.555838e+09</td>\n",
       "      <td>431888.465135</td>\n",
       "      <td>3.269414</td>\n",
       "      <td>1.979794</td>\n",
       "      <td>1875.182250</td>\n",
       "      <td>13817.976228</td>\n",
       "      <td>1.463550</td>\n",
       "      <td>0.002377</td>\n",
       "      <td>3.398574</td>\n",
       "      <td>7.404913</td>\n",
       "      <td>1969.638669</td>\n",
       "      <td>98079.041997</td>\n",
       "      <td>47.550603</td>\n",
       "      <td>-122.217912</td>\n",
       "    </tr>\n",
       "    <tr>\n",
       "      <th>12.0</th>\n",
       "      <td>4.598536e+09</td>\n",
       "      <td>434489.247915</td>\n",
       "      <td>3.312358</td>\n",
       "      <td>1.997346</td>\n",
       "      <td>1915.432904</td>\n",
       "      <td>14738.973465</td>\n",
       "      <td>1.452616</td>\n",
       "      <td>0.003033</td>\n",
       "      <td>3.388931</td>\n",
       "      <td>7.461713</td>\n",
       "      <td>1971.038666</td>\n",
       "      <td>98078.476876</td>\n",
       "      <td>47.553145</td>\n",
       "      <td>-122.222544</td>\n",
       "    </tr>\n",
       "  </tbody>\n",
       "</table>\n",
       "</div>"
      ],
      "text/plain": [
       "                 id          price  bedrooms  bathrooms  sqft_living  \\\n",
       "month                                                                  \n",
       "1.0    4.544011e+09  432717.713311  3.335609   2.020193  1908.313993   \n",
       "2.0    4.628168e+09  428202.557624  3.286348   1.963652  1861.281028   \n",
       "3.0    4.621795e+09  444789.657592  3.276467   1.954779  1851.949788   \n",
       "4.0    4.729054e+09  457891.300775  3.284755   1.993282  1869.603618   \n",
       "5.0    4.672661e+09  449510.722795  3.271107   2.002111  1899.670263   \n",
       "6.0    4.626459e+09  453561.519979  3.330179   2.044821  1933.896425   \n",
       "7.0    4.627296e+09  452051.876594  3.314125   2.031234  1938.160122   \n",
       "8.0    4.624538e+09  442707.637420  3.271935   2.012929  1899.233004   \n",
       "9.0    4.533074e+09  447155.970680  3.297567   2.049127  1929.390518   \n",
       "10.0   4.567890e+09  442076.636527  3.283234   2.006138  1903.989820   \n",
       "11.0   4.555838e+09  431888.465135  3.269414   1.979794  1875.182250   \n",
       "12.0   4.598536e+09  434489.247915  3.312358   1.997346  1915.432904   \n",
       "\n",
       "           sqft_lot    floors  waterfront  condition     grade     yr_built  \\\n",
       "month                                                                         \n",
       "1.0    14216.822526  1.441411    0.003413   3.348123  7.405006  1970.558589   \n",
       "2.0    13000.993794  1.437057    0.001773   3.403369  7.362589  1970.830674   \n",
       "3.0    14081.466425  1.426195    0.000605   3.339988  7.366606  1970.441621   \n",
       "4.0    13143.885271  1.452972    0.002067   3.355556  7.406202  1971.288372   \n",
       "5.0    15721.538931  1.453565    0.001407   3.412758  7.437148  1970.184803   \n",
       "6.0    13654.105152  1.471083    0.002629   3.449527  7.488433  1970.431651   \n",
       "7.0    13212.214686  1.483937    0.001530   3.435492  7.494136  1971.447731   \n",
       "8.0    13676.805927  1.459326    0.001162   3.438117  7.444509  1971.271354   \n",
       "9.0    14743.004367  1.462882    0.002495   3.420462  7.457268  1970.804117   \n",
       "10.0   14336.535928  1.467365    0.002994   3.407784  7.417365  1969.298204   \n",
       "11.0   13817.976228  1.463550    0.002377   3.398574  7.404913  1969.638669   \n",
       "12.0   14738.973465  1.452616    0.003033   3.388931  7.461713  1971.038666   \n",
       "\n",
       "            zipcode        lat        long  \n",
       "month                                       \n",
       "1.0    98079.568828  47.545334 -122.214824  \n",
       "2.0    98077.853723  47.539557 -122.216631  \n",
       "3.0    98078.479734  47.544155 -122.213073  \n",
       "4.0    98079.809302  47.551957 -122.213341  \n",
       "5.0    98080.196060  47.557722 -122.214100  \n",
       "6.0    98080.968454  47.557631 -122.213674  \n",
       "7.0    98075.436512  47.553493 -122.206672  \n",
       "8.0    98077.887275  47.557798 -122.210114  \n",
       "9.0    98078.827199  47.554384 -122.211638  \n",
       "10.0   98079.875449  47.555035 -122.217306  \n",
       "11.0   98079.041997  47.550603 -122.217912  \n",
       "12.0   98078.476876  47.553145 -122.222544  "
      ]
     },
     "execution_count": 265,
     "metadata": {},
     "output_type": "execute_result"
    }
   ],
   "source": [
    "df_months.head(12)"
   ]
  },
  {
   "cell_type": "code",
   "execution_count": null,
   "metadata": {
    "ExecuteTime": {
     "end_time": "2021-01-25T18:30:00.082681Z",
     "start_time": "2021-01-25T18:30:00.063984Z"
    }
   },
   "outputs": [],
   "source": []
  },
  {
   "cell_type": "code",
   "execution_count": 266,
   "metadata": {
    "ExecuteTime": {
     "end_time": "2021-01-26T05:50:59.914757Z",
     "start_time": "2021-01-26T05:50:59.876364Z"
    }
   },
   "outputs": [
    {
     "data": {
      "text/html": [
       "<div>\n",
       "<style scoped>\n",
       "    .dataframe tbody tr th:only-of-type {\n",
       "        vertical-align: middle;\n",
       "    }\n",
       "\n",
       "    .dataframe tbody tr th {\n",
       "        vertical-align: top;\n",
       "    }\n",
       "\n",
       "    .dataframe thead th {\n",
       "        text-align: right;\n",
       "    }\n",
       "</style>\n",
       "<table border=\"1\" class=\"dataframe\">\n",
       "  <thead>\n",
       "    <tr style=\"text-align: right;\">\n",
       "      <th></th>\n",
       "      <th>id</th>\n",
       "      <th>date</th>\n",
       "      <th>price</th>\n",
       "      <th>bedrooms</th>\n",
       "      <th>bathrooms</th>\n",
       "      <th>sqft_living</th>\n",
       "      <th>sqft_lot</th>\n",
       "      <th>floors</th>\n",
       "      <th>waterfront</th>\n",
       "      <th>condition</th>\n",
       "      <th>grade</th>\n",
       "      <th>yr_built</th>\n",
       "      <th>zipcode</th>\n",
       "      <th>lat</th>\n",
       "      <th>long</th>\n",
       "      <th>date_dateformat</th>\n",
       "      <th>month</th>\n",
       "      <th>year</th>\n",
       "      <th>age_sold</th>\n",
       "      <th>name_of_month</th>\n",
       "    </tr>\n",
       "  </thead>\n",
       "  <tbody>\n",
       "    <tr>\n",
       "      <th>0</th>\n",
       "      <td>7129300520</td>\n",
       "      <td>10/13/2014</td>\n",
       "      <td>221900.0</td>\n",
       "      <td>3</td>\n",
       "      <td>1.00</td>\n",
       "      <td>1180</td>\n",
       "      <td>5650</td>\n",
       "      <td>1.0</td>\n",
       "      <td>0.0</td>\n",
       "      <td>3</td>\n",
       "      <td>7</td>\n",
       "      <td>1955</td>\n",
       "      <td>98178</td>\n",
       "      <td>47.5112</td>\n",
       "      <td>-122.257</td>\n",
       "      <td>2014-10-13</td>\n",
       "      <td>10</td>\n",
       "      <td>2014</td>\n",
       "      <td>59</td>\n",
       "      <td>Oct</td>\n",
       "    </tr>\n",
       "    <tr>\n",
       "      <th>1</th>\n",
       "      <td>6414100192</td>\n",
       "      <td>12/9/2014</td>\n",
       "      <td>538000.0</td>\n",
       "      <td>3</td>\n",
       "      <td>2.25</td>\n",
       "      <td>2570</td>\n",
       "      <td>7242</td>\n",
       "      <td>2.0</td>\n",
       "      <td>0.0</td>\n",
       "      <td>3</td>\n",
       "      <td>7</td>\n",
       "      <td>1951</td>\n",
       "      <td>98125</td>\n",
       "      <td>47.7210</td>\n",
       "      <td>-122.319</td>\n",
       "      <td>2014-12-09</td>\n",
       "      <td>12</td>\n",
       "      <td>2014</td>\n",
       "      <td>63</td>\n",
       "      <td>Dec</td>\n",
       "    </tr>\n",
       "    <tr>\n",
       "      <th>2</th>\n",
       "      <td>5631500400</td>\n",
       "      <td>2/25/2015</td>\n",
       "      <td>180000.0</td>\n",
       "      <td>2</td>\n",
       "      <td>1.00</td>\n",
       "      <td>770</td>\n",
       "      <td>10000</td>\n",
       "      <td>1.0</td>\n",
       "      <td>0.0</td>\n",
       "      <td>3</td>\n",
       "      <td>6</td>\n",
       "      <td>1933</td>\n",
       "      <td>98028</td>\n",
       "      <td>47.7379</td>\n",
       "      <td>-122.233</td>\n",
       "      <td>2015-02-25</td>\n",
       "      <td>2</td>\n",
       "      <td>2015</td>\n",
       "      <td>82</td>\n",
       "      <td>Feb</td>\n",
       "    </tr>\n",
       "    <tr>\n",
       "      <th>3</th>\n",
       "      <td>2487200875</td>\n",
       "      <td>12/9/2014</td>\n",
       "      <td>604000.0</td>\n",
       "      <td>4</td>\n",
       "      <td>3.00</td>\n",
       "      <td>1960</td>\n",
       "      <td>5000</td>\n",
       "      <td>1.0</td>\n",
       "      <td>0.0</td>\n",
       "      <td>5</td>\n",
       "      <td>7</td>\n",
       "      <td>1965</td>\n",
       "      <td>98136</td>\n",
       "      <td>47.5208</td>\n",
       "      <td>-122.393</td>\n",
       "      <td>2014-12-09</td>\n",
       "      <td>12</td>\n",
       "      <td>2014</td>\n",
       "      <td>49</td>\n",
       "      <td>Dec</td>\n",
       "    </tr>\n",
       "    <tr>\n",
       "      <th>4</th>\n",
       "      <td>1954400510</td>\n",
       "      <td>2/18/2015</td>\n",
       "      <td>510000.0</td>\n",
       "      <td>3</td>\n",
       "      <td>2.00</td>\n",
       "      <td>1680</td>\n",
       "      <td>8080</td>\n",
       "      <td>1.0</td>\n",
       "      <td>0.0</td>\n",
       "      <td>3</td>\n",
       "      <td>8</td>\n",
       "      <td>1987</td>\n",
       "      <td>98074</td>\n",
       "      <td>47.6168</td>\n",
       "      <td>-122.045</td>\n",
       "      <td>2015-02-18</td>\n",
       "      <td>2</td>\n",
       "      <td>2015</td>\n",
       "      <td>28</td>\n",
       "      <td>Feb</td>\n",
       "    </tr>\n",
       "  </tbody>\n",
       "</table>\n",
       "</div>"
      ],
      "text/plain": [
       "           id        date     price  bedrooms  bathrooms  sqft_living  \\\n",
       "0  7129300520  10/13/2014  221900.0         3       1.00         1180   \n",
       "1  6414100192   12/9/2014  538000.0         3       2.25         2570   \n",
       "2  5631500400   2/25/2015  180000.0         2       1.00          770   \n",
       "3  2487200875   12/9/2014  604000.0         4       3.00         1960   \n",
       "4  1954400510   2/18/2015  510000.0         3       2.00         1680   \n",
       "\n",
       "   sqft_lot  floors  waterfront  condition  grade  yr_built  zipcode      lat  \\\n",
       "0      5650     1.0         0.0          3      7      1955    98178  47.5112   \n",
       "1      7242     2.0         0.0          3      7      1951    98125  47.7210   \n",
       "2     10000     1.0         0.0          3      6      1933    98028  47.7379   \n",
       "3      5000     1.0         0.0          5      7      1965    98136  47.5208   \n",
       "4      8080     1.0         0.0          3      8      1987    98074  47.6168   \n",
       "\n",
       "      long date_dateformat  month  year  age_sold name_of_month  \n",
       "0 -122.257      2014-10-13     10  2014        59           Oct  \n",
       "1 -122.319      2014-12-09     12  2014        63           Dec  \n",
       "2 -122.233      2015-02-25      2  2015        82           Feb  \n",
       "3 -122.393      2014-12-09     12  2014        49           Dec  \n",
       "4 -122.045      2015-02-18      2  2015        28           Feb  "
      ]
     },
     "execution_count": 266,
     "metadata": {},
     "output_type": "execute_result"
    }
   ],
   "source": [
    "months = []\n",
    "for value in df_low_prices['month']:\n",
    "    if value == 1:\n",
    "        months.append('Jan')\n",
    "    elif value == 2:\n",
    "        months.append('Feb')\n",
    "    elif value == 3:\n",
    "        months.append('Mar')\n",
    "    elif value == 4:\n",
    "        months.append('Apr')\n",
    "    elif value == 5:\n",
    "        months.append('May')\n",
    "    elif value == 6:\n",
    "        months.append('Jun')\n",
    "    elif value == 7:\n",
    "        months.append('Jul')\n",
    "    elif value == 8:\n",
    "        months.append('Aug')\n",
    "    elif value == 9:\n",
    "        months.append('Sep')\n",
    "    elif value == 10:\n",
    "        months.append('Oct')\n",
    "    elif value == 11:\n",
    "        months.append('Nov')\n",
    "    elif value == 12:\n",
    "        months.append('Dec')\n",
    "        \n",
    "df_low_prices['name_of_month'] = months\n",
    "df_low_prices.head()"
   ]
  },
  {
   "cell_type": "code",
   "execution_count": 267,
   "metadata": {
    "ExecuteTime": {
     "end_time": "2021-01-26T05:51:00.413470Z",
     "start_time": "2021-01-26T05:51:00.407268Z"
    }
   },
   "outputs": [],
   "source": [
    "#\n",
    "# making Seasons from the name_of_month column"
   ]
  },
  {
   "cell_type": "code",
   "execution_count": 268,
   "metadata": {
    "ExecuteTime": {
     "end_time": "2021-01-26T05:51:01.042335Z",
     "start_time": "2021-01-26T05:51:01.005124Z"
    }
   },
   "outputs": [
    {
     "data": {
      "text/html": [
       "<div>\n",
       "<style scoped>\n",
       "    .dataframe tbody tr th:only-of-type {\n",
       "        vertical-align: middle;\n",
       "    }\n",
       "\n",
       "    .dataframe tbody tr th {\n",
       "        vertical-align: top;\n",
       "    }\n",
       "\n",
       "    .dataframe thead th {\n",
       "        text-align: right;\n",
       "    }\n",
       "</style>\n",
       "<table border=\"1\" class=\"dataframe\">\n",
       "  <thead>\n",
       "    <tr style=\"text-align: right;\">\n",
       "      <th></th>\n",
       "      <th>id</th>\n",
       "      <th>date</th>\n",
       "      <th>price</th>\n",
       "      <th>bedrooms</th>\n",
       "      <th>bathrooms</th>\n",
       "      <th>sqft_living</th>\n",
       "      <th>sqft_lot</th>\n",
       "      <th>floors</th>\n",
       "      <th>waterfront</th>\n",
       "      <th>condition</th>\n",
       "      <th>...</th>\n",
       "      <th>yr_built</th>\n",
       "      <th>zipcode</th>\n",
       "      <th>lat</th>\n",
       "      <th>long</th>\n",
       "      <th>date_dateformat</th>\n",
       "      <th>month</th>\n",
       "      <th>year</th>\n",
       "      <th>age_sold</th>\n",
       "      <th>name_of_month</th>\n",
       "      <th>seasons</th>\n",
       "    </tr>\n",
       "  </thead>\n",
       "  <tbody>\n",
       "    <tr>\n",
       "      <th>0</th>\n",
       "      <td>7129300520</td>\n",
       "      <td>10/13/2014</td>\n",
       "      <td>221900.0</td>\n",
       "      <td>3</td>\n",
       "      <td>1.00</td>\n",
       "      <td>1180</td>\n",
       "      <td>5650</td>\n",
       "      <td>1.0</td>\n",
       "      <td>0.0</td>\n",
       "      <td>3</td>\n",
       "      <td>...</td>\n",
       "      <td>1955</td>\n",
       "      <td>98178</td>\n",
       "      <td>47.5112</td>\n",
       "      <td>-122.257</td>\n",
       "      <td>2014-10-13</td>\n",
       "      <td>10</td>\n",
       "      <td>2014</td>\n",
       "      <td>59</td>\n",
       "      <td>Oct</td>\n",
       "      <td>fall</td>\n",
       "    </tr>\n",
       "    <tr>\n",
       "      <th>1</th>\n",
       "      <td>6414100192</td>\n",
       "      <td>12/9/2014</td>\n",
       "      <td>538000.0</td>\n",
       "      <td>3</td>\n",
       "      <td>2.25</td>\n",
       "      <td>2570</td>\n",
       "      <td>7242</td>\n",
       "      <td>2.0</td>\n",
       "      <td>0.0</td>\n",
       "      <td>3</td>\n",
       "      <td>...</td>\n",
       "      <td>1951</td>\n",
       "      <td>98125</td>\n",
       "      <td>47.7210</td>\n",
       "      <td>-122.319</td>\n",
       "      <td>2014-12-09</td>\n",
       "      <td>12</td>\n",
       "      <td>2014</td>\n",
       "      <td>63</td>\n",
       "      <td>Dec</td>\n",
       "      <td>winter</td>\n",
       "    </tr>\n",
       "    <tr>\n",
       "      <th>2</th>\n",
       "      <td>5631500400</td>\n",
       "      <td>2/25/2015</td>\n",
       "      <td>180000.0</td>\n",
       "      <td>2</td>\n",
       "      <td>1.00</td>\n",
       "      <td>770</td>\n",
       "      <td>10000</td>\n",
       "      <td>1.0</td>\n",
       "      <td>0.0</td>\n",
       "      <td>3</td>\n",
       "      <td>...</td>\n",
       "      <td>1933</td>\n",
       "      <td>98028</td>\n",
       "      <td>47.7379</td>\n",
       "      <td>-122.233</td>\n",
       "      <td>2015-02-25</td>\n",
       "      <td>2</td>\n",
       "      <td>2015</td>\n",
       "      <td>82</td>\n",
       "      <td>Feb</td>\n",
       "      <td>winter</td>\n",
       "    </tr>\n",
       "    <tr>\n",
       "      <th>3</th>\n",
       "      <td>2487200875</td>\n",
       "      <td>12/9/2014</td>\n",
       "      <td>604000.0</td>\n",
       "      <td>4</td>\n",
       "      <td>3.00</td>\n",
       "      <td>1960</td>\n",
       "      <td>5000</td>\n",
       "      <td>1.0</td>\n",
       "      <td>0.0</td>\n",
       "      <td>5</td>\n",
       "      <td>...</td>\n",
       "      <td>1965</td>\n",
       "      <td>98136</td>\n",
       "      <td>47.5208</td>\n",
       "      <td>-122.393</td>\n",
       "      <td>2014-12-09</td>\n",
       "      <td>12</td>\n",
       "      <td>2014</td>\n",
       "      <td>49</td>\n",
       "      <td>Dec</td>\n",
       "      <td>winter</td>\n",
       "    </tr>\n",
       "    <tr>\n",
       "      <th>4</th>\n",
       "      <td>1954400510</td>\n",
       "      <td>2/18/2015</td>\n",
       "      <td>510000.0</td>\n",
       "      <td>3</td>\n",
       "      <td>2.00</td>\n",
       "      <td>1680</td>\n",
       "      <td>8080</td>\n",
       "      <td>1.0</td>\n",
       "      <td>0.0</td>\n",
       "      <td>3</td>\n",
       "      <td>...</td>\n",
       "      <td>1987</td>\n",
       "      <td>98074</td>\n",
       "      <td>47.6168</td>\n",
       "      <td>-122.045</td>\n",
       "      <td>2015-02-18</td>\n",
       "      <td>2</td>\n",
       "      <td>2015</td>\n",
       "      <td>28</td>\n",
       "      <td>Feb</td>\n",
       "      <td>winter</td>\n",
       "    </tr>\n",
       "  </tbody>\n",
       "</table>\n",
       "<p>5 rows × 21 columns</p>\n",
       "</div>"
      ],
      "text/plain": [
       "           id        date     price  bedrooms  bathrooms  sqft_living  \\\n",
       "0  7129300520  10/13/2014  221900.0         3       1.00         1180   \n",
       "1  6414100192   12/9/2014  538000.0         3       2.25         2570   \n",
       "2  5631500400   2/25/2015  180000.0         2       1.00          770   \n",
       "3  2487200875   12/9/2014  604000.0         4       3.00         1960   \n",
       "4  1954400510   2/18/2015  510000.0         3       2.00         1680   \n",
       "\n",
       "   sqft_lot  floors  waterfront  condition  ...  yr_built  zipcode      lat  \\\n",
       "0      5650     1.0         0.0          3  ...      1955    98178  47.5112   \n",
       "1      7242     2.0         0.0          3  ...      1951    98125  47.7210   \n",
       "2     10000     1.0         0.0          3  ...      1933    98028  47.7379   \n",
       "3      5000     1.0         0.0          5  ...      1965    98136  47.5208   \n",
       "4      8080     1.0         0.0          3  ...      1987    98074  47.6168   \n",
       "\n",
       "      long  date_dateformat month  year  age_sold  name_of_month seasons  \n",
       "0 -122.257       2014-10-13    10  2014        59            Oct    fall  \n",
       "1 -122.319       2014-12-09    12  2014        63            Dec  winter  \n",
       "2 -122.233       2015-02-25     2  2015        82            Feb  winter  \n",
       "3 -122.393       2014-12-09    12  2014        49            Dec  winter  \n",
       "4 -122.045       2015-02-18     2  2015        28            Feb  winter  \n",
       "\n",
       "[5 rows x 21 columns]"
      ]
     },
     "execution_count": 268,
     "metadata": {},
     "output_type": "execute_result"
    }
   ],
   "source": [
    "seasons = []\n",
    "for value in df_low_prices['month']:\n",
    "    if value >= 12:\n",
    "        seasons.append('winter')\n",
    "    elif 1 <= value <= 2:\n",
    "        seasons.append('winter')\n",
    "    elif 3 <= value <= 5:\n",
    "        seasons.append('spring')\n",
    "    elif 6 <= value <= 8:\n",
    "        seasons.append('summer')\n",
    "    else:\n",
    "        seasons.append('fall')\n",
    "        \n",
    "df_low_prices['seasons'] = seasons\n",
    "df_low_prices.head()"
   ]
  },
  {
   "cell_type": "code",
   "execution_count": null,
   "metadata": {
    "ExecuteTime": {
     "end_time": "2021-01-22T20:57:01.368184Z",
     "start_time": "2021-01-22T20:57:01.365236Z"
    }
   },
   "outputs": [],
   "source": []
  },
  {
   "cell_type": "code",
   "execution_count": 269,
   "metadata": {
    "ExecuteTime": {
     "end_time": "2021-01-26T05:51:02.212425Z",
     "start_time": "2021-01-26T05:51:02.204453Z"
    }
   },
   "outputs": [],
   "source": [
    "df_seasons = df_low_prices[['seasons', 'price', 'bedrooms', 'bathrooms', 'sqft_living',\n",
    "                'condition', 'yr_built', 'lat', 'long', 'month', 'name_of_month', 'age_sold']]"
   ]
  },
  {
   "cell_type": "code",
   "execution_count": 270,
   "metadata": {
    "ExecuteTime": {
     "end_time": "2021-01-26T05:51:02.986444Z",
     "start_time": "2021-01-26T05:51:02.973141Z"
    }
   },
   "outputs": [
    {
     "data": {
      "text/html": [
       "<div>\n",
       "<style scoped>\n",
       "    .dataframe tbody tr th:only-of-type {\n",
       "        vertical-align: middle;\n",
       "    }\n",
       "\n",
       "    .dataframe tbody tr th {\n",
       "        vertical-align: top;\n",
       "    }\n",
       "\n",
       "    .dataframe thead th {\n",
       "        text-align: right;\n",
       "    }\n",
       "</style>\n",
       "<table border=\"1\" class=\"dataframe\">\n",
       "  <thead>\n",
       "    <tr style=\"text-align: right;\">\n",
       "      <th></th>\n",
       "      <th>seasons</th>\n",
       "      <th>price</th>\n",
       "      <th>bedrooms</th>\n",
       "      <th>bathrooms</th>\n",
       "      <th>sqft_living</th>\n",
       "      <th>condition</th>\n",
       "      <th>yr_built</th>\n",
       "      <th>lat</th>\n",
       "      <th>long</th>\n",
       "      <th>month</th>\n",
       "      <th>name_of_month</th>\n",
       "      <th>age_sold</th>\n",
       "    </tr>\n",
       "  </thead>\n",
       "  <tbody>\n",
       "    <tr>\n",
       "      <th>0</th>\n",
       "      <td>fall</td>\n",
       "      <td>221900.0</td>\n",
       "      <td>3</td>\n",
       "      <td>1.00</td>\n",
       "      <td>1180</td>\n",
       "      <td>3</td>\n",
       "      <td>1955</td>\n",
       "      <td>47.5112</td>\n",
       "      <td>-122.257</td>\n",
       "      <td>10</td>\n",
       "      <td>Oct</td>\n",
       "      <td>59</td>\n",
       "    </tr>\n",
       "    <tr>\n",
       "      <th>1</th>\n",
       "      <td>winter</td>\n",
       "      <td>538000.0</td>\n",
       "      <td>3</td>\n",
       "      <td>2.25</td>\n",
       "      <td>2570</td>\n",
       "      <td>3</td>\n",
       "      <td>1951</td>\n",
       "      <td>47.7210</td>\n",
       "      <td>-122.319</td>\n",
       "      <td>12</td>\n",
       "      <td>Dec</td>\n",
       "      <td>63</td>\n",
       "    </tr>\n",
       "    <tr>\n",
       "      <th>2</th>\n",
       "      <td>winter</td>\n",
       "      <td>180000.0</td>\n",
       "      <td>2</td>\n",
       "      <td>1.00</td>\n",
       "      <td>770</td>\n",
       "      <td>3</td>\n",
       "      <td>1933</td>\n",
       "      <td>47.7379</td>\n",
       "      <td>-122.233</td>\n",
       "      <td>2</td>\n",
       "      <td>Feb</td>\n",
       "      <td>82</td>\n",
       "    </tr>\n",
       "    <tr>\n",
       "      <th>3</th>\n",
       "      <td>winter</td>\n",
       "      <td>604000.0</td>\n",
       "      <td>4</td>\n",
       "      <td>3.00</td>\n",
       "      <td>1960</td>\n",
       "      <td>5</td>\n",
       "      <td>1965</td>\n",
       "      <td>47.5208</td>\n",
       "      <td>-122.393</td>\n",
       "      <td>12</td>\n",
       "      <td>Dec</td>\n",
       "      <td>49</td>\n",
       "    </tr>\n",
       "    <tr>\n",
       "      <th>4</th>\n",
       "      <td>winter</td>\n",
       "      <td>510000.0</td>\n",
       "      <td>3</td>\n",
       "      <td>2.00</td>\n",
       "      <td>1680</td>\n",
       "      <td>3</td>\n",
       "      <td>1987</td>\n",
       "      <td>47.6168</td>\n",
       "      <td>-122.045</td>\n",
       "      <td>2</td>\n",
       "      <td>Feb</td>\n",
       "      <td>28</td>\n",
       "    </tr>\n",
       "  </tbody>\n",
       "</table>\n",
       "</div>"
      ],
      "text/plain": [
       "  seasons     price  bedrooms  bathrooms  sqft_living  condition  yr_built  \\\n",
       "0    fall  221900.0         3       1.00         1180          3      1955   \n",
       "1  winter  538000.0         3       2.25         2570          3      1951   \n",
       "2  winter  180000.0         2       1.00          770          3      1933   \n",
       "3  winter  604000.0         4       3.00         1960          5      1965   \n",
       "4  winter  510000.0         3       2.00         1680          3      1987   \n",
       "\n",
       "       lat     long  month name_of_month  age_sold  \n",
       "0  47.5112 -122.257     10           Oct        59  \n",
       "1  47.7210 -122.319     12           Dec        63  \n",
       "2  47.7379 -122.233      2           Feb        82  \n",
       "3  47.5208 -122.393     12           Dec        49  \n",
       "4  47.6168 -122.045      2           Feb        28  "
      ]
     },
     "execution_count": 270,
     "metadata": {},
     "output_type": "execute_result"
    }
   ],
   "source": [
    "df_seasons.head()"
   ]
  },
  {
   "cell_type": "code",
   "execution_count": 271,
   "metadata": {
    "ExecuteTime": {
     "end_time": "2021-01-26T05:51:03.915106Z",
     "start_time": "2021-01-26T05:51:03.510545Z"
    }
   },
   "outputs": [
    {
     "data": {
      "text/plain": [
       "<matplotlib.axes._subplots.AxesSubplot at 0x7fb33f9c3438>"
      ]
     },
     "execution_count": 271,
     "metadata": {},
     "output_type": "execute_result"
    },
    {
     "data": {
      "image/png": "[encoded data removed]",
      "text/plain": [
       "<Figure size 432x288 with 1 Axes>"
      ]
     },
     "metadata": {
      "needs_background": "light"
     },
     "output_type": "display_data"
    }
   ],
   "source": [
    "sns.barplot(x = 'seasons', y = 'price', data = df_seasons, palette = 'rocket')"
   ]
  },
  {
   "cell_type": "code",
   "execution_count": 272,
   "metadata": {
    "ExecuteTime": {
     "end_time": "2021-01-26T05:51:04.373274Z",
     "start_time": "2021-01-26T05:51:04.361340Z"
    }
   },
   "outputs": [],
   "source": [
    "# it looks like the best time to buy a house would be in the winter with the lower house prices\n",
    "#\n",
    "#"
   ]
  },
  {
   "cell_type": "code",
   "execution_count": 273,
   "metadata": {
    "ExecuteTime": {
     "end_time": "2021-01-26T05:51:04.906292Z",
     "start_time": "2021-01-26T05:51:04.903124Z"
    }
   },
   "outputs": [],
   "source": [
    "#\n",
    "# looking at which variables have the highest correlation to price"
   ]
  },
  {
   "cell_type": "code",
   "execution_count": 274,
   "metadata": {
    "ExecuteTime": {
     "end_time": "2021-01-26T05:51:05.534153Z",
     "start_time": "2021-01-26T05:51:05.500990Z"
    }
   },
   "outputs": [
    {
     "data": {
      "text/html": [
       "<div>\n",
       "<style scoped>\n",
       "    .dataframe tbody tr th:only-of-type {\n",
       "        vertical-align: middle;\n",
       "    }\n",
       "\n",
       "    .dataframe tbody tr th {\n",
       "        vertical-align: top;\n",
       "    }\n",
       "\n",
       "    .dataframe thead th {\n",
       "        text-align: right;\n",
       "    }\n",
       "</style>\n",
       "<table border=\"1\" class=\"dataframe\">\n",
       "  <thead>\n",
       "    <tr style=\"text-align: right;\">\n",
       "      <th></th>\n",
       "      <th>id</th>\n",
       "      <th>price</th>\n",
       "      <th>bedrooms</th>\n",
       "      <th>bathrooms</th>\n",
       "      <th>sqft_living</th>\n",
       "      <th>sqft_lot</th>\n",
       "      <th>floors</th>\n",
       "      <th>waterfront</th>\n",
       "      <th>condition</th>\n",
       "      <th>grade</th>\n",
       "      <th>yr_built</th>\n",
       "      <th>zipcode</th>\n",
       "      <th>lat</th>\n",
       "      <th>long</th>\n",
       "      <th>month</th>\n",
       "      <th>year</th>\n",
       "      <th>age_sold</th>\n",
       "    </tr>\n",
       "  </thead>\n",
       "  <tbody>\n",
       "    <tr>\n",
       "      <th>id</th>\n",
       "      <td>1.000000</td>\n",
       "      <td>0.030206</td>\n",
       "      <td>0.013125</td>\n",
       "      <td>0.035400</td>\n",
       "      <td>0.020783</td>\n",
       "      <td>-0.133586</td>\n",
       "      <td>0.035880</td>\n",
       "      <td>-0.005562</td>\n",
       "      <td>-0.032570</td>\n",
       "      <td>0.046707</td>\n",
       "      <td>0.031457</td>\n",
       "      <td>-0.006202</td>\n",
       "      <td>0.006256</td>\n",
       "      <td>0.022478</td>\n",
       "      <td>-0.008929</td>\n",
       "      <td>0.006030</td>\n",
       "      <td>-0.031357</td>\n",
       "    </tr>\n",
       "    <tr>\n",
       "      <th>price</th>\n",
       "      <td>0.030206</td>\n",
       "      <td>1.000000</td>\n",
       "      <td>0.257992</td>\n",
       "      <td>0.407053</td>\n",
       "      <td>0.556399</td>\n",
       "      <td>0.086551</td>\n",
       "      <td>0.253063</td>\n",
       "      <td>0.037831</td>\n",
       "      <td>0.030340</td>\n",
       "      <td>0.575285</td>\n",
       "      <td>0.060310</td>\n",
       "      <td>-0.007422</td>\n",
       "      <td>0.458220</td>\n",
       "      <td>0.083716</td>\n",
       "      <td>-0.009441</td>\n",
       "      <td>-0.001059</td>\n",
       "      <td>-0.060321</td>\n",
       "    </tr>\n",
       "    <tr>\n",
       "      <th>bedrooms</th>\n",
       "      <td>0.013125</td>\n",
       "      <td>0.257992</td>\n",
       "      <td>1.000000</td>\n",
       "      <td>0.477493</td>\n",
       "      <td>0.588292</td>\n",
       "      <td>0.020765</td>\n",
       "      <td>0.139866</td>\n",
       "      <td>-0.031407</td>\n",
       "      <td>0.025770</td>\n",
       "      <td>0.294993</td>\n",
       "      <td>0.163020</td>\n",
       "      <td>-0.150498</td>\n",
       "      <td>-0.051498</td>\n",
       "      <td>0.140380</td>\n",
       "      <td>-0.001265</td>\n",
       "      <td>-0.008353</td>\n",
       "      <td>-0.163140</td>\n",
       "    </tr>\n",
       "    <tr>\n",
       "      <th>bathrooms</th>\n",
       "      <td>0.035400</td>\n",
       "      <td>0.407053</td>\n",
       "      <td>0.477493</td>\n",
       "      <td>1.000000</td>\n",
       "      <td>0.698601</td>\n",
       "      <td>0.047361</td>\n",
       "      <td>0.500866</td>\n",
       "      <td>-0.022380</td>\n",
       "      <td>-0.139863</td>\n",
       "      <td>0.590919</td>\n",
       "      <td>0.565395</td>\n",
       "      <td>-0.217562</td>\n",
       "      <td>-0.037785</td>\n",
       "      <td>0.251052</td>\n",
       "      <td>0.011783</td>\n",
       "      <td>-0.029508</td>\n",
       "      <td>-0.565818</td>\n",
       "    </tr>\n",
       "    <tr>\n",
       "      <th>sqft_living</th>\n",
       "      <td>0.020783</td>\n",
       "      <td>0.556399</td>\n",
       "      <td>0.588292</td>\n",
       "      <td>0.698601</td>\n",
       "      <td>1.000000</td>\n",
       "      <td>0.145016</td>\n",
       "      <td>0.319995</td>\n",
       "      <td>-0.007335</td>\n",
       "      <td>-0.073409</td>\n",
       "      <td>0.661542</td>\n",
       "      <td>0.360336</td>\n",
       "      <td>-0.214556</td>\n",
       "      <td>-0.033978</td>\n",
       "      <td>0.289808</td>\n",
       "      <td>0.016407</td>\n",
       "      <td>-0.031466</td>\n",
       "      <td>-0.360810</td>\n",
       "    </tr>\n",
       "    <tr>\n",
       "      <th>sqft_lot</th>\n",
       "      <td>-0.133586</td>\n",
       "      <td>0.086551</td>\n",
       "      <td>0.020765</td>\n",
       "      <td>0.047361</td>\n",
       "      <td>0.145016</td>\n",
       "      <td>1.000000</td>\n",
       "      <td>-0.028619</td>\n",
       "      <td>0.014841</td>\n",
       "      <td>0.002946</td>\n",
       "      <td>0.072397</td>\n",
       "      <td>0.030224</td>\n",
       "      <td>-0.132182</td>\n",
       "      <td>-0.102762</td>\n",
       "      <td>0.217895</td>\n",
       "      <td>0.004467</td>\n",
       "      <td>-0.001804</td>\n",
       "      <td>-0.030250</td>\n",
       "    </tr>\n",
       "    <tr>\n",
       "      <th>floors</th>\n",
       "      <td>0.035880</td>\n",
       "      <td>0.253063</td>\n",
       "      <td>0.139866</td>\n",
       "      <td>0.500866</td>\n",
       "      <td>0.319995</td>\n",
       "      <td>-0.028619</td>\n",
       "      <td>1.000000</td>\n",
       "      <td>-0.013723</td>\n",
       "      <td>-0.280315</td>\n",
       "      <td>0.450019</td>\n",
       "      <td>0.524815</td>\n",
       "      <td>-0.071010</td>\n",
       "      <td>0.021242</td>\n",
       "      <td>0.135368</td>\n",
       "      <td>0.015374</td>\n",
       "      <td>-0.023710</td>\n",
       "      <td>-0.525149</td>\n",
       "    </tr>\n",
       "    <tr>\n",
       "      <th>waterfront</th>\n",
       "      <td>-0.005562</td>\n",
       "      <td>0.037831</td>\n",
       "      <td>-0.031407</td>\n",
       "      <td>-0.022380</td>\n",
       "      <td>-0.007335</td>\n",
       "      <td>0.014841</td>\n",
       "      <td>-0.013723</td>\n",
       "      <td>1.000000</td>\n",
       "      <td>0.011290</td>\n",
       "      <td>-0.018046</td>\n",
       "      <td>-0.037960</td>\n",
       "      <td>0.036988</td>\n",
       "      <td>-0.040195</td>\n",
       "      <td>-0.054421</td>\n",
       "      <td>0.006710</td>\n",
       "      <td>-0.006329</td>\n",
       "      <td>0.037854</td>\n",
       "    </tr>\n",
       "    <tr>\n",
       "      <th>condition</th>\n",
       "      <td>-0.032570</td>\n",
       "      <td>0.030340</td>\n",
       "      <td>0.025770</td>\n",
       "      <td>-0.139863</td>\n",
       "      <td>-0.073409</td>\n",
       "      <td>0.002946</td>\n",
       "      <td>-0.280315</td>\n",
       "      <td>0.011290</td>\n",
       "      <td>1.000000</td>\n",
       "      <td>-0.179681</td>\n",
       "      <td>-0.346129</td>\n",
       "      <td>-0.007579</td>\n",
       "      <td>-0.020145</td>\n",
       "      <td>-0.091013</td>\n",
       "      <td>0.022687</td>\n",
       "      <td>-0.045190</td>\n",
       "      <td>0.345366</td>\n",
       "    </tr>\n",
       "    <tr>\n",
       "      <th>grade</th>\n",
       "      <td>0.046707</td>\n",
       "      <td>0.575285</td>\n",
       "      <td>0.294993</td>\n",
       "      <td>0.590919</td>\n",
       "      <td>0.661542</td>\n",
       "      <td>0.072397</td>\n",
       "      <td>0.450019</td>\n",
       "      <td>-0.018046</td>\n",
       "      <td>-0.179681</td>\n",
       "      <td>1.000000</td>\n",
       "      <td>0.515322</td>\n",
       "      <td>-0.191178</td>\n",
       "      <td>0.050905</td>\n",
       "      <td>0.227845</td>\n",
       "      <td>0.018948</td>\n",
       "      <td>-0.038838</td>\n",
       "      <td>-0.515901</td>\n",
       "    </tr>\n",
       "    <tr>\n",
       "      <th>yr_built</th>\n",
       "      <td>0.031457</td>\n",
       "      <td>0.060310</td>\n",
       "      <td>0.163020</td>\n",
       "      <td>0.565395</td>\n",
       "      <td>0.360336</td>\n",
       "      <td>0.030224</td>\n",
       "      <td>0.524815</td>\n",
       "      <td>-0.037960</td>\n",
       "      <td>-0.346129</td>\n",
       "      <td>0.515322</td>\n",
       "      <td>1.000000</td>\n",
       "      <td>-0.343052</td>\n",
       "      <td>-0.163327</td>\n",
       "      <td>0.401051</td>\n",
       "      <td>-0.004870</td>\n",
       "      <td>0.002254</td>\n",
       "      <td>-0.999870</td>\n",
       "    </tr>\n",
       "    <tr>\n",
       "      <th>zipcode</th>\n",
       "      <td>-0.006202</td>\n",
       "      <td>-0.007422</td>\n",
       "      <td>-0.150498</td>\n",
       "      <td>-0.217562</td>\n",
       "      <td>-0.214556</td>\n",
       "      <td>-0.132182</td>\n",
       "      <td>-0.071010</td>\n",
       "      <td>0.036988</td>\n",
       "      <td>-0.007579</td>\n",
       "      <td>-0.191178</td>\n",
       "      <td>-0.343052</td>\n",
       "      <td>1.000000</td>\n",
       "      <td>0.285659</td>\n",
       "      <td>-0.560202</td>\n",
       "      <td>-0.002766</td>\n",
       "      <td>0.002166</td>\n",
       "      <td>0.343055</td>\n",
       "    </tr>\n",
       "    <tr>\n",
       "      <th>lat</th>\n",
       "      <td>0.006256</td>\n",
       "      <td>0.458220</td>\n",
       "      <td>-0.051498</td>\n",
       "      <td>-0.037785</td>\n",
       "      <td>-0.033978</td>\n",
       "      <td>-0.102762</td>\n",
       "      <td>0.021242</td>\n",
       "      <td>-0.040195</td>\n",
       "      <td>-0.020145</td>\n",
       "      <td>0.050905</td>\n",
       "      <td>-0.163327</td>\n",
       "      <td>0.285659</td>\n",
       "      <td>1.000000</td>\n",
       "      <td>-0.135712</td>\n",
       "      <td>0.018663</td>\n",
       "      <td>-0.033098</td>\n",
       "      <td>0.162777</td>\n",
       "    </tr>\n",
       "    <tr>\n",
       "      <th>long</th>\n",
       "      <td>0.022478</td>\n",
       "      <td>0.083716</td>\n",
       "      <td>0.140380</td>\n",
       "      <td>0.251052</td>\n",
       "      <td>0.289808</td>\n",
       "      <td>0.217895</td>\n",
       "      <td>0.135368</td>\n",
       "      <td>-0.054421</td>\n",
       "      <td>-0.091013</td>\n",
       "      <td>0.227845</td>\n",
       "      <td>0.401051</td>\n",
       "      <td>-0.560202</td>\n",
       "      <td>-0.135712</td>\n",
       "      <td>1.000000</td>\n",
       "      <td>-0.007969</td>\n",
       "      <td>-0.000323</td>\n",
       "      <td>-0.401018</td>\n",
       "    </tr>\n",
       "    <tr>\n",
       "      <th>month</th>\n",
       "      <td>-0.008929</td>\n",
       "      <td>-0.009441</td>\n",
       "      <td>-0.001265</td>\n",
       "      <td>0.011783</td>\n",
       "      <td>0.016407</td>\n",
       "      <td>0.004467</td>\n",
       "      <td>0.015374</td>\n",
       "      <td>0.006710</td>\n",
       "      <td>0.022687</td>\n",
       "      <td>0.018948</td>\n",
       "      <td>-0.004870</td>\n",
       "      <td>-0.002766</td>\n",
       "      <td>0.018663</td>\n",
       "      <td>-0.007969</td>\n",
       "      <td>1.000000</td>\n",
       "      <td>-0.783689</td>\n",
       "      <td>-0.007788</td>\n",
       "    </tr>\n",
       "    <tr>\n",
       "      <th>year</th>\n",
       "      <td>0.006030</td>\n",
       "      <td>-0.001059</td>\n",
       "      <td>-0.008353</td>\n",
       "      <td>-0.029508</td>\n",
       "      <td>-0.031466</td>\n",
       "      <td>-0.001804</td>\n",
       "      <td>-0.023710</td>\n",
       "      <td>-0.006329</td>\n",
       "      <td>-0.045190</td>\n",
       "      <td>-0.038838</td>\n",
       "      <td>0.002254</td>\n",
       "      <td>0.002166</td>\n",
       "      <td>-0.033098</td>\n",
       "      <td>-0.000323</td>\n",
       "      <td>-0.783689</td>\n",
       "      <td>1.000000</td>\n",
       "      <td>0.013897</td>\n",
       "    </tr>\n",
       "    <tr>\n",
       "      <th>age_sold</th>\n",
       "      <td>-0.031357</td>\n",
       "      <td>-0.060321</td>\n",
       "      <td>-0.163140</td>\n",
       "      <td>-0.565818</td>\n",
       "      <td>-0.360810</td>\n",
       "      <td>-0.030250</td>\n",
       "      <td>-0.525149</td>\n",
       "      <td>0.037854</td>\n",
       "      <td>0.345366</td>\n",
       "      <td>-0.515901</td>\n",
       "      <td>-0.999870</td>\n",
       "      <td>0.343055</td>\n",
       "      <td>0.162777</td>\n",
       "      <td>-0.401018</td>\n",
       "      <td>-0.007788</td>\n",
       "      <td>0.013897</td>\n",
       "      <td>1.000000</td>\n",
       "    </tr>\n",
       "  </tbody>\n",
       "</table>\n",
       "</div>"
      ],
      "text/plain": [
       "                   id     price  bedrooms  bathrooms  sqft_living  sqft_lot  \\\n",
       "id           1.000000  0.030206  0.013125   0.035400     0.020783 -0.133586   \n",
       "price        0.030206  1.000000  0.257992   0.407053     0.556399  0.086551   \n",
       "bedrooms     0.013125  0.257992  1.000000   0.477493     0.588292  0.020765   \n",
       "bathrooms    0.035400  0.407053  0.477493   1.000000     0.698601  0.047361   \n",
       "sqft_living  0.020783  0.556399  0.588292   0.698601     1.000000  0.145016   \n",
       "sqft_lot    -0.133586  0.086551  0.020765   0.047361     0.145016  1.000000   \n",
       "floors       0.035880  0.253063  0.139866   0.500866     0.319995 -0.028619   \n",
       "waterfront  -0.005562  0.037831 -0.031407  -0.022380    -0.007335  0.014841   \n",
       "condition   -0.032570  0.030340  0.025770  -0.139863    -0.073409  0.002946   \n",
       "grade        0.046707  0.575285  0.294993   0.590919     0.661542  0.072397   \n",
       "yr_built     0.031457  0.060310  0.163020   0.565395     0.360336  0.030224   \n",
       "zipcode     -0.006202 -0.007422 -0.150498  -0.217562    -0.214556 -0.132182   \n",
       "lat          0.006256  0.458220 -0.051498  -0.037785    -0.033978 -0.102762   \n",
       "long         0.022478  0.083716  0.140380   0.251052     0.289808  0.217895   \n",
       "month       -0.008929 -0.009441 -0.001265   0.011783     0.016407  0.004467   \n",
       "year         0.006030 -0.001059 -0.008353  -0.029508    -0.031466 -0.001804   \n",
       "age_sold    -0.031357 -0.060321 -0.163140  -0.565818    -0.360810 -0.030250   \n",
       "\n",
       "               floors  waterfront  condition     grade  yr_built   zipcode  \\\n",
       "id           0.035880   -0.005562  -0.032570  0.046707  0.031457 -0.006202   \n",
       "price        0.253063    0.037831   0.030340  0.575285  0.060310 -0.007422   \n",
       "bedrooms     0.139866   -0.031407   0.025770  0.294993  0.163020 -0.150498   \n",
       "bathrooms    0.500866   -0.022380  -0.139863  0.590919  0.565395 -0.217562   \n",
       "sqft_living  0.319995   -0.007335  -0.073409  0.661542  0.360336 -0.214556   \n",
       "sqft_lot    -0.028619    0.014841   0.002946  0.072397  0.030224 -0.132182   \n",
       "floors       1.000000   -0.013723  -0.280315  0.450019  0.524815 -0.071010   \n",
       "waterfront  -0.013723    1.000000   0.011290 -0.018046 -0.037960  0.036988   \n",
       "condition   -0.280315    0.011290   1.000000 -0.179681 -0.346129 -0.007579   \n",
       "grade        0.450019   -0.018046  -0.179681  1.000000  0.515322 -0.191178   \n",
       "yr_built     0.524815   -0.037960  -0.346129  0.515322  1.000000 -0.343052   \n",
       "zipcode     -0.071010    0.036988  -0.007579 -0.191178 -0.343052  1.000000   \n",
       "lat          0.021242   -0.040195  -0.020145  0.050905 -0.163327  0.285659   \n",
       "long         0.135368   -0.054421  -0.091013  0.227845  0.401051 -0.560202   \n",
       "month        0.015374    0.006710   0.022687  0.018948 -0.004870 -0.002766   \n",
       "year        -0.023710   -0.006329  -0.045190 -0.038838  0.002254  0.002166   \n",
       "age_sold    -0.525149    0.037854   0.345366 -0.515901 -0.999870  0.343055   \n",
       "\n",
       "                  lat      long     month      year  age_sold  \n",
       "id           0.006256  0.022478 -0.008929  0.006030 -0.031357  \n",
       "price        0.458220  0.083716 -0.009441 -0.001059 -0.060321  \n",
       "bedrooms    -0.051498  0.140380 -0.001265 -0.008353 -0.163140  \n",
       "bathrooms   -0.037785  0.251052  0.011783 -0.029508 -0.565818  \n",
       "sqft_living -0.033978  0.289808  0.016407 -0.031466 -0.360810  \n",
       "sqft_lot    -0.102762  0.217895  0.004467 -0.001804 -0.030250  \n",
       "floors       0.021242  0.135368  0.015374 -0.023710 -0.525149  \n",
       "waterfront  -0.040195 -0.054421  0.006710 -0.006329  0.037854  \n",
       "condition   -0.020145 -0.091013  0.022687 -0.045190  0.345366  \n",
       "grade        0.050905  0.227845  0.018948 -0.038838 -0.515901  \n",
       "yr_built    -0.163327  0.401051 -0.004870  0.002254 -0.999870  \n",
       "zipcode      0.285659 -0.560202 -0.002766  0.002166  0.343055  \n",
       "lat          1.000000 -0.135712  0.018663 -0.033098  0.162777  \n",
       "long        -0.135712  1.000000 -0.007969 -0.000323 -0.401018  \n",
       "month        0.018663 -0.007969  1.000000 -0.783689 -0.007788  \n",
       "year        -0.033098 -0.000323 -0.783689  1.000000  0.013897  \n",
       "age_sold     0.162777 -0.401018 -0.007788  0.013897  1.000000  "
      ]
     },
     "execution_count": 274,
     "metadata": {},
     "output_type": "execute_result"
    }
   ],
   "source": [
    "df_low_prices.corr()"
   ]
  },
  {
   "cell_type": "code",
   "execution_count": 275,
   "metadata": {
    "ExecuteTime": {
     "end_time": "2021-01-26T05:51:06.095296Z",
     "start_time": "2021-01-26T05:51:06.092157Z"
    }
   },
   "outputs": [],
   "source": [
    "# sqft_living, grade, and bathrooms have the highest correlation to price\n",
    "#"
   ]
  },
  {
   "cell_type": "code",
   "execution_count": 276,
   "metadata": {
    "ExecuteTime": {
     "end_time": "2021-01-26T05:51:10.355186Z",
     "start_time": "2021-01-26T05:51:06.725693Z"
    }
   },
   "outputs": [
    {
     "data": {
      "text/plain": [
       "array([[<matplotlib.axes._subplots.AxesSubplot object at 0x7fb33d059198>,\n",
       "        <matplotlib.axes._subplots.AxesSubplot object at 0x7fb33d070ac8>,\n",
       "        <matplotlib.axes._subplots.AxesSubplot object at 0x7fb3556aea20>,\n",
       "        <matplotlib.axes._subplots.AxesSubplot object at 0x7fb343038208>],\n",
       "       [<matplotlib.axes._subplots.AxesSubplot object at 0x7fb33eea0748>,\n",
       "        <matplotlib.axes._subplots.AxesSubplot object at 0x7fb341b0fc88>,\n",
       "        <matplotlib.axes._subplots.AxesSubplot object at 0x7fb33e1e2208>,\n",
       "        <matplotlib.axes._subplots.AxesSubplot object at 0x7fb33e210780>],\n",
       "       [<matplotlib.axes._subplots.AxesSubplot object at 0x7fb33e2107b8>,\n",
       "        <matplotlib.axes._subplots.AxesSubplot object at 0x7fb3422e7208>,\n",
       "        <matplotlib.axes._subplots.AxesSubplot object at 0x7fb33cf1b748>,\n",
       "        <matplotlib.axes._subplots.AxesSubplot object at 0x7fb33cf4dc88>],\n",
       "       [<matplotlib.axes._subplots.AxesSubplot object at 0x7fb341e97208>,\n",
       "        <matplotlib.axes._subplots.AxesSubplot object at 0x7fb341ec9748>,\n",
       "        <matplotlib.axes._subplots.AxesSubplot object at 0x7fb342381c88>,\n",
       "        <matplotlib.axes._subplots.AxesSubplot object at 0x7fb342f8c208>],\n",
       "       [<matplotlib.axes._subplots.AxesSubplot object at 0x7fb342fbd748>,\n",
       "        <matplotlib.axes._subplots.AxesSubplot object at 0x7fb342feec88>,\n",
       "        <matplotlib.axes._subplots.AxesSubplot object at 0x7fb34308e208>,\n",
       "        <matplotlib.axes._subplots.AxesSubplot object at 0x7fb343614748>]],\n",
       "      dtype=object)"
      ]
     },
     "execution_count": 276,
     "metadata": {},
     "output_type": "execute_result"
    },
    {
     "data": {
      "image/png": "[encoded data removed]",
      "text/plain": [
       "<Figure size 720x864 with 20 Axes>"
      ]
     },
     "metadata": {
      "needs_background": "light"
     },
     "output_type": "display_data"
    }
   ],
   "source": [
    "df_low_prices.hist(figsize = (10,12))"
   ]
  },
  {
   "cell_type": "code",
   "execution_count": null,
   "metadata": {
    "ExecuteTime": {
     "end_time": "2021-01-25T20:22:48.614010Z",
     "start_time": "2021-01-25T20:22:48.607749Z"
    }
   },
   "outputs": [],
   "source": []
  },
  {
   "cell_type": "code",
   "execution_count": null,
   "metadata": {
    "ExecuteTime": {
     "end_time": "2021-01-25T20:22:50.331097Z",
     "start_time": "2021-01-25T20:22:50.318914Z"
    }
   },
   "outputs": [],
   "source": []
  },
  {
   "cell_type": "code",
   "execution_count": 277,
   "metadata": {
    "ExecuteTime": {
     "end_time": "2021-01-26T05:51:10.799973Z",
     "start_time": "2021-01-26T05:51:10.797124Z"
    }
   },
   "outputs": [],
   "source": [
    "#\n",
    "#\n",
    "# making a base linear regression model"
   ]
  },
  {
   "cell_type": "code",
   "execution_count": 278,
   "metadata": {
    "ExecuteTime": {
     "end_time": "2021-01-26T05:51:11.246735Z",
     "start_time": "2021-01-26T05:51:11.186767Z"
    }
   },
   "outputs": [],
   "source": [
    "df_original = pd.read_csv('data/kc_house_data.csv')"
   ]
  },
  {
   "cell_type": "code",
   "execution_count": 279,
   "metadata": {
    "ExecuteTime": {
     "end_time": "2021-01-26T05:51:11.648097Z",
     "start_time": "2021-01-26T05:51:11.638453Z"
    }
   },
   "outputs": [],
   "source": [
    "outcome = 'price'\n",
    "\n",
    "x_col = df_original.dropna().drop(['price', 'sqft_basement', 'id', 'date', 'sqft_above',\n",
    "                                  'sqft_living15'], axis = 1).columns\n"
   ]
  },
  {
   "cell_type": "code",
   "execution_count": 280,
   "metadata": {
    "ExecuteTime": {
     "end_time": "2021-01-26T05:51:12.070409Z",
     "start_time": "2021-01-26T05:51:12.066097Z"
    }
   },
   "outputs": [
    {
     "data": {
      "text/plain": [
       "Index(['bedrooms', 'bathrooms', 'sqft_living', 'sqft_lot', 'floors',\n",
       "       'waterfront', 'view', 'condition', 'grade', 'yr_built', 'yr_renovated',\n",
       "       'zipcode', 'lat', 'long', 'sqft_lot15'],\n",
       "      dtype='object')"
      ]
     },
     "execution_count": 280,
     "metadata": {},
     "output_type": "execute_result"
    }
   ],
   "source": [
    "x_col"
   ]
  },
  {
   "cell_type": "code",
   "execution_count": 281,
   "metadata": {
    "ExecuteTime": {
     "end_time": "2021-01-26T05:51:12.499957Z",
     "start_time": "2021-01-26T05:51:12.493094Z"
    }
   },
   "outputs": [
    {
     "data": {
      "text/plain": [
       "'bedrooms+bathrooms+sqft_living+sqft_lot+floors+waterfront+view+condition+grade+yr_built+yr_renovated+zipcode+lat+long+sqft_lot15'"
      ]
     },
     "execution_count": 281,
     "metadata": {},
     "output_type": "execute_result"
    }
   ],
   "source": [
    "predictors = '+'.join(x_col)\n",
    "predictors"
   ]
  },
  {
   "cell_type": "code",
   "execution_count": 282,
   "metadata": {
    "ExecuteTime": {
     "end_time": "2021-01-26T05:51:12.908454Z",
     "start_time": "2021-01-26T05:51:12.904958Z"
    }
   },
   "outputs": [
    {
     "data": {
      "text/plain": [
       "'price~bedrooms+bathrooms+sqft_living+sqft_lot+floors+waterfront+view+condition+grade+yr_built+yr_renovated+zipcode+lat+long+sqft_lot15'"
      ]
     },
     "execution_count": 282,
     "metadata": {},
     "output_type": "execute_result"
    }
   ],
   "source": [
    "f = outcome + '~' + predictors\n",
    "f"
   ]
  },
  {
   "cell_type": "code",
   "execution_count": 283,
   "metadata": {
    "ExecuteTime": {
     "end_time": "2021-01-26T05:51:13.396355Z",
     "start_time": "2021-01-26T05:51:13.304366Z"
    }
   },
   "outputs": [
    {
     "data": {
      "text/html": [
       "<table class=\"simpletable\">\n",
       "<caption>OLS Regression Results</caption>\n",
       "<tr>\n",
       "  <th>Dep. Variable:</th>          <td>price</td>      <th>  R-squared:         </th>  <td>   0.700</td>  \n",
       "</tr>\n",
       "<tr>\n",
       "  <th>Model:</th>                   <td>OLS</td>       <th>  Adj. R-squared:    </th>  <td>   0.699</td>  \n",
       "</tr>\n",
       "<tr>\n",
       "  <th>Method:</th>             <td>Least Squares</td>  <th>  F-statistic:       </th>  <td>   2446.</td>  \n",
       "</tr>\n",
       "<tr>\n",
       "  <th>Date:</th>             <td>Mon, 25 Jan 2021</td> <th>  Prob (F-statistic):</th>   <td>  0.00</td>   \n",
       "</tr>\n",
       "<tr>\n",
       "  <th>Time:</th>                 <td>23:51:13</td>     <th>  Log-Likelihood:    </th> <td>-2.1507e+05</td>\n",
       "</tr>\n",
       "<tr>\n",
       "  <th>No. Observations:</th>      <td> 15762</td>      <th>  AIC:               </th>  <td>4.302e+05</td> \n",
       "</tr>\n",
       "<tr>\n",
       "  <th>Df Residuals:</th>          <td> 15746</td>      <th>  BIC:               </th>  <td>4.303e+05</td> \n",
       "</tr>\n",
       "<tr>\n",
       "  <th>Df Model:</th>              <td>    15</td>      <th>                     </th>      <td> </td>     \n",
       "</tr>\n",
       "<tr>\n",
       "  <th>Covariance Type:</th>      <td>nonrobust</td>    <th>                     </th>      <td> </td>     \n",
       "</tr>\n",
       "</table>\n",
       "<table class=\"simpletable\">\n",
       "<tr>\n",
       "        <td></td>          <th>coef</th>     <th>std err</th>      <th>t</th>      <th>P>|t|</th>  <th>[0.025</th>    <th>0.975]</th>  \n",
       "</tr>\n",
       "<tr>\n",
       "  <th>Intercept</th>    <td> 1.243e+07</td> <td> 3.38e+06</td> <td>    3.682</td> <td> 0.000</td> <td> 5.81e+06</td> <td> 1.91e+07</td>\n",
       "</tr>\n",
       "<tr>\n",
       "  <th>bedrooms</th>     <td>-3.782e+04</td> <td> 2224.734</td> <td>  -16.998</td> <td> 0.000</td> <td>-4.22e+04</td> <td>-3.35e+04</td>\n",
       "</tr>\n",
       "<tr>\n",
       "  <th>bathrooms</th>    <td> 3.944e+04</td> <td> 3824.310</td> <td>   10.314</td> <td> 0.000</td> <td> 3.19e+04</td> <td> 4.69e+04</td>\n",
       "</tr>\n",
       "<tr>\n",
       "  <th>sqft_living</th>  <td>  186.5146</td> <td>    3.678</td> <td>   50.714</td> <td> 0.000</td> <td>  179.306</td> <td>  193.723</td>\n",
       "</tr>\n",
       "<tr>\n",
       "  <th>sqft_lot</th>     <td>    0.0905</td> <td>    0.056</td> <td>    1.609</td> <td> 0.108</td> <td>   -0.020</td> <td>    0.201</td>\n",
       "</tr>\n",
       "<tr>\n",
       "  <th>floors</th>       <td> 1.704e+04</td> <td> 3826.392</td> <td>    4.452</td> <td> 0.000</td> <td> 9534.917</td> <td> 2.45e+04</td>\n",
       "</tr>\n",
       "<tr>\n",
       "  <th>waterfront</th>   <td> 6.131e+05</td> <td> 2.06e+04</td> <td>   29.791</td> <td> 0.000</td> <td> 5.73e+05</td> <td> 6.53e+05</td>\n",
       "</tr>\n",
       "<tr>\n",
       "  <th>view</th>         <td> 5.149e+04</td> <td> 2505.480</td> <td>   20.551</td> <td> 0.000</td> <td> 4.66e+04</td> <td> 5.64e+04</td>\n",
       "</tr>\n",
       "<tr>\n",
       "  <th>condition</th>    <td> 2.423e+04</td> <td> 2780.223</td> <td>    8.714</td> <td> 0.000</td> <td> 1.88e+04</td> <td> 2.97e+04</td>\n",
       "</tr>\n",
       "<tr>\n",
       "  <th>grade</th>        <td> 1.006e+05</td> <td> 2412.252</td> <td>   41.688</td> <td> 0.000</td> <td> 9.58e+04</td> <td> 1.05e+05</td>\n",
       "</tr>\n",
       "<tr>\n",
       "  <th>yr_built</th>     <td>-2701.0478</td> <td>   86.085</td> <td>  -31.376</td> <td> 0.000</td> <td>-2869.785</td> <td>-2532.310</td>\n",
       "</tr>\n",
       "<tr>\n",
       "  <th>yr_renovated</th> <td>   18.4269</td> <td>    4.371</td> <td>    4.215</td> <td> 0.000</td> <td>    9.858</td> <td>   26.995</td>\n",
       "</tr>\n",
       "<tr>\n",
       "  <th>zipcode</th>      <td> -596.7359</td> <td>   38.978</td> <td>  -15.310</td> <td> 0.000</td> <td> -673.136</td> <td> -520.335</td>\n",
       "</tr>\n",
       "<tr>\n",
       "  <th>lat</th>          <td> 5.953e+05</td> <td> 1.26e+04</td> <td>   47.065</td> <td> 0.000</td> <td> 5.71e+05</td> <td>  6.2e+05</td>\n",
       "</tr>\n",
       "<tr>\n",
       "  <th>long</th>         <td>-1.833e+05</td> <td> 1.51e+04</td> <td>  -12.143</td> <td> 0.000</td> <td>-2.13e+05</td> <td>-1.54e+05</td>\n",
       "</tr>\n",
       "<tr>\n",
       "  <th>sqft_lot15</th>   <td>   -0.3093</td> <td>    0.085</td> <td>   -3.651</td> <td> 0.000</td> <td>   -0.475</td> <td>   -0.143</td>\n",
       "</tr>\n",
       "</table>\n",
       "<table class=\"simpletable\">\n",
       "<tr>\n",
       "  <th>Omnibus:</th>       <td>13686.966</td> <th>  Durbin-Watson:     </th>  <td>   1.979</td>  \n",
       "</tr>\n",
       "<tr>\n",
       "  <th>Prob(Omnibus):</th>  <td> 0.000</td>   <th>  Jarque-Bera (JB):  </th> <td>1479753.525</td>\n",
       "</tr>\n",
       "<tr>\n",
       "  <th>Skew:</th>           <td> 3.667</td>   <th>  Prob(JB):          </th>  <td>    0.00</td>  \n",
       "</tr>\n",
       "<tr>\n",
       "  <th>Kurtosis:</th>       <td>49.897</td>   <th>  Cond. No.          </th>  <td>2.09e+08</td>  \n",
       "</tr>\n",
       "</table><br/><br/>Warnings:<br/>[1] Standard Errors assume that the covariance matrix of the errors is correctly specified.<br/>[2] The condition number is large, 2.09e+08. This might indicate that there are<br/>strong multicollinearity or other numerical problems."
      ],
      "text/plain": [
       "<class 'statsmodels.iolib.summary.Summary'>\n",
       "\"\"\"\n",
       "                            OLS Regression Results                            \n",
       "==============================================================================\n",
       "Dep. Variable:                  price   R-squared:                       0.700\n",
       "Model:                            OLS   Adj. R-squared:                  0.699\n",
       "Method:                 Least Squares   F-statistic:                     2446.\n",
       "Date:                Mon, 25 Jan 2021   Prob (F-statistic):               0.00\n",
       "Time:                        23:51:13   Log-Likelihood:            -2.1507e+05\n",
       "No. Observations:               15762   AIC:                         4.302e+05\n",
       "Df Residuals:                   15746   BIC:                         4.303e+05\n",
       "Df Model:                          15                                         \n",
       "Covariance Type:            nonrobust                                         \n",
       "================================================================================\n",
       "                   coef    std err          t      P>|t|      [0.025      0.975]\n",
       "--------------------------------------------------------------------------------\n",
       "Intercept     1.243e+07   3.38e+06      3.682      0.000    5.81e+06    1.91e+07\n",
       "bedrooms     -3.782e+04   2224.734    -16.998      0.000   -4.22e+04   -3.35e+04\n",
       "bathrooms     3.944e+04   3824.310     10.314      0.000    3.19e+04    4.69e+04\n",
       "sqft_living    186.5146      3.678     50.714      0.000     179.306     193.723\n",
       "sqft_lot         0.0905      0.056      1.609      0.108      -0.020       0.201\n",
       "floors        1.704e+04   3826.392      4.452      0.000    9534.917    2.45e+04\n",
       "waterfront    6.131e+05   2.06e+04     29.791      0.000    5.73e+05    6.53e+05\n",
       "view          5.149e+04   2505.480     20.551      0.000    4.66e+04    5.64e+04\n",
       "condition     2.423e+04   2780.223      8.714      0.000    1.88e+04    2.97e+04\n",
       "grade         1.006e+05   2412.252     41.688      0.000    9.58e+04    1.05e+05\n",
       "yr_built     -2701.0478     86.085    -31.376      0.000   -2869.785   -2532.310\n",
       "yr_renovated    18.4269      4.371      4.215      0.000       9.858      26.995\n",
       "zipcode       -596.7359     38.978    -15.310      0.000    -673.136    -520.335\n",
       "lat           5.953e+05   1.26e+04     47.065      0.000    5.71e+05     6.2e+05\n",
       "long         -1.833e+05   1.51e+04    -12.143      0.000   -2.13e+05   -1.54e+05\n",
       "sqft_lot15      -0.3093      0.085     -3.651      0.000      -0.475      -0.143\n",
       "==============================================================================\n",
       "Omnibus:                    13686.966   Durbin-Watson:                   1.979\n",
       "Prob(Omnibus):                  0.000   Jarque-Bera (JB):          1479753.525\n",
       "Skew:                           3.667   Prob(JB):                         0.00\n",
       "Kurtosis:                      49.897   Cond. No.                     2.09e+08\n",
       "==============================================================================\n",
       "\n",
       "Warnings:\n",
       "[1] Standard Errors assume that the covariance matrix of the errors is correctly specified.\n",
       "[2] The condition number is large, 2.09e+08. This might indicate that there are\n",
       "strong multicollinearity or other numerical problems.\n",
       "\"\"\""
      ]
     },
     "execution_count": 283,
     "metadata": {},
     "output_type": "execute_result"
    }
   ],
   "source": [
    "model_base = ols(formula = f, data = df_original).fit()\n",
    "model_base.summary()"
   ]
  },
  {
   "cell_type": "code",
   "execution_count": 284,
   "metadata": {
    "ExecuteTime": {
     "end_time": "2021-01-26T05:51:15.000169Z",
     "start_time": "2021-01-26T05:51:14.997088Z"
    }
   },
   "outputs": [],
   "source": [
    "#\n",
    "#\n",
    "# making a regression model off of df_low_prices"
   ]
  },
  {
   "cell_type": "code",
   "execution_count": 285,
   "metadata": {
    "ExecuteTime": {
     "end_time": "2021-01-26T05:51:17.132147Z",
     "start_time": "2021-01-26T05:51:17.108539Z"
    }
   },
   "outputs": [
    {
     "data": {
      "text/html": [
       "<div>\n",
       "<style scoped>\n",
       "    .dataframe tbody tr th:only-of-type {\n",
       "        vertical-align: middle;\n",
       "    }\n",
       "\n",
       "    .dataframe tbody tr th {\n",
       "        vertical-align: top;\n",
       "    }\n",
       "\n",
       "    .dataframe thead th {\n",
       "        text-align: right;\n",
       "    }\n",
       "</style>\n",
       "<table border=\"1\" class=\"dataframe\">\n",
       "  <thead>\n",
       "    <tr style=\"text-align: right;\">\n",
       "      <th></th>\n",
       "      <th>id</th>\n",
       "      <th>date</th>\n",
       "      <th>price</th>\n",
       "      <th>bedrooms</th>\n",
       "      <th>bathrooms</th>\n",
       "      <th>sqft_living</th>\n",
       "      <th>sqft_lot</th>\n",
       "      <th>floors</th>\n",
       "      <th>waterfront</th>\n",
       "      <th>condition</th>\n",
       "      <th>...</th>\n",
       "      <th>yr_built</th>\n",
       "      <th>zipcode</th>\n",
       "      <th>lat</th>\n",
       "      <th>long</th>\n",
       "      <th>date_dateformat</th>\n",
       "      <th>month</th>\n",
       "      <th>year</th>\n",
       "      <th>age_sold</th>\n",
       "      <th>name_of_month</th>\n",
       "      <th>seasons</th>\n",
       "    </tr>\n",
       "  </thead>\n",
       "  <tbody>\n",
       "    <tr>\n",
       "      <th>0</th>\n",
       "      <td>7129300520</td>\n",
       "      <td>10/13/2014</td>\n",
       "      <td>221900.0</td>\n",
       "      <td>3</td>\n",
       "      <td>1.00</td>\n",
       "      <td>1180</td>\n",
       "      <td>5650</td>\n",
       "      <td>1.0</td>\n",
       "      <td>0.0</td>\n",
       "      <td>3</td>\n",
       "      <td>...</td>\n",
       "      <td>1955</td>\n",
       "      <td>98178</td>\n",
       "      <td>47.5112</td>\n",
       "      <td>-122.257</td>\n",
       "      <td>2014-10-13</td>\n",
       "      <td>10</td>\n",
       "      <td>2014</td>\n",
       "      <td>59</td>\n",
       "      <td>Oct</td>\n",
       "      <td>fall</td>\n",
       "    </tr>\n",
       "    <tr>\n",
       "      <th>1</th>\n",
       "      <td>6414100192</td>\n",
       "      <td>12/9/2014</td>\n",
       "      <td>538000.0</td>\n",
       "      <td>3</td>\n",
       "      <td>2.25</td>\n",
       "      <td>2570</td>\n",
       "      <td>7242</td>\n",
       "      <td>2.0</td>\n",
       "      <td>0.0</td>\n",
       "      <td>3</td>\n",
       "      <td>...</td>\n",
       "      <td>1951</td>\n",
       "      <td>98125</td>\n",
       "      <td>47.7210</td>\n",
       "      <td>-122.319</td>\n",
       "      <td>2014-12-09</td>\n",
       "      <td>12</td>\n",
       "      <td>2014</td>\n",
       "      <td>63</td>\n",
       "      <td>Dec</td>\n",
       "      <td>winter</td>\n",
       "    </tr>\n",
       "    <tr>\n",
       "      <th>2</th>\n",
       "      <td>5631500400</td>\n",
       "      <td>2/25/2015</td>\n",
       "      <td>180000.0</td>\n",
       "      <td>2</td>\n",
       "      <td>1.00</td>\n",
       "      <td>770</td>\n",
       "      <td>10000</td>\n",
       "      <td>1.0</td>\n",
       "      <td>0.0</td>\n",
       "      <td>3</td>\n",
       "      <td>...</td>\n",
       "      <td>1933</td>\n",
       "      <td>98028</td>\n",
       "      <td>47.7379</td>\n",
       "      <td>-122.233</td>\n",
       "      <td>2015-02-25</td>\n",
       "      <td>2</td>\n",
       "      <td>2015</td>\n",
       "      <td>82</td>\n",
       "      <td>Feb</td>\n",
       "      <td>winter</td>\n",
       "    </tr>\n",
       "    <tr>\n",
       "      <th>3</th>\n",
       "      <td>2487200875</td>\n",
       "      <td>12/9/2014</td>\n",
       "      <td>604000.0</td>\n",
       "      <td>4</td>\n",
       "      <td>3.00</td>\n",
       "      <td>1960</td>\n",
       "      <td>5000</td>\n",
       "      <td>1.0</td>\n",
       "      <td>0.0</td>\n",
       "      <td>5</td>\n",
       "      <td>...</td>\n",
       "      <td>1965</td>\n",
       "      <td>98136</td>\n",
       "      <td>47.5208</td>\n",
       "      <td>-122.393</td>\n",
       "      <td>2014-12-09</td>\n",
       "      <td>12</td>\n",
       "      <td>2014</td>\n",
       "      <td>49</td>\n",
       "      <td>Dec</td>\n",
       "      <td>winter</td>\n",
       "    </tr>\n",
       "    <tr>\n",
       "      <th>4</th>\n",
       "      <td>1954400510</td>\n",
       "      <td>2/18/2015</td>\n",
       "      <td>510000.0</td>\n",
       "      <td>3</td>\n",
       "      <td>2.00</td>\n",
       "      <td>1680</td>\n",
       "      <td>8080</td>\n",
       "      <td>1.0</td>\n",
       "      <td>0.0</td>\n",
       "      <td>3</td>\n",
       "      <td>...</td>\n",
       "      <td>1987</td>\n",
       "      <td>98074</td>\n",
       "      <td>47.6168</td>\n",
       "      <td>-122.045</td>\n",
       "      <td>2015-02-18</td>\n",
       "      <td>2</td>\n",
       "      <td>2015</td>\n",
       "      <td>28</td>\n",
       "      <td>Feb</td>\n",
       "      <td>winter</td>\n",
       "    </tr>\n",
       "  </tbody>\n",
       "</table>\n",
       "<p>5 rows × 21 columns</p>\n",
       "</div>"
      ],
      "text/plain": [
       "           id        date     price  bedrooms  bathrooms  sqft_living  \\\n",
       "0  7129300520  10/13/2014  221900.0         3       1.00         1180   \n",
       "1  6414100192   12/9/2014  538000.0         3       2.25         2570   \n",
       "2  5631500400   2/25/2015  180000.0         2       1.00          770   \n",
       "3  2487200875   12/9/2014  604000.0         4       3.00         1960   \n",
       "4  1954400510   2/18/2015  510000.0         3       2.00         1680   \n",
       "\n",
       "   sqft_lot  floors  waterfront  condition  ...  yr_built  zipcode      lat  \\\n",
       "0      5650     1.0         0.0          3  ...      1955    98178  47.5112   \n",
       "1      7242     2.0         0.0          3  ...      1951    98125  47.7210   \n",
       "2     10000     1.0         0.0          3  ...      1933    98028  47.7379   \n",
       "3      5000     1.0         0.0          5  ...      1965    98136  47.5208   \n",
       "4      8080     1.0         0.0          3  ...      1987    98074  47.6168   \n",
       "\n",
       "      long  date_dateformat month  year  age_sold  name_of_month seasons  \n",
       "0 -122.257       2014-10-13    10  2014        59            Oct    fall  \n",
       "1 -122.319       2014-12-09    12  2014        63            Dec  winter  \n",
       "2 -122.233       2015-02-25     2  2015        82            Feb  winter  \n",
       "3 -122.393       2014-12-09    12  2014        49            Dec  winter  \n",
       "4 -122.045       2015-02-18     2  2015        28            Feb  winter  \n",
       "\n",
       "[5 rows x 21 columns]"
      ]
     },
     "execution_count": 285,
     "metadata": {},
     "output_type": "execute_result"
    }
   ],
   "source": [
    "df_low_prices.head()"
   ]
  },
  {
   "cell_type": "code",
   "execution_count": 286,
   "metadata": {
    "ExecuteTime": {
     "end_time": "2021-01-26T05:51:17.857269Z",
     "start_time": "2021-01-26T05:51:17.844158Z"
    }
   },
   "outputs": [],
   "source": [
    "outcome = 'price'\n",
    "\n",
    "xcols = df_low_prices.dropna().drop(['price', 'id', 'date', 'date_dateformat', \n",
    "                                     'seasons', 'name_of_month', 'month', 'year',\n",
    "                                    'age_sold'], axis = 1).columns\n"
   ]
  },
  {
   "cell_type": "code",
   "execution_count": 287,
   "metadata": {
    "ExecuteTime": {
     "end_time": "2021-01-26T05:51:18.427966Z",
     "start_time": "2021-01-26T05:51:18.419563Z"
    }
   },
   "outputs": [
    {
     "data": {
      "text/plain": [
       "Index(['bedrooms', 'bathrooms', 'sqft_living', 'sqft_lot', 'floors',\n",
       "       'waterfront', 'condition', 'grade', 'yr_built', 'zipcode', 'lat',\n",
       "       'long'],\n",
       "      dtype='object')"
      ]
     },
     "execution_count": 287,
     "metadata": {},
     "output_type": "execute_result"
    }
   ],
   "source": [
    "xcols"
   ]
  },
  {
   "cell_type": "code",
   "execution_count": 288,
   "metadata": {
    "ExecuteTime": {
     "end_time": "2021-01-26T05:51:18.968271Z",
     "start_time": "2021-01-26T05:51:18.963004Z"
    }
   },
   "outputs": [
    {
     "data": {
      "text/plain": [
       "'bedrooms+bathrooms+sqft_living+sqft_lot+floors+waterfront+condition+grade+yr_built+zipcode+lat+long'"
      ]
     },
     "execution_count": 288,
     "metadata": {},
     "output_type": "execute_result"
    }
   ],
   "source": [
    "predictors = '+'.join(xcols)\n",
    "predictors"
   ]
  },
  {
   "cell_type": "code",
   "execution_count": 289,
   "metadata": {
    "ExecuteTime": {
     "end_time": "2021-01-26T05:51:19.459677Z",
     "start_time": "2021-01-26T05:51:19.450010Z"
    }
   },
   "outputs": [
    {
     "data": {
      "text/plain": [
       "'price~bedrooms+bathrooms+sqft_living+sqft_lot+floors+waterfront+condition+grade+yr_built+zipcode+lat+long'"
      ]
     },
     "execution_count": 289,
     "metadata": {},
     "output_type": "execute_result"
    }
   ],
   "source": [
    "f = outcome + '~' + predictors\n",
    "f"
   ]
  },
  {
   "cell_type": "code",
   "execution_count": 290,
   "metadata": {
    "ExecuteTime": {
     "end_time": "2021-01-26T05:51:20.091177Z",
     "start_time": "2021-01-26T05:51:20.008734Z"
    },
    "scrolled": false
   },
   "outputs": [
    {
     "data": {
      "text/html": [
       "<table class=\"simpletable\">\n",
       "<caption>OLS Regression Results</caption>\n",
       "<tr>\n",
       "  <th>Dep. Variable:</th>          <td>price</td>      <th>  R-squared:         </th>  <td>   0.648</td>  \n",
       "</tr>\n",
       "<tr>\n",
       "  <th>Model:</th>                   <td>OLS</td>       <th>  Adj. R-squared:    </th>  <td>   0.648</td>  \n",
       "</tr>\n",
       "<tr>\n",
       "  <th>Method:</th>             <td>Least Squares</td>  <th>  F-statistic:       </th>  <td>   2944.</td>  \n",
       "</tr>\n",
       "<tr>\n",
       "  <th>Date:</th>             <td>Mon, 25 Jan 2021</td> <th>  Prob (F-statistic):</th>   <td>  0.00</td>   \n",
       "</tr>\n",
       "<tr>\n",
       "  <th>Time:</th>                 <td>23:51:20</td>     <th>  Log-Likelihood:    </th> <td>-2.4819e+05</td>\n",
       "</tr>\n",
       "<tr>\n",
       "  <th>No. Observations:</th>      <td> 19165</td>      <th>  AIC:               </th>  <td>4.964e+05</td> \n",
       "</tr>\n",
       "<tr>\n",
       "  <th>Df Residuals:</th>          <td> 19152</td>      <th>  BIC:               </th>  <td>4.965e+05</td> \n",
       "</tr>\n",
       "<tr>\n",
       "  <th>Df Model:</th>              <td>    12</td>      <th>                     </th>      <td> </td>     \n",
       "</tr>\n",
       "<tr>\n",
       "  <th>Covariance Type:</th>      <td>nonrobust</td>    <th>                     </th>      <td> </td>     \n",
       "</tr>\n",
       "</table>\n",
       "<table class=\"simpletable\">\n",
       "<tr>\n",
       "       <td></td>          <th>coef</th>     <th>std err</th>      <th>t</th>      <th>P>|t|</th>  <th>[0.025</th>    <th>0.975]</th>  \n",
       "</tr>\n",
       "<tr>\n",
       "  <th>Intercept</th>   <td>-4.982e+06</td> <td> 1.52e+06</td> <td>   -3.288</td> <td> 0.001</td> <td>-7.95e+06</td> <td>-2.01e+06</td>\n",
       "</tr>\n",
       "<tr>\n",
       "  <th>bedrooms</th>    <td>-1.022e+04</td> <td> 1047.878</td> <td>   -9.750</td> <td> 0.000</td> <td>-1.23e+04</td> <td>-8162.409</td>\n",
       "</tr>\n",
       "<tr>\n",
       "  <th>bathrooms</th>   <td> 2.279e+04</td> <td> 1795.344</td> <td>   12.692</td> <td> 0.000</td> <td> 1.93e+04</td> <td> 2.63e+04</td>\n",
       "</tr>\n",
       "<tr>\n",
       "  <th>sqft_living</th> <td>   80.4674</td> <td>    1.868</td> <td>   43.079</td> <td> 0.000</td> <td>   76.806</td> <td>   84.129</td>\n",
       "</tr>\n",
       "<tr>\n",
       "  <th>sqft_lot</th>    <td>    0.2329</td> <td>    0.020</td> <td>   11.461</td> <td> 0.000</td> <td>    0.193</td> <td>    0.273</td>\n",
       "</tr>\n",
       "<tr>\n",
       "  <th>floors</th>      <td> 2.668e+04</td> <td> 1753.473</td> <td>   15.216</td> <td> 0.000</td> <td> 2.32e+04</td> <td> 3.01e+04</td>\n",
       "</tr>\n",
       "<tr>\n",
       "  <th>waterfront</th>  <td> 2.149e+05</td> <td> 1.64e+04</td> <td>   13.108</td> <td> 0.000</td> <td> 1.83e+05</td> <td> 2.47e+05</td>\n",
       "</tr>\n",
       "<tr>\n",
       "  <th>condition</th>   <td> 2.057e+04</td> <td> 1247.200</td> <td>   16.496</td> <td> 0.000</td> <td> 1.81e+04</td> <td>  2.3e+04</td>\n",
       "</tr>\n",
       "<tr>\n",
       "  <th>grade</th>       <td> 7.187e+04</td> <td> 1168.172</td> <td>   61.522</td> <td> 0.000</td> <td> 6.96e+04</td> <td> 7.42e+04</td>\n",
       "</tr>\n",
       "<tr>\n",
       "  <th>yr_built</th>    <td>-1634.3103</td> <td>   38.933</td> <td>  -41.978</td> <td> 0.000</td> <td>-1710.622</td> <td>-1557.998</td>\n",
       "</tr>\n",
       "<tr>\n",
       "  <th>zipcode</th>     <td> -152.2766</td> <td>   17.587</td> <td>   -8.659</td> <td> 0.000</td> <td> -186.748</td> <td> -117.805</td>\n",
       "</tr>\n",
       "<tr>\n",
       "  <th>lat</th>         <td> 5.112e+05</td> <td> 5509.470</td> <td>   92.785</td> <td> 0.000</td> <td>    5e+05</td> <td> 5.22e+05</td>\n",
       "</tr>\n",
       "<tr>\n",
       "  <th>long</th>        <td> 1.258e+04</td> <td> 6675.473</td> <td>    1.885</td> <td> 0.059</td> <td> -500.649</td> <td> 2.57e+04</td>\n",
       "</tr>\n",
       "</table>\n",
       "<table class=\"simpletable\">\n",
       "<tr>\n",
       "  <th>Omnibus:</th>       <td>705.348</td> <th>  Durbin-Watson:     </th> <td>   1.993</td> \n",
       "</tr>\n",
       "<tr>\n",
       "  <th>Prob(Omnibus):</th> <td> 0.000</td>  <th>  Jarque-Bera (JB):  </th> <td> 937.502</td> \n",
       "</tr>\n",
       "<tr>\n",
       "  <th>Skew:</th>          <td> 0.395</td>  <th>  Prob(JB):          </th> <td>2.65e-204</td>\n",
       "</tr>\n",
       "<tr>\n",
       "  <th>Kurtosis:</th>      <td> 3.742</td>  <th>  Cond. No.          </th> <td>2.04e+08</td> \n",
       "</tr>\n",
       "</table><br/><br/>Warnings:<br/>[1] Standard Errors assume that the covariance matrix of the errors is correctly specified.<br/>[2] The condition number is large, 2.04e+08. This might indicate that there are<br/>strong multicollinearity or other numerical problems."
      ],
      "text/plain": [
       "<class 'statsmodels.iolib.summary.Summary'>\n",
       "\"\"\"\n",
       "                            OLS Regression Results                            \n",
       "==============================================================================\n",
       "Dep. Variable:                  price   R-squared:                       0.648\n",
       "Model:                            OLS   Adj. R-squared:                  0.648\n",
       "Method:                 Least Squares   F-statistic:                     2944.\n",
       "Date:                Mon, 25 Jan 2021   Prob (F-statistic):               0.00\n",
       "Time:                        23:51:20   Log-Likelihood:            -2.4819e+05\n",
       "No. Observations:               19165   AIC:                         4.964e+05\n",
       "Df Residuals:                   19152   BIC:                         4.965e+05\n",
       "Df Model:                          12                                         \n",
       "Covariance Type:            nonrobust                                         \n",
       "===============================================================================\n",
       "                  coef    std err          t      P>|t|      [0.025      0.975]\n",
       "-------------------------------------------------------------------------------\n",
       "Intercept   -4.982e+06   1.52e+06     -3.288      0.001   -7.95e+06   -2.01e+06\n",
       "bedrooms    -1.022e+04   1047.878     -9.750      0.000   -1.23e+04   -8162.409\n",
       "bathrooms    2.279e+04   1795.344     12.692      0.000    1.93e+04    2.63e+04\n",
       "sqft_living    80.4674      1.868     43.079      0.000      76.806      84.129\n",
       "sqft_lot        0.2329      0.020     11.461      0.000       0.193       0.273\n",
       "floors       2.668e+04   1753.473     15.216      0.000    2.32e+04    3.01e+04\n",
       "waterfront   2.149e+05   1.64e+04     13.108      0.000    1.83e+05    2.47e+05\n",
       "condition    2.057e+04   1247.200     16.496      0.000    1.81e+04     2.3e+04\n",
       "grade        7.187e+04   1168.172     61.522      0.000    6.96e+04    7.42e+04\n",
       "yr_built    -1634.3103     38.933    -41.978      0.000   -1710.622   -1557.998\n",
       "zipcode      -152.2766     17.587     -8.659      0.000    -186.748    -117.805\n",
       "lat          5.112e+05   5509.470     92.785      0.000       5e+05    5.22e+05\n",
       "long         1.258e+04   6675.473      1.885      0.059    -500.649    2.57e+04\n",
       "==============================================================================\n",
       "Omnibus:                      705.348   Durbin-Watson:                   1.993\n",
       "Prob(Omnibus):                  0.000   Jarque-Bera (JB):              937.502\n",
       "Skew:                           0.395   Prob(JB):                    2.65e-204\n",
       "Kurtosis:                       3.742   Cond. No.                     2.04e+08\n",
       "==============================================================================\n",
       "\n",
       "Warnings:\n",
       "[1] Standard Errors assume that the covariance matrix of the errors is correctly specified.\n",
       "[2] The condition number is large, 2.04e+08. This might indicate that there are\n",
       "strong multicollinearity or other numerical problems.\n",
       "\"\"\""
      ]
     },
     "execution_count": 290,
     "metadata": {},
     "output_type": "execute_result"
    }
   ],
   "source": [
    "model_1 = ols(formula = f, data = df_low_prices).fit()\n",
    "model_1.summary()"
   ]
  },
  {
   "cell_type": "code",
   "execution_count": 291,
   "metadata": {
    "ExecuteTime": {
     "end_time": "2021-01-26T05:51:20.760312Z",
     "start_time": "2021-01-26T05:51:20.757204Z"
    }
   },
   "outputs": [],
   "source": [
    "#\n",
    "#\n",
    "# making dummies for grade"
   ]
  },
  {
   "cell_type": "code",
   "execution_count": 292,
   "metadata": {
    "ExecuteTime": {
     "end_time": "2021-01-26T05:51:21.474339Z",
     "start_time": "2021-01-26T05:51:21.469473Z"
    }
   },
   "outputs": [],
   "source": [
    "df_grade = pd.get_dummies(df_low_prices['grade'], prefix = 'grade', drop_first = True)"
   ]
  },
  {
   "cell_type": "code",
   "execution_count": 293,
   "metadata": {
    "ExecuteTime": {
     "end_time": "2021-01-26T05:51:22.091375Z",
     "start_time": "2021-01-26T05:51:22.077000Z"
    }
   },
   "outputs": [],
   "source": [
    "df2 = pd.concat([df_low_prices, df_grade], axis = 1)"
   ]
  },
  {
   "cell_type": "code",
   "execution_count": 294,
   "metadata": {
    "ExecuteTime": {
     "end_time": "2021-01-26T05:51:22.662600Z",
     "start_time": "2021-01-26T05:51:22.642411Z"
    }
   },
   "outputs": [
    {
     "name": "stdout",
     "output_type": "stream",
     "text": [
      "<class 'pandas.core.frame.DataFrame'>\n",
      "Int64Index: 19165 entries, 0 to 21596\n",
      "Data columns (total 30 columns):\n",
      "id                 19165 non-null int64\n",
      "date               19165 non-null object\n",
      "price              19165 non-null float64\n",
      "bedrooms           19165 non-null int64\n",
      "bathrooms          19165 non-null float64\n",
      "sqft_living        19165 non-null int64\n",
      "sqft_lot           19165 non-null int64\n",
      "floors             19165 non-null float64\n",
      "waterfront         19165 non-null float64\n",
      "condition          19165 non-null int64\n",
      "grade              19165 non-null int64\n",
      "yr_built           19165 non-null int64\n",
      "zipcode            19165 non-null int64\n",
      "lat                19165 non-null float64\n",
      "long               19165 non-null float64\n",
      "date_dateformat    19165 non-null datetime64[ns]\n",
      "month              19165 non-null int64\n",
      "year               19165 non-null int64\n",
      "age_sold           19165 non-null int64\n",
      "name_of_month      19165 non-null object\n",
      "seasons            19165 non-null object\n",
      "grade_4            19165 non-null uint8\n",
      "grade_5            19165 non-null uint8\n",
      "grade_6            19165 non-null uint8\n",
      "grade_7            19165 non-null uint8\n",
      "grade_8            19165 non-null uint8\n",
      "grade_9            19165 non-null uint8\n",
      "grade_10           19165 non-null uint8\n",
      "grade_11           19165 non-null uint8\n",
      "grade_12           19165 non-null uint8\n",
      "dtypes: datetime64[ns](1), float64(6), int64(11), object(3), uint8(9)\n",
      "memory usage: 4.0+ MB\n"
     ]
    }
   ],
   "source": [
    "df2.info()"
   ]
  },
  {
   "cell_type": "code",
   "execution_count": 295,
   "metadata": {
    "ExecuteTime": {
     "end_time": "2021-01-26T05:51:23.212382Z",
     "start_time": "2021-01-26T05:51:23.188042Z"
    }
   },
   "outputs": [
    {
     "data": {
      "text/html": [
       "<div>\n",
       "<style scoped>\n",
       "    .dataframe tbody tr th:only-of-type {\n",
       "        vertical-align: middle;\n",
       "    }\n",
       "\n",
       "    .dataframe tbody tr th {\n",
       "        vertical-align: top;\n",
       "    }\n",
       "\n",
       "    .dataframe thead th {\n",
       "        text-align: right;\n",
       "    }\n",
       "</style>\n",
       "<table border=\"1\" class=\"dataframe\">\n",
       "  <thead>\n",
       "    <tr style=\"text-align: right;\">\n",
       "      <th></th>\n",
       "      <th>id</th>\n",
       "      <th>date</th>\n",
       "      <th>price</th>\n",
       "      <th>bedrooms</th>\n",
       "      <th>bathrooms</th>\n",
       "      <th>sqft_living</th>\n",
       "      <th>sqft_lot</th>\n",
       "      <th>floors</th>\n",
       "      <th>waterfront</th>\n",
       "      <th>condition</th>\n",
       "      <th>...</th>\n",
       "      <th>year</th>\n",
       "      <th>grade_4</th>\n",
       "      <th>grade_5</th>\n",
       "      <th>grade_6</th>\n",
       "      <th>grade_7</th>\n",
       "      <th>grade_8</th>\n",
       "      <th>grade_9</th>\n",
       "      <th>grade_10</th>\n",
       "      <th>grade_11</th>\n",
       "      <th>grade_12</th>\n",
       "    </tr>\n",
       "  </thead>\n",
       "  <tbody>\n",
       "    <tr>\n",
       "      <th>0</th>\n",
       "      <td>7129300520</td>\n",
       "      <td>10/13/2014</td>\n",
       "      <td>221900.0</td>\n",
       "      <td>3</td>\n",
       "      <td>1.00</td>\n",
       "      <td>1180</td>\n",
       "      <td>5650</td>\n",
       "      <td>1.0</td>\n",
       "      <td>0.0</td>\n",
       "      <td>3</td>\n",
       "      <td>...</td>\n",
       "      <td>2014</td>\n",
       "      <td>0</td>\n",
       "      <td>0</td>\n",
       "      <td>0</td>\n",
       "      <td>1</td>\n",
       "      <td>0</td>\n",
       "      <td>0</td>\n",
       "      <td>0</td>\n",
       "      <td>0</td>\n",
       "      <td>0</td>\n",
       "    </tr>\n",
       "    <tr>\n",
       "      <th>1</th>\n",
       "      <td>6414100192</td>\n",
       "      <td>12/9/2014</td>\n",
       "      <td>538000.0</td>\n",
       "      <td>3</td>\n",
       "      <td>2.25</td>\n",
       "      <td>2570</td>\n",
       "      <td>7242</td>\n",
       "      <td>2.0</td>\n",
       "      <td>0.0</td>\n",
       "      <td>3</td>\n",
       "      <td>...</td>\n",
       "      <td>2014</td>\n",
       "      <td>0</td>\n",
       "      <td>0</td>\n",
       "      <td>0</td>\n",
       "      <td>1</td>\n",
       "      <td>0</td>\n",
       "      <td>0</td>\n",
       "      <td>0</td>\n",
       "      <td>0</td>\n",
       "      <td>0</td>\n",
       "    </tr>\n",
       "    <tr>\n",
       "      <th>2</th>\n",
       "      <td>5631500400</td>\n",
       "      <td>2/25/2015</td>\n",
       "      <td>180000.0</td>\n",
       "      <td>2</td>\n",
       "      <td>1.00</td>\n",
       "      <td>770</td>\n",
       "      <td>10000</td>\n",
       "      <td>1.0</td>\n",
       "      <td>0.0</td>\n",
       "      <td>3</td>\n",
       "      <td>...</td>\n",
       "      <td>2015</td>\n",
       "      <td>0</td>\n",
       "      <td>0</td>\n",
       "      <td>1</td>\n",
       "      <td>0</td>\n",
       "      <td>0</td>\n",
       "      <td>0</td>\n",
       "      <td>0</td>\n",
       "      <td>0</td>\n",
       "      <td>0</td>\n",
       "    </tr>\n",
       "    <tr>\n",
       "      <th>3</th>\n",
       "      <td>2487200875</td>\n",
       "      <td>12/9/2014</td>\n",
       "      <td>604000.0</td>\n",
       "      <td>4</td>\n",
       "      <td>3.00</td>\n",
       "      <td>1960</td>\n",
       "      <td>5000</td>\n",
       "      <td>1.0</td>\n",
       "      <td>0.0</td>\n",
       "      <td>5</td>\n",
       "      <td>...</td>\n",
       "      <td>2014</td>\n",
       "      <td>0</td>\n",
       "      <td>0</td>\n",
       "      <td>0</td>\n",
       "      <td>1</td>\n",
       "      <td>0</td>\n",
       "      <td>0</td>\n",
       "      <td>0</td>\n",
       "      <td>0</td>\n",
       "      <td>0</td>\n",
       "    </tr>\n",
       "    <tr>\n",
       "      <th>4</th>\n",
       "      <td>1954400510</td>\n",
       "      <td>2/18/2015</td>\n",
       "      <td>510000.0</td>\n",
       "      <td>3</td>\n",
       "      <td>2.00</td>\n",
       "      <td>1680</td>\n",
       "      <td>8080</td>\n",
       "      <td>1.0</td>\n",
       "      <td>0.0</td>\n",
       "      <td>3</td>\n",
       "      <td>...</td>\n",
       "      <td>2015</td>\n",
       "      <td>0</td>\n",
       "      <td>0</td>\n",
       "      <td>0</td>\n",
       "      <td>0</td>\n",
       "      <td>1</td>\n",
       "      <td>0</td>\n",
       "      <td>0</td>\n",
       "      <td>0</td>\n",
       "      <td>0</td>\n",
       "    </tr>\n",
       "  </tbody>\n",
       "</table>\n",
       "<p>5 rows × 26 columns</p>\n",
       "</div>"
      ],
      "text/plain": [
       "           id        date     price  bedrooms  bathrooms  sqft_living  \\\n",
       "0  7129300520  10/13/2014  221900.0         3       1.00         1180   \n",
       "1  6414100192   12/9/2014  538000.0         3       2.25         2570   \n",
       "2  5631500400   2/25/2015  180000.0         2       1.00          770   \n",
       "3  2487200875   12/9/2014  604000.0         4       3.00         1960   \n",
       "4  1954400510   2/18/2015  510000.0         3       2.00         1680   \n",
       "\n",
       "   sqft_lot  floors  waterfront  condition  ...  year  grade_4  grade_5  \\\n",
       "0      5650     1.0         0.0          3  ...  2014        0        0   \n",
       "1      7242     2.0         0.0          3  ...  2014        0        0   \n",
       "2     10000     1.0         0.0          3  ...  2015        0        0   \n",
       "3      5000     1.0         0.0          5  ...  2014        0        0   \n",
       "4      8080     1.0         0.0          3  ...  2015        0        0   \n",
       "\n",
       "   grade_6  grade_7  grade_8  grade_9  grade_10  grade_11  grade_12  \n",
       "0        0        1        0        0         0         0         0  \n",
       "1        0        1        0        0         0         0         0  \n",
       "2        1        0        0        0         0         0         0  \n",
       "3        0        1        0        0         0         0         0  \n",
       "4        0        0        1        0         0         0         0  \n",
       "\n",
       "[5 rows x 26 columns]"
      ]
     },
     "execution_count": 295,
     "metadata": {},
     "output_type": "execute_result"
    }
   ],
   "source": [
    "df2 = df2.drop(['date_dateformat', 'age_sold', 'name_of_month' , 'seasons'], axis = 1)\n",
    "df2.head()"
   ]
  },
  {
   "cell_type": "code",
   "execution_count": 296,
   "metadata": {
    "ExecuteTime": {
     "end_time": "2021-01-26T05:51:23.869611Z",
     "start_time": "2021-01-26T05:51:23.737094Z"
    },
    "scrolled": false
   },
   "outputs": [
    {
     "data": {
      "text/html": [
       "<table class=\"simpletable\">\n",
       "<caption>OLS Regression Results</caption>\n",
       "<tr>\n",
       "  <th>Dep. Variable:</th>          <td>price</td>      <th>  R-squared:         </th>  <td>   0.620</td>  \n",
       "</tr>\n",
       "<tr>\n",
       "  <th>Model:</th>                   <td>OLS</td>       <th>  Adj. R-squared:    </th>  <td>   0.619</td>  \n",
       "</tr>\n",
       "<tr>\n",
       "  <th>Method:</th>             <td>Least Squares</td>  <th>  F-statistic:       </th>  <td>   1642.</td>  \n",
       "</tr>\n",
       "<tr>\n",
       "  <th>Date:</th>             <td>Mon, 25 Jan 2021</td> <th>  Prob (F-statistic):</th>   <td>  0.00</td>   \n",
       "</tr>\n",
       "<tr>\n",
       "  <th>Time:</th>                 <td>23:51:23</td>     <th>  Log-Likelihood:    </th> <td>-2.4894e+05</td>\n",
       "</tr>\n",
       "<tr>\n",
       "  <th>No. Observations:</th>      <td> 19165</td>      <th>  AIC:               </th>  <td>4.979e+05</td> \n",
       "</tr>\n",
       "<tr>\n",
       "  <th>Df Residuals:</th>          <td> 19145</td>      <th>  BIC:               </th>  <td>4.981e+05</td> \n",
       "</tr>\n",
       "<tr>\n",
       "  <th>Df Model:</th>              <td>    19</td>      <th>                     </th>      <td> </td>     \n",
       "</tr>\n",
       "<tr>\n",
       "  <th>Covariance Type:</th>      <td>nonrobust</td>    <th>                     </th>      <td> </td>     \n",
       "</tr>\n",
       "</table>\n",
       "<table class=\"simpletable\">\n",
       "<tr>\n",
       "       <td></td>          <th>coef</th>     <th>std err</th>      <th>t</th>      <th>P>|t|</th>  <th>[0.025</th>    <th>0.975]</th>  \n",
       "</tr>\n",
       "<tr>\n",
       "  <th>Intercept</th>   <td>-2.756e+07</td> <td> 1.48e+06</td> <td>  -18.602</td> <td> 0.000</td> <td>-3.05e+07</td> <td>-2.47e+07</td>\n",
       "</tr>\n",
       "<tr>\n",
       "  <th>bedrooms</th>    <td>-6097.0253</td> <td> 1100.932</td> <td>   -5.538</td> <td> 0.000</td> <td>-8254.948</td> <td>-3939.103</td>\n",
       "</tr>\n",
       "<tr>\n",
       "  <th>bathrooms</th>   <td> -560.9794</td> <td> 1790.853</td> <td>   -0.313</td> <td> 0.754</td> <td>-4071.210</td> <td> 2949.251</td>\n",
       "</tr>\n",
       "<tr>\n",
       "  <th>sqft_living</th> <td>   90.3669</td> <td>    1.948</td> <td>   46.399</td> <td> 0.000</td> <td>   86.549</td> <td>   94.184</td>\n",
       "</tr>\n",
       "<tr>\n",
       "  <th>sqft_lot</th>    <td>    0.2755</td> <td>    0.021</td> <td>   13.041</td> <td> 0.000</td> <td>    0.234</td> <td>    0.317</td>\n",
       "</tr>\n",
       "<tr>\n",
       "  <th>floors</th>      <td> 5895.7703</td> <td> 1780.398</td> <td>    3.311</td> <td> 0.001</td> <td> 2406.034</td> <td> 9385.506</td>\n",
       "</tr>\n",
       "<tr>\n",
       "  <th>waterfront</th>  <td> 2.225e+05</td> <td> 1.71e+04</td> <td>   13.041</td> <td> 0.000</td> <td> 1.89e+05</td> <td> 2.56e+05</td>\n",
       "</tr>\n",
       "<tr>\n",
       "  <th>condition</th>   <td> 3.503e+04</td> <td> 1253.206</td> <td>   27.949</td> <td> 0.000</td> <td> 3.26e+04</td> <td> 3.75e+04</td>\n",
       "</tr>\n",
       "<tr>\n",
       "  <th>zipcode</th>     <td>  -60.8604</td> <td>   18.208</td> <td>   -3.342</td> <td> 0.001</td> <td>  -96.550</td> <td>  -25.170</td>\n",
       "</tr>\n",
       "<tr>\n",
       "  <th>lat</th>         <td> 5.551e+05</td> <td> 5649.980</td> <td>   98.253</td> <td> 0.000</td> <td> 5.44e+05</td> <td> 5.66e+05</td>\n",
       "</tr>\n",
       "<tr>\n",
       "  <th>long</th>        <td>-6.034e+04</td> <td> 6777.193</td> <td>   -8.903</td> <td> 0.000</td> <td>-7.36e+04</td> <td>-4.71e+04</td>\n",
       "</tr>\n",
       "<tr>\n",
       "  <th>grade_4</th>     <td>-1.642e+05</td> <td> 1.08e+05</td> <td>   -1.521</td> <td> 0.128</td> <td>-3.76e+05</td> <td> 4.74e+04</td>\n",
       "</tr>\n",
       "<tr>\n",
       "  <th>grade_5</th>     <td>-1.714e+05</td> <td> 1.06e+05</td> <td>   -1.613</td> <td> 0.107</td> <td> -3.8e+05</td> <td> 3.68e+04</td>\n",
       "</tr>\n",
       "<tr>\n",
       "  <th>grade_6</th>     <td>-1.549e+05</td> <td> 1.06e+05</td> <td>   -1.461</td> <td> 0.144</td> <td>-3.63e+05</td> <td>  5.3e+04</td>\n",
       "</tr>\n",
       "<tr>\n",
       "  <th>grade_7</th>     <td>-1.077e+05</td> <td> 1.06e+05</td> <td>   -1.015</td> <td> 0.310</td> <td>-3.16e+05</td> <td>    1e+05</td>\n",
       "</tr>\n",
       "<tr>\n",
       "  <th>grade_8</th>     <td>-4.243e+04</td> <td> 1.06e+05</td> <td>   -0.400</td> <td> 0.689</td> <td> -2.5e+05</td> <td> 1.65e+05</td>\n",
       "</tr>\n",
       "<tr>\n",
       "  <th>grade_9</th>     <td> 3.489e+04</td> <td> 1.06e+05</td> <td>    0.329</td> <td> 0.742</td> <td>-1.73e+05</td> <td> 2.43e+05</td>\n",
       "</tr>\n",
       "<tr>\n",
       "  <th>grade_10</th>    <td> 8.116e+04</td> <td> 1.06e+05</td> <td>    0.764</td> <td> 0.445</td> <td>-1.27e+05</td> <td> 2.89e+05</td>\n",
       "</tr>\n",
       "<tr>\n",
       "  <th>grade_11</th>    <td> 8.716e+04</td> <td> 1.08e+05</td> <td>    0.810</td> <td> 0.418</td> <td>-1.24e+05</td> <td> 2.98e+05</td>\n",
       "</tr>\n",
       "<tr>\n",
       "  <th>grade_12</th>    <td> 1.956e+05</td> <td>  1.5e+05</td> <td>    1.304</td> <td> 0.192</td> <td>-9.85e+04</td> <td>  4.9e+05</td>\n",
       "</tr>\n",
       "</table>\n",
       "<table class=\"simpletable\">\n",
       "<tr>\n",
       "  <th>Omnibus:</th>       <td>901.197</td> <th>  Durbin-Watson:     </th> <td>   2.005</td> \n",
       "</tr>\n",
       "<tr>\n",
       "  <th>Prob(Omnibus):</th> <td> 0.000</td>  <th>  Jarque-Bera (JB):  </th> <td>1120.254</td> \n",
       "</tr>\n",
       "<tr>\n",
       "  <th>Skew:</th>          <td> 0.496</td>  <th>  Prob(JB):          </th> <td>5.50e-244</td>\n",
       "</tr>\n",
       "<tr>\n",
       "  <th>Kurtosis:</th>      <td> 3.648</td>  <th>  Cond. No.          </th> <td>1.92e+08</td> \n",
       "</tr>\n",
       "</table><br/><br/>Warnings:<br/>[1] Standard Errors assume that the covariance matrix of the errors is correctly specified.<br/>[2] The condition number is large, 1.92e+08. This might indicate that there are<br/>strong multicollinearity or other numerical problems."
      ],
      "text/plain": [
       "<class 'statsmodels.iolib.summary.Summary'>\n",
       "\"\"\"\n",
       "                            OLS Regression Results                            \n",
       "==============================================================================\n",
       "Dep. Variable:                  price   R-squared:                       0.620\n",
       "Model:                            OLS   Adj. R-squared:                  0.619\n",
       "Method:                 Least Squares   F-statistic:                     1642.\n",
       "Date:                Mon, 25 Jan 2021   Prob (F-statistic):               0.00\n",
       "Time:                        23:51:23   Log-Likelihood:            -2.4894e+05\n",
       "No. Observations:               19165   AIC:                         4.979e+05\n",
       "Df Residuals:                   19145   BIC:                         4.981e+05\n",
       "Df Model:                          19                                         \n",
       "Covariance Type:            nonrobust                                         \n",
       "===============================================================================\n",
       "                  coef    std err          t      P>|t|      [0.025      0.975]\n",
       "-------------------------------------------------------------------------------\n",
       "Intercept   -2.756e+07   1.48e+06    -18.602      0.000   -3.05e+07   -2.47e+07\n",
       "bedrooms    -6097.0253   1100.932     -5.538      0.000   -8254.948   -3939.103\n",
       "bathrooms    -560.9794   1790.853     -0.313      0.754   -4071.210    2949.251\n",
       "sqft_living    90.3669      1.948     46.399      0.000      86.549      94.184\n",
       "sqft_lot        0.2755      0.021     13.041      0.000       0.234       0.317\n",
       "floors       5895.7703   1780.398      3.311      0.001    2406.034    9385.506\n",
       "waterfront   2.225e+05   1.71e+04     13.041      0.000    1.89e+05    2.56e+05\n",
       "condition    3.503e+04   1253.206     27.949      0.000    3.26e+04    3.75e+04\n",
       "zipcode       -60.8604     18.208     -3.342      0.001     -96.550     -25.170\n",
       "lat          5.551e+05   5649.980     98.253      0.000    5.44e+05    5.66e+05\n",
       "long        -6.034e+04   6777.193     -8.903      0.000   -7.36e+04   -4.71e+04\n",
       "grade_4     -1.642e+05   1.08e+05     -1.521      0.128   -3.76e+05    4.74e+04\n",
       "grade_5     -1.714e+05   1.06e+05     -1.613      0.107    -3.8e+05    3.68e+04\n",
       "grade_6     -1.549e+05   1.06e+05     -1.461      0.144   -3.63e+05     5.3e+04\n",
       "grade_7     -1.077e+05   1.06e+05     -1.015      0.310   -3.16e+05       1e+05\n",
       "grade_8     -4.243e+04   1.06e+05     -0.400      0.689    -2.5e+05    1.65e+05\n",
       "grade_9      3.489e+04   1.06e+05      0.329      0.742   -1.73e+05    2.43e+05\n",
       "grade_10     8.116e+04   1.06e+05      0.764      0.445   -1.27e+05    2.89e+05\n",
       "grade_11     8.716e+04   1.08e+05      0.810      0.418   -1.24e+05    2.98e+05\n",
       "grade_12     1.956e+05    1.5e+05      1.304      0.192   -9.85e+04     4.9e+05\n",
       "==============================================================================\n",
       "Omnibus:                      901.197   Durbin-Watson:                   2.005\n",
       "Prob(Omnibus):                  0.000   Jarque-Bera (JB):             1120.254\n",
       "Skew:                           0.496   Prob(JB):                    5.50e-244\n",
       "Kurtosis:                       3.648   Cond. No.                     1.92e+08\n",
       "==============================================================================\n",
       "\n",
       "Warnings:\n",
       "[1] Standard Errors assume that the covariance matrix of the errors is correctly specified.\n",
       "[2] The condition number is large, 1.92e+08. This might indicate that there are\n",
       "strong multicollinearity or other numerical problems.\n",
       "\"\"\""
      ]
     },
     "execution_count": 296,
     "metadata": {},
     "output_type": "execute_result"
    }
   ],
   "source": [
    "outcome = 'price'\n",
    "xcols = df2.dropna().drop(['price', 'id', 'date', 'grade', 'month', 'year','yr_built',], axis = 1).columns\n",
    "\n",
    "predictors = '+'.join(xcols)\n",
    "\n",
    "f = outcome + '~' + predictors\n",
    "\n",
    "model_grade_dummies = ols(formula = f, data = df2).fit()\n",
    "model_grade_dummies.summary()\n"
   ]
  },
  {
   "cell_type": "code",
   "execution_count": null,
   "metadata": {
    "ExecuteTime": {
     "end_time": "2021-01-25T20:24:46.943416Z",
     "start_time": "2021-01-25T20:24:46.931201Z"
    }
   },
   "outputs": [],
   "source": []
  },
  {
   "cell_type": "code",
   "execution_count": 297,
   "metadata": {
    "ExecuteTime": {
     "end_time": "2021-01-26T05:51:24.801939Z",
     "start_time": "2021-01-26T05:51:24.797045Z"
    }
   },
   "outputs": [],
   "source": [
    "data = df_low_prices.drop(['date_dateformat', 'month', 'year', 'age_sold', 'seasons',\n",
    "                          'name_of_month','yr_built'], axis = 1)"
   ]
  },
  {
   "cell_type": "code",
   "execution_count": 298,
   "metadata": {
    "ExecuteTime": {
     "end_time": "2021-01-26T05:51:25.325904Z",
     "start_time": "2021-01-26T05:51:25.313515Z"
    }
   },
   "outputs": [
    {
     "name": "stdout",
     "output_type": "stream",
     "text": [
      "<class 'pandas.core.frame.DataFrame'>\n",
      "Int64Index: 19165 entries, 0 to 21596\n",
      "Data columns (total 14 columns):\n",
      "id             19165 non-null int64\n",
      "date           19165 non-null object\n",
      "price          19165 non-null float64\n",
      "bedrooms       19165 non-null int64\n",
      "bathrooms      19165 non-null float64\n",
      "sqft_living    19165 non-null int64\n",
      "sqft_lot       19165 non-null int64\n",
      "floors         19165 non-null float64\n",
      "waterfront     19165 non-null float64\n",
      "condition      19165 non-null int64\n",
      "grade          19165 non-null int64\n",
      "zipcode        19165 non-null int64\n",
      "lat            19165 non-null float64\n",
      "long           19165 non-null float64\n",
      "dtypes: float64(6), int64(7), object(1)\n",
      "memory usage: 2.8+ MB\n"
     ]
    }
   ],
   "source": [
    "data.info()"
   ]
  },
  {
   "cell_type": "code",
   "execution_count": 299,
   "metadata": {
    "ExecuteTime": {
     "end_time": "2021-01-26T05:51:25.798192Z",
     "start_time": "2021-01-26T05:51:25.794092Z"
    },
    "scrolled": false
   },
   "outputs": [],
   "source": [
    "y = data['price']\n",
    "X = data.drop(['price', 'id', 'date'], axis = 1)"
   ]
  },
  {
   "cell_type": "code",
   "execution_count": 300,
   "metadata": {
    "ExecuteTime": {
     "end_time": "2021-01-26T05:51:26.236839Z",
     "start_time": "2021-01-26T05:51:26.229107Z"
    }
   },
   "outputs": [],
   "source": [
    "X_train, X_test, y_train, y_test = train_test_split(X, y, test_size = .2)"
   ]
  },
  {
   "cell_type": "code",
   "execution_count": 301,
   "metadata": {
    "ExecuteTime": {
     "end_time": "2021-01-26T05:51:26.732937Z",
     "start_time": "2021-01-26T05:51:26.724872Z"
    }
   },
   "outputs": [
    {
     "data": {
      "text/plain": [
       "LinearRegression(copy_X=True, fit_intercept=True, n_jobs=None, normalize=False)"
      ]
     },
     "execution_count": 301,
     "metadata": {},
     "output_type": "execute_result"
    }
   ],
   "source": [
    "linreg = LinearRegression()\n",
    "linreg.fit(X_train, y_train)"
   ]
  },
  {
   "cell_type": "code",
   "execution_count": 302,
   "metadata": {
    "ExecuteTime": {
     "end_time": "2021-01-26T05:51:27.253980Z",
     "start_time": "2021-01-26T05:51:27.246124Z"
    }
   },
   "outputs": [],
   "source": [
    "y_hat_train = linreg.predict(X_train)\n",
    "y_hat_test = linreg.predict(X_test)"
   ]
  },
  {
   "cell_type": "code",
   "execution_count": 303,
   "metadata": {
    "ExecuteTime": {
     "end_time": "2021-01-26T05:51:27.725745Z",
     "start_time": "2021-01-26T05:51:27.715821Z"
    }
   },
   "outputs": [],
   "source": [
    "mse_train = mean_squared_error(y_train, y_hat_train)\n",
    "mse_test = mean_squared_error(y_test, y_hat_test)"
   ]
  },
  {
   "cell_type": "code",
   "execution_count": 304,
   "metadata": {
    "ExecuteTime": {
     "end_time": "2021-01-26T05:51:28.277476Z",
     "start_time": "2021-01-26T05:51:28.269895Z"
    }
   },
   "outputs": [
    {
     "name": "stdout",
     "output_type": "stream",
     "text": [
      "MSE Train: 11244227554.342262\n",
      "MSE Test: 11654123908.96862\n"
     ]
    }
   ],
   "source": [
    "print('MSE Train:', mse_train)\n",
    "print('MSE Test:', mse_test)"
   ]
  },
  {
   "cell_type": "code",
   "execution_count": 305,
   "metadata": {
    "ExecuteTime": {
     "end_time": "2021-01-26T05:51:28.898654Z",
     "start_time": "2021-01-26T05:51:28.894979Z"
    }
   },
   "outputs": [
    {
     "name": "stdout",
     "output_type": "stream",
     "text": [
      "RMSE Train: 106038.80211668869\n",
      "RMSE Test: 107954.26767371738\n"
     ]
    }
   ],
   "source": [
    "print('RMSE Train:', np.sqrt(mse_train))\n",
    "print('RMSE Test:', np.sqrt(mse_test))"
   ]
  },
  {
   "cell_type": "code",
   "execution_count": 306,
   "metadata": {
    "ExecuteTime": {
     "end_time": "2021-01-26T05:51:29.474006Z",
     "start_time": "2021-01-26T05:51:29.468182Z"
    }
   },
   "outputs": [
    {
     "data": {
      "text/plain": [
       "0.6017664841204036"
      ]
     },
     "execution_count": 306,
     "metadata": {},
     "output_type": "execute_result"
    }
   ],
   "source": [
    "r2_score(y_test, y_hat_test)"
   ]
  },
  {
   "cell_type": "code",
   "execution_count": 307,
   "metadata": {
    "ExecuteTime": {
     "end_time": "2021-01-26T05:51:30.025102Z",
     "start_time": "2021-01-26T05:51:30.018227Z"
    }
   },
   "outputs": [],
   "source": [
    "residuals = (y_test - y_hat_test)"
   ]
  },
  {
   "cell_type": "code",
   "execution_count": 308,
   "metadata": {
    "ExecuteTime": {
     "end_time": "2021-01-26T05:51:31.130536Z",
     "start_time": "2021-01-26T05:51:30.578370Z"
    }
   },
   "outputs": [
    {
     "data": {
      "image/png": "[encoded data removed]",
      "text/plain": [
       "<Figure size 432x288 with 1 Axes>"
      ]
     },
     "execution_count": 308,
     "metadata": {},
     "output_type": "execute_result"
    },
    {
     "data": {
      "image/png": "[encoded data removed]",
      "text/plain": [
       "<Figure size 432x288 with 1 Axes>"
      ]
     },
     "metadata": {
      "needs_background": "light"
     },
     "output_type": "display_data"
    }
   ],
   "source": [
    "statsmodels.graphics.gofplots.qqplot(residuals, line = 'r')"
   ]
  },
  {
   "cell_type": "code",
   "execution_count": 309,
   "metadata": {
    "ExecuteTime": {
     "end_time": "2021-01-26T05:51:31.583530Z",
     "start_time": "2021-01-26T05:51:31.578365Z"
    }
   },
   "outputs": [
    {
     "data": {
      "text/plain": [
       "0.24262796109791984"
      ]
     },
     "execution_count": 309,
     "metadata": {},
     "output_type": "execute_result"
    }
   ],
   "source": [
    "np.sqrt(mse_test) / df_low_prices.price.mean()"
   ]
  },
  {
   "cell_type": "code",
   "execution_count": 310,
   "metadata": {
    "ExecuteTime": {
     "end_time": "2021-01-26T05:51:32.008553Z",
     "start_time": "2021-01-26T05:51:32.005234Z"
    }
   },
   "outputs": [],
   "source": [
    "#\n",
    "#\n",
    "# binning the grade column"
   ]
  },
  {
   "cell_type": "code",
   "execution_count": 311,
   "metadata": {
    "ExecuteTime": {
     "end_time": "2021-01-26T05:51:32.518282Z",
     "start_time": "2021-01-26T05:51:32.511111Z"
    }
   },
   "outputs": [],
   "source": [
    "df_low_prices['grade_bin'] = pd.cut(df_low_prices['grade'], bins = [0,6,7,8,13], \n",
    "                                   labels = ['D', 'C', 'B', 'A'])"
   ]
  },
  {
   "cell_type": "code",
   "execution_count": 312,
   "metadata": {
    "ExecuteTime": {
     "end_time": "2021-01-26T05:51:33.204297Z",
     "start_time": "2021-01-26T05:51:33.197841Z"
    }
   },
   "outputs": [
    {
     "data": {
      "text/plain": [
       "C    8868\n",
       "B    5627\n",
       "A    2371\n",
       "D    2299\n",
       "Name: grade_bin, dtype: int64"
      ]
     },
     "execution_count": 312,
     "metadata": {},
     "output_type": "execute_result"
    }
   ],
   "source": [
    "df_low_prices.grade_bin.value_counts()"
   ]
  },
  {
   "cell_type": "code",
   "execution_count": 313,
   "metadata": {
    "ExecuteTime": {
     "end_time": "2021-01-26T05:51:33.734990Z",
     "start_time": "2021-01-26T05:51:33.709025Z"
    }
   },
   "outputs": [
    {
     "data": {
      "text/html": [
       "<div>\n",
       "<style scoped>\n",
       "    .dataframe tbody tr th:only-of-type {\n",
       "        vertical-align: middle;\n",
       "    }\n",
       "\n",
       "    .dataframe tbody tr th {\n",
       "        vertical-align: top;\n",
       "    }\n",
       "\n",
       "    .dataframe thead th {\n",
       "        text-align: right;\n",
       "    }\n",
       "</style>\n",
       "<table border=\"1\" class=\"dataframe\">\n",
       "  <thead>\n",
       "    <tr style=\"text-align: right;\">\n",
       "      <th></th>\n",
       "      <th>id</th>\n",
       "      <th>date</th>\n",
       "      <th>price</th>\n",
       "      <th>bedrooms</th>\n",
       "      <th>bathrooms</th>\n",
       "      <th>sqft_living</th>\n",
       "      <th>sqft_lot</th>\n",
       "      <th>floors</th>\n",
       "      <th>waterfront</th>\n",
       "      <th>condition</th>\n",
       "      <th>...</th>\n",
       "      <th>zipcode</th>\n",
       "      <th>lat</th>\n",
       "      <th>long</th>\n",
       "      <th>date_dateformat</th>\n",
       "      <th>month</th>\n",
       "      <th>year</th>\n",
       "      <th>age_sold</th>\n",
       "      <th>name_of_month</th>\n",
       "      <th>seasons</th>\n",
       "      <th>grade_bin</th>\n",
       "    </tr>\n",
       "  </thead>\n",
       "  <tbody>\n",
       "    <tr>\n",
       "      <th>0</th>\n",
       "      <td>7129300520</td>\n",
       "      <td>10/13/2014</td>\n",
       "      <td>221900.0</td>\n",
       "      <td>3</td>\n",
       "      <td>1.00</td>\n",
       "      <td>1180</td>\n",
       "      <td>5650</td>\n",
       "      <td>1.0</td>\n",
       "      <td>0.0</td>\n",
       "      <td>3</td>\n",
       "      <td>...</td>\n",
       "      <td>98178</td>\n",
       "      <td>47.5112</td>\n",
       "      <td>-122.257</td>\n",
       "      <td>2014-10-13</td>\n",
       "      <td>10</td>\n",
       "      <td>2014</td>\n",
       "      <td>59</td>\n",
       "      <td>Oct</td>\n",
       "      <td>fall</td>\n",
       "      <td>C</td>\n",
       "    </tr>\n",
       "    <tr>\n",
       "      <th>1</th>\n",
       "      <td>6414100192</td>\n",
       "      <td>12/9/2014</td>\n",
       "      <td>538000.0</td>\n",
       "      <td>3</td>\n",
       "      <td>2.25</td>\n",
       "      <td>2570</td>\n",
       "      <td>7242</td>\n",
       "      <td>2.0</td>\n",
       "      <td>0.0</td>\n",
       "      <td>3</td>\n",
       "      <td>...</td>\n",
       "      <td>98125</td>\n",
       "      <td>47.7210</td>\n",
       "      <td>-122.319</td>\n",
       "      <td>2014-12-09</td>\n",
       "      <td>12</td>\n",
       "      <td>2014</td>\n",
       "      <td>63</td>\n",
       "      <td>Dec</td>\n",
       "      <td>winter</td>\n",
       "      <td>C</td>\n",
       "    </tr>\n",
       "    <tr>\n",
       "      <th>2</th>\n",
       "      <td>5631500400</td>\n",
       "      <td>2/25/2015</td>\n",
       "      <td>180000.0</td>\n",
       "      <td>2</td>\n",
       "      <td>1.00</td>\n",
       "      <td>770</td>\n",
       "      <td>10000</td>\n",
       "      <td>1.0</td>\n",
       "      <td>0.0</td>\n",
       "      <td>3</td>\n",
       "      <td>...</td>\n",
       "      <td>98028</td>\n",
       "      <td>47.7379</td>\n",
       "      <td>-122.233</td>\n",
       "      <td>2015-02-25</td>\n",
       "      <td>2</td>\n",
       "      <td>2015</td>\n",
       "      <td>82</td>\n",
       "      <td>Feb</td>\n",
       "      <td>winter</td>\n",
       "      <td>D</td>\n",
       "    </tr>\n",
       "    <tr>\n",
       "      <th>3</th>\n",
       "      <td>2487200875</td>\n",
       "      <td>12/9/2014</td>\n",
       "      <td>604000.0</td>\n",
       "      <td>4</td>\n",
       "      <td>3.00</td>\n",
       "      <td>1960</td>\n",
       "      <td>5000</td>\n",
       "      <td>1.0</td>\n",
       "      <td>0.0</td>\n",
       "      <td>5</td>\n",
       "      <td>...</td>\n",
       "      <td>98136</td>\n",
       "      <td>47.5208</td>\n",
       "      <td>-122.393</td>\n",
       "      <td>2014-12-09</td>\n",
       "      <td>12</td>\n",
       "      <td>2014</td>\n",
       "      <td>49</td>\n",
       "      <td>Dec</td>\n",
       "      <td>winter</td>\n",
       "      <td>C</td>\n",
       "    </tr>\n",
       "    <tr>\n",
       "      <th>4</th>\n",
       "      <td>1954400510</td>\n",
       "      <td>2/18/2015</td>\n",
       "      <td>510000.0</td>\n",
       "      <td>3</td>\n",
       "      <td>2.00</td>\n",
       "      <td>1680</td>\n",
       "      <td>8080</td>\n",
       "      <td>1.0</td>\n",
       "      <td>0.0</td>\n",
       "      <td>3</td>\n",
       "      <td>...</td>\n",
       "      <td>98074</td>\n",
       "      <td>47.6168</td>\n",
       "      <td>-122.045</td>\n",
       "      <td>2015-02-18</td>\n",
       "      <td>2</td>\n",
       "      <td>2015</td>\n",
       "      <td>28</td>\n",
       "      <td>Feb</td>\n",
       "      <td>winter</td>\n",
       "      <td>B</td>\n",
       "    </tr>\n",
       "  </tbody>\n",
       "</table>\n",
       "<p>5 rows × 22 columns</p>\n",
       "</div>"
      ],
      "text/plain": [
       "           id        date     price  bedrooms  bathrooms  sqft_living  \\\n",
       "0  7129300520  10/13/2014  221900.0         3       1.00         1180   \n",
       "1  6414100192   12/9/2014  538000.0         3       2.25         2570   \n",
       "2  5631500400   2/25/2015  180000.0         2       1.00          770   \n",
       "3  2487200875   12/9/2014  604000.0         4       3.00         1960   \n",
       "4  1954400510   2/18/2015  510000.0         3       2.00         1680   \n",
       "\n",
       "   sqft_lot  floors  waterfront  condition  ...  zipcode      lat     long  \\\n",
       "0      5650     1.0         0.0          3  ...    98178  47.5112 -122.257   \n",
       "1      7242     2.0         0.0          3  ...    98125  47.7210 -122.319   \n",
       "2     10000     1.0         0.0          3  ...    98028  47.7379 -122.233   \n",
       "3      5000     1.0         0.0          5  ...    98136  47.5208 -122.393   \n",
       "4      8080     1.0         0.0          3  ...    98074  47.6168 -122.045   \n",
       "\n",
       "   date_dateformat  month  year  age_sold  name_of_month  seasons grade_bin  \n",
       "0       2014-10-13     10  2014        59            Oct     fall         C  \n",
       "1       2014-12-09     12  2014        63            Dec   winter         C  \n",
       "2       2015-02-25      2  2015        82            Feb   winter         D  \n",
       "3       2014-12-09     12  2014        49            Dec   winter         C  \n",
       "4       2015-02-18      2  2015        28            Feb   winter         B  \n",
       "\n",
       "[5 rows x 22 columns]"
      ]
     },
     "execution_count": 313,
     "metadata": {},
     "output_type": "execute_result"
    }
   ],
   "source": [
    "df_low_prices.head()"
   ]
  },
  {
   "cell_type": "code",
   "execution_count": 314,
   "metadata": {
    "ExecuteTime": {
     "end_time": "2021-01-26T05:51:34.409144Z",
     "start_time": "2021-01-26T05:51:34.242292Z"
    }
   },
   "outputs": [
    {
     "data": {
      "text/plain": [
       "<matplotlib.axes._subplots.AxesSubplot at 0x7fb3405164a8>"
      ]
     },
     "execution_count": 314,
     "metadata": {},
     "output_type": "execute_result"
    },
    {
     "data": {
      "image/png": "[encoded data removed]",
      "text/plain": [
       "<Figure size 432x288 with 1 Axes>"
      ]
     },
     "metadata": {},
     "output_type": "display_data"
    }
   ],
   "source": [
    "sns.set_style('darkgrid')\n",
    "df_low_prices.grade_bin.value_counts().plot.bar(edgecolor = 'black')"
   ]
  },
  {
   "cell_type": "code",
   "execution_count": 315,
   "metadata": {
    "ExecuteTime": {
     "end_time": "2021-01-26T05:51:34.957242Z",
     "start_time": "2021-01-26T05:51:34.946645Z"
    }
   },
   "outputs": [
    {
     "data": {
      "text/plain": [
       "[C, D, B, A]\n",
       "Categories (4, object): [D < C < B < A]"
      ]
     },
     "execution_count": 315,
     "metadata": {},
     "output_type": "execute_result"
    }
   ],
   "source": [
    "df_low_prices.grade_bin.unique()"
   ]
  },
  {
   "cell_type": "code",
   "execution_count": 316,
   "metadata": {
    "ExecuteTime": {
     "end_time": "2021-01-26T05:51:35.628823Z",
     "start_time": "2021-01-26T05:51:35.605579Z"
    }
   },
   "outputs": [
    {
     "data": {
      "text/html": [
       "<div>\n",
       "<style scoped>\n",
       "    .dataframe tbody tr th:only-of-type {\n",
       "        vertical-align: middle;\n",
       "    }\n",
       "\n",
       "    .dataframe tbody tr th {\n",
       "        vertical-align: top;\n",
       "    }\n",
       "\n",
       "    .dataframe thead th {\n",
       "        text-align: right;\n",
       "    }\n",
       "</style>\n",
       "<table border=\"1\" class=\"dataframe\">\n",
       "  <thead>\n",
       "    <tr style=\"text-align: right;\">\n",
       "      <th></th>\n",
       "      <th>id</th>\n",
       "      <th>date</th>\n",
       "      <th>price</th>\n",
       "      <th>bedrooms</th>\n",
       "      <th>bathrooms</th>\n",
       "      <th>sqft_living</th>\n",
       "      <th>sqft_lot</th>\n",
       "      <th>floors</th>\n",
       "      <th>waterfront</th>\n",
       "      <th>condition</th>\n",
       "      <th>...</th>\n",
       "      <th>zipcode</th>\n",
       "      <th>lat</th>\n",
       "      <th>long</th>\n",
       "      <th>date_dateformat</th>\n",
       "      <th>month</th>\n",
       "      <th>year</th>\n",
       "      <th>age_sold</th>\n",
       "      <th>name_of_month</th>\n",
       "      <th>seasons</th>\n",
       "      <th>grade_bin</th>\n",
       "    </tr>\n",
       "  </thead>\n",
       "  <tbody>\n",
       "    <tr>\n",
       "      <th>0</th>\n",
       "      <td>7129300520</td>\n",
       "      <td>10/13/2014</td>\n",
       "      <td>221900.0</td>\n",
       "      <td>3</td>\n",
       "      <td>1.00</td>\n",
       "      <td>1180</td>\n",
       "      <td>5650</td>\n",
       "      <td>1.0</td>\n",
       "      <td>0.0</td>\n",
       "      <td>3</td>\n",
       "      <td>...</td>\n",
       "      <td>98178</td>\n",
       "      <td>47.5112</td>\n",
       "      <td>-122.257</td>\n",
       "      <td>2014-10-13</td>\n",
       "      <td>10</td>\n",
       "      <td>2014</td>\n",
       "      <td>59</td>\n",
       "      <td>Oct</td>\n",
       "      <td>fall</td>\n",
       "      <td>C</td>\n",
       "    </tr>\n",
       "    <tr>\n",
       "      <th>1</th>\n",
       "      <td>6414100192</td>\n",
       "      <td>12/9/2014</td>\n",
       "      <td>538000.0</td>\n",
       "      <td>3</td>\n",
       "      <td>2.25</td>\n",
       "      <td>2570</td>\n",
       "      <td>7242</td>\n",
       "      <td>2.0</td>\n",
       "      <td>0.0</td>\n",
       "      <td>3</td>\n",
       "      <td>...</td>\n",
       "      <td>98125</td>\n",
       "      <td>47.7210</td>\n",
       "      <td>-122.319</td>\n",
       "      <td>2014-12-09</td>\n",
       "      <td>12</td>\n",
       "      <td>2014</td>\n",
       "      <td>63</td>\n",
       "      <td>Dec</td>\n",
       "      <td>winter</td>\n",
       "      <td>C</td>\n",
       "    </tr>\n",
       "    <tr>\n",
       "      <th>2</th>\n",
       "      <td>5631500400</td>\n",
       "      <td>2/25/2015</td>\n",
       "      <td>180000.0</td>\n",
       "      <td>2</td>\n",
       "      <td>1.00</td>\n",
       "      <td>770</td>\n",
       "      <td>10000</td>\n",
       "      <td>1.0</td>\n",
       "      <td>0.0</td>\n",
       "      <td>3</td>\n",
       "      <td>...</td>\n",
       "      <td>98028</td>\n",
       "      <td>47.7379</td>\n",
       "      <td>-122.233</td>\n",
       "      <td>2015-02-25</td>\n",
       "      <td>2</td>\n",
       "      <td>2015</td>\n",
       "      <td>82</td>\n",
       "      <td>Feb</td>\n",
       "      <td>winter</td>\n",
       "      <td>D</td>\n",
       "    </tr>\n",
       "    <tr>\n",
       "      <th>3</th>\n",
       "      <td>2487200875</td>\n",
       "      <td>12/9/2014</td>\n",
       "      <td>604000.0</td>\n",
       "      <td>4</td>\n",
       "      <td>3.00</td>\n",
       "      <td>1960</td>\n",
       "      <td>5000</td>\n",
       "      <td>1.0</td>\n",
       "      <td>0.0</td>\n",
       "      <td>5</td>\n",
       "      <td>...</td>\n",
       "      <td>98136</td>\n",
       "      <td>47.5208</td>\n",
       "      <td>-122.393</td>\n",
       "      <td>2014-12-09</td>\n",
       "      <td>12</td>\n",
       "      <td>2014</td>\n",
       "      <td>49</td>\n",
       "      <td>Dec</td>\n",
       "      <td>winter</td>\n",
       "      <td>C</td>\n",
       "    </tr>\n",
       "    <tr>\n",
       "      <th>4</th>\n",
       "      <td>1954400510</td>\n",
       "      <td>2/18/2015</td>\n",
       "      <td>510000.0</td>\n",
       "      <td>3</td>\n",
       "      <td>2.00</td>\n",
       "      <td>1680</td>\n",
       "      <td>8080</td>\n",
       "      <td>1.0</td>\n",
       "      <td>0.0</td>\n",
       "      <td>3</td>\n",
       "      <td>...</td>\n",
       "      <td>98074</td>\n",
       "      <td>47.6168</td>\n",
       "      <td>-122.045</td>\n",
       "      <td>2015-02-18</td>\n",
       "      <td>2</td>\n",
       "      <td>2015</td>\n",
       "      <td>28</td>\n",
       "      <td>Feb</td>\n",
       "      <td>winter</td>\n",
       "      <td>B</td>\n",
       "    </tr>\n",
       "  </tbody>\n",
       "</table>\n",
       "<p>5 rows × 22 columns</p>\n",
       "</div>"
      ],
      "text/plain": [
       "           id        date     price  bedrooms  bathrooms  sqft_living  \\\n",
       "0  7129300520  10/13/2014  221900.0         3       1.00         1180   \n",
       "1  6414100192   12/9/2014  538000.0         3       2.25         2570   \n",
       "2  5631500400   2/25/2015  180000.0         2       1.00          770   \n",
       "3  2487200875   12/9/2014  604000.0         4       3.00         1960   \n",
       "4  1954400510   2/18/2015  510000.0         3       2.00         1680   \n",
       "\n",
       "   sqft_lot  floors  waterfront  condition  ...  zipcode      lat     long  \\\n",
       "0      5650     1.0         0.0          3  ...    98178  47.5112 -122.257   \n",
       "1      7242     2.0         0.0          3  ...    98125  47.7210 -122.319   \n",
       "2     10000     1.0         0.0          3  ...    98028  47.7379 -122.233   \n",
       "3      5000     1.0         0.0          5  ...    98136  47.5208 -122.393   \n",
       "4      8080     1.0         0.0          3  ...    98074  47.6168 -122.045   \n",
       "\n",
       "   date_dateformat  month  year  age_sold  name_of_month  seasons grade_bin  \n",
       "0       2014-10-13     10  2014        59            Oct     fall         C  \n",
       "1       2014-12-09     12  2014        63            Dec   winter         C  \n",
       "2       2015-02-25      2  2015        82            Feb   winter         D  \n",
       "3       2014-12-09     12  2014        49            Dec   winter         C  \n",
       "4       2015-02-18      2  2015        28            Feb   winter         B  \n",
       "\n",
       "[5 rows x 22 columns]"
      ]
     },
     "execution_count": 316,
     "metadata": {},
     "output_type": "execute_result"
    }
   ],
   "source": [
    "df_low_prices.head()"
   ]
  },
  {
   "cell_type": "code",
   "execution_count": null,
   "metadata": {
    "ExecuteTime": {
     "end_time": "2021-01-26T03:00:36.491788Z",
     "start_time": "2021-01-26T03:00:36.479415Z"
    }
   },
   "outputs": [],
   "source": []
  },
  {
   "cell_type": "code",
   "execution_count": null,
   "metadata": {
    "ExecuteTime": {
     "end_time": "2021-01-25T23:03:49.645844Z",
     "start_time": "2021-01-25T23:03:49.614203Z"
    }
   },
   "outputs": [],
   "source": []
  },
  {
   "cell_type": "code",
   "execution_count": 317,
   "metadata": {
    "ExecuteTime": {
     "end_time": "2021-01-26T05:51:37.651462Z",
     "start_time": "2021-01-26T05:51:37.628393Z"
    }
   },
   "outputs": [
    {
     "data": {
      "text/html": [
       "<div>\n",
       "<style scoped>\n",
       "    .dataframe tbody tr th:only-of-type {\n",
       "        vertical-align: middle;\n",
       "    }\n",
       "\n",
       "    .dataframe tbody tr th {\n",
       "        vertical-align: top;\n",
       "    }\n",
       "\n",
       "    .dataframe thead th {\n",
       "        text-align: right;\n",
       "    }\n",
       "</style>\n",
       "<table border=\"1\" class=\"dataframe\">\n",
       "  <thead>\n",
       "    <tr style=\"text-align: right;\">\n",
       "      <th></th>\n",
       "      <th>id</th>\n",
       "      <th>date</th>\n",
       "      <th>price</th>\n",
       "      <th>bedrooms</th>\n",
       "      <th>bathrooms</th>\n",
       "      <th>sqft_living</th>\n",
       "      <th>sqft_lot</th>\n",
       "      <th>floors</th>\n",
       "      <th>waterfront</th>\n",
       "      <th>condition</th>\n",
       "      <th>...</th>\n",
       "      <th>zipcode</th>\n",
       "      <th>lat</th>\n",
       "      <th>long</th>\n",
       "      <th>date_dateformat</th>\n",
       "      <th>month</th>\n",
       "      <th>year</th>\n",
       "      <th>age_sold</th>\n",
       "      <th>name_of_month</th>\n",
       "      <th>seasons</th>\n",
       "      <th>grade_bin</th>\n",
       "    </tr>\n",
       "  </thead>\n",
       "  <tbody>\n",
       "    <tr>\n",
       "      <th>0</th>\n",
       "      <td>7129300520</td>\n",
       "      <td>10/13/2014</td>\n",
       "      <td>221900.0</td>\n",
       "      <td>3</td>\n",
       "      <td>1.00</td>\n",
       "      <td>1180</td>\n",
       "      <td>5650</td>\n",
       "      <td>1.0</td>\n",
       "      <td>0.0</td>\n",
       "      <td>3</td>\n",
       "      <td>...</td>\n",
       "      <td>98178</td>\n",
       "      <td>47.5112</td>\n",
       "      <td>-122.257</td>\n",
       "      <td>2014-10-13</td>\n",
       "      <td>10</td>\n",
       "      <td>2014</td>\n",
       "      <td>59</td>\n",
       "      <td>Oct</td>\n",
       "      <td>fall</td>\n",
       "      <td>C</td>\n",
       "    </tr>\n",
       "    <tr>\n",
       "      <th>1</th>\n",
       "      <td>6414100192</td>\n",
       "      <td>12/9/2014</td>\n",
       "      <td>538000.0</td>\n",
       "      <td>3</td>\n",
       "      <td>2.25</td>\n",
       "      <td>2570</td>\n",
       "      <td>7242</td>\n",
       "      <td>2.0</td>\n",
       "      <td>0.0</td>\n",
       "      <td>3</td>\n",
       "      <td>...</td>\n",
       "      <td>98125</td>\n",
       "      <td>47.7210</td>\n",
       "      <td>-122.319</td>\n",
       "      <td>2014-12-09</td>\n",
       "      <td>12</td>\n",
       "      <td>2014</td>\n",
       "      <td>63</td>\n",
       "      <td>Dec</td>\n",
       "      <td>winter</td>\n",
       "      <td>C</td>\n",
       "    </tr>\n",
       "    <tr>\n",
       "      <th>2</th>\n",
       "      <td>5631500400</td>\n",
       "      <td>2/25/2015</td>\n",
       "      <td>180000.0</td>\n",
       "      <td>2</td>\n",
       "      <td>1.00</td>\n",
       "      <td>770</td>\n",
       "      <td>10000</td>\n",
       "      <td>1.0</td>\n",
       "      <td>0.0</td>\n",
       "      <td>3</td>\n",
       "      <td>...</td>\n",
       "      <td>98028</td>\n",
       "      <td>47.7379</td>\n",
       "      <td>-122.233</td>\n",
       "      <td>2015-02-25</td>\n",
       "      <td>2</td>\n",
       "      <td>2015</td>\n",
       "      <td>82</td>\n",
       "      <td>Feb</td>\n",
       "      <td>winter</td>\n",
       "      <td>D</td>\n",
       "    </tr>\n",
       "    <tr>\n",
       "      <th>3</th>\n",
       "      <td>2487200875</td>\n",
       "      <td>12/9/2014</td>\n",
       "      <td>604000.0</td>\n",
       "      <td>4</td>\n",
       "      <td>3.00</td>\n",
       "      <td>1960</td>\n",
       "      <td>5000</td>\n",
       "      <td>1.0</td>\n",
       "      <td>0.0</td>\n",
       "      <td>5</td>\n",
       "      <td>...</td>\n",
       "      <td>98136</td>\n",
       "      <td>47.5208</td>\n",
       "      <td>-122.393</td>\n",
       "      <td>2014-12-09</td>\n",
       "      <td>12</td>\n",
       "      <td>2014</td>\n",
       "      <td>49</td>\n",
       "      <td>Dec</td>\n",
       "      <td>winter</td>\n",
       "      <td>C</td>\n",
       "    </tr>\n",
       "    <tr>\n",
       "      <th>4</th>\n",
       "      <td>1954400510</td>\n",
       "      <td>2/18/2015</td>\n",
       "      <td>510000.0</td>\n",
       "      <td>3</td>\n",
       "      <td>2.00</td>\n",
       "      <td>1680</td>\n",
       "      <td>8080</td>\n",
       "      <td>1.0</td>\n",
       "      <td>0.0</td>\n",
       "      <td>3</td>\n",
       "      <td>...</td>\n",
       "      <td>98074</td>\n",
       "      <td>47.6168</td>\n",
       "      <td>-122.045</td>\n",
       "      <td>2015-02-18</td>\n",
       "      <td>2</td>\n",
       "      <td>2015</td>\n",
       "      <td>28</td>\n",
       "      <td>Feb</td>\n",
       "      <td>winter</td>\n",
       "      <td>B</td>\n",
       "    </tr>\n",
       "  </tbody>\n",
       "</table>\n",
       "<p>5 rows × 22 columns</p>\n",
       "</div>"
      ],
      "text/plain": [
       "           id        date     price  bedrooms  bathrooms  sqft_living  \\\n",
       "0  7129300520  10/13/2014  221900.0         3       1.00         1180   \n",
       "1  6414100192   12/9/2014  538000.0         3       2.25         2570   \n",
       "2  5631500400   2/25/2015  180000.0         2       1.00          770   \n",
       "3  2487200875   12/9/2014  604000.0         4       3.00         1960   \n",
       "4  1954400510   2/18/2015  510000.0         3       2.00         1680   \n",
       "\n",
       "   sqft_lot  floors  waterfront  condition  ...  zipcode      lat     long  \\\n",
       "0      5650     1.0         0.0          3  ...    98178  47.5112 -122.257   \n",
       "1      7242     2.0         0.0          3  ...    98125  47.7210 -122.319   \n",
       "2     10000     1.0         0.0          3  ...    98028  47.7379 -122.233   \n",
       "3      5000     1.0         0.0          5  ...    98136  47.5208 -122.393   \n",
       "4      8080     1.0         0.0          3  ...    98074  47.6168 -122.045   \n",
       "\n",
       "   date_dateformat  month  year  age_sold  name_of_month  seasons grade_bin  \n",
       "0       2014-10-13     10  2014        59            Oct     fall         C  \n",
       "1       2014-12-09     12  2014        63            Dec   winter         C  \n",
       "2       2015-02-25      2  2015        82            Feb   winter         D  \n",
       "3       2014-12-09     12  2014        49            Dec   winter         C  \n",
       "4       2015-02-18      2  2015        28            Feb   winter         B  \n",
       "\n",
       "[5 rows x 22 columns]"
      ]
     },
     "execution_count": 317,
     "metadata": {},
     "output_type": "execute_result"
    }
   ],
   "source": [
    "df_low_prices.head()"
   ]
  },
  {
   "cell_type": "code",
   "execution_count": 318,
   "metadata": {
    "ExecuteTime": {
     "end_time": "2021-01-26T05:51:38.194385Z",
     "start_time": "2021-01-26T05:51:38.191482Z"
    }
   },
   "outputs": [],
   "source": [
    "#\n",
    "#\n",
    "# making a model from the graded bins"
   ]
  },
  {
   "cell_type": "code",
   "execution_count": 319,
   "metadata": {
    "ExecuteTime": {
     "end_time": "2021-01-26T05:51:38.746344Z",
     "start_time": "2021-01-26T05:51:38.731471Z"
    }
   },
   "outputs": [
    {
     "data": {
      "text/plain": [
       "Index(['bedrooms', 'bathrooms', 'sqft_living', 'sqft_lot', 'floors',\n",
       "       'waterfront', 'condition', 'grade', 'yr_built', 'zipcode', 'lat',\n",
       "       'long', 'grade_bin'],\n",
       "      dtype='object')"
      ]
     },
     "execution_count": 319,
     "metadata": {},
     "output_type": "execute_result"
    }
   ],
   "source": [
    "outcome = 'price'\n",
    "\n",
    "xcols = df_low_prices.dropna().drop(['price','id','date','date_dateformat','month','year',\n",
    "                                       'age_sold','name_of_month','seasons'], axis = 1).columns\n",
    "xcols"
   ]
  },
  {
   "cell_type": "code",
   "execution_count": 320,
   "metadata": {
    "ExecuteTime": {
     "end_time": "2021-01-26T05:51:39.368829Z",
     "start_time": "2021-01-26T05:51:39.276946Z"
    },
    "scrolled": false
   },
   "outputs": [
    {
     "data": {
      "text/html": [
       "<table class=\"simpletable\">\n",
       "<caption>OLS Regression Results</caption>\n",
       "<tr>\n",
       "  <th>Dep. Variable:</th>          <td>price</td>      <th>  R-squared:         </th>  <td>   0.651</td>  \n",
       "</tr>\n",
       "<tr>\n",
       "  <th>Model:</th>                   <td>OLS</td>       <th>  Adj. R-squared:    </th>  <td>   0.651</td>  \n",
       "</tr>\n",
       "<tr>\n",
       "  <th>Method:</th>             <td>Least Squares</td>  <th>  F-statistic:       </th>  <td>   2382.</td>  \n",
       "</tr>\n",
       "<tr>\n",
       "  <th>Date:</th>             <td>Mon, 25 Jan 2021</td> <th>  Prob (F-statistic):</th>   <td>  0.00</td>   \n",
       "</tr>\n",
       "<tr>\n",
       "  <th>Time:</th>                 <td>23:51:39</td>     <th>  Log-Likelihood:    </th> <td>-2.4812e+05</td>\n",
       "</tr>\n",
       "<tr>\n",
       "  <th>No. Observations:</th>      <td> 19165</td>      <th>  AIC:               </th>  <td>4.963e+05</td> \n",
       "</tr>\n",
       "<tr>\n",
       "  <th>Df Residuals:</th>          <td> 19149</td>      <th>  BIC:               </th>  <td>4.964e+05</td> \n",
       "</tr>\n",
       "<tr>\n",
       "  <th>Df Model:</th>              <td>    15</td>      <th>                     </th>      <td> </td>     \n",
       "</tr>\n",
       "<tr>\n",
       "  <th>Covariance Type:</th>      <td>nonrobust</td>    <th>                     </th>      <td> </td>     \n",
       "</tr>\n",
       "</table>\n",
       "<table class=\"simpletable\">\n",
       "<tr>\n",
       "         <td></td>           <th>coef</th>     <th>std err</th>      <th>t</th>      <th>P>|t|</th>  <th>[0.025</th>    <th>0.975]</th>  \n",
       "</tr>\n",
       "<tr>\n",
       "  <th>Intercept</th>      <td>-5.543e+06</td> <td> 1.51e+06</td> <td>   -3.669</td> <td> 0.000</td> <td> -8.5e+06</td> <td>-2.58e+06</td>\n",
       "</tr>\n",
       "<tr>\n",
       "  <th>grade_bin[T.C]</th> <td> 3.276e+04</td> <td> 4752.023</td> <td>    6.895</td> <td> 0.000</td> <td> 2.34e+04</td> <td> 4.21e+04</td>\n",
       "</tr>\n",
       "<tr>\n",
       "  <th>grade_bin[T.B]</th> <td> 7.577e+04</td> <td> 8130.852</td> <td>    9.319</td> <td> 0.000</td> <td> 5.98e+04</td> <td> 9.17e+04</td>\n",
       "</tr>\n",
       "<tr>\n",
       "  <th>grade_bin[T.A]</th> <td> 1.283e+05</td> <td> 1.25e+04</td> <td>   10.291</td> <td> 0.000</td> <td> 1.04e+05</td> <td> 1.53e+05</td>\n",
       "</tr>\n",
       "<tr>\n",
       "  <th>bedrooms</th>       <td>-9346.1104</td> <td> 1053.840</td> <td>   -8.869</td> <td> 0.000</td> <td>-1.14e+04</td> <td>-7280.491</td>\n",
       "</tr>\n",
       "<tr>\n",
       "  <th>bathrooms</th>      <td> 2.322e+04</td> <td> 1807.029</td> <td>   12.848</td> <td> 0.000</td> <td> 1.97e+04</td> <td> 2.68e+04</td>\n",
       "</tr>\n",
       "<tr>\n",
       "  <th>sqft_living</th>    <td>   78.7813</td> <td>    1.884</td> <td>   41.821</td> <td> 0.000</td> <td>   75.089</td> <td>   82.474</td>\n",
       "</tr>\n",
       "<tr>\n",
       "  <th>sqft_lot</th>       <td>    0.2291</td> <td>    0.020</td> <td>   11.312</td> <td> 0.000</td> <td>    0.189</td> <td>    0.269</td>\n",
       "</tr>\n",
       "<tr>\n",
       "  <th>floors</th>         <td>  2.45e+04</td> <td> 1762.492</td> <td>   13.902</td> <td> 0.000</td> <td>  2.1e+04</td> <td>  2.8e+04</td>\n",
       "</tr>\n",
       "<tr>\n",
       "  <th>waterfront</th>     <td> 2.107e+05</td> <td> 1.63e+04</td> <td>   12.893</td> <td> 0.000</td> <td> 1.79e+05</td> <td> 2.43e+05</td>\n",
       "</tr>\n",
       "<tr>\n",
       "  <th>condition</th>      <td> 2.105e+04</td> <td> 1244.992</td> <td>   16.905</td> <td> 0.000</td> <td> 1.86e+04</td> <td> 2.35e+04</td>\n",
       "</tr>\n",
       "<tr>\n",
       "  <th>grade</th>          <td> 3.529e+04</td> <td> 3617.361</td> <td>    9.756</td> <td> 0.000</td> <td> 2.82e+04</td> <td> 4.24e+04</td>\n",
       "</tr>\n",
       "<tr>\n",
       "  <th>yr_built</th>       <td>-1632.9963</td> <td>   39.059</td> <td>  -41.809</td> <td> 0.000</td> <td>-1709.555</td> <td>-1556.438</td>\n",
       "</tr>\n",
       "<tr>\n",
       "  <th>zipcode</th>        <td> -148.9926</td> <td>   17.562</td> <td>   -8.484</td> <td> 0.000</td> <td> -183.416</td> <td> -114.569</td>\n",
       "</tr>\n",
       "<tr>\n",
       "  <th>lat</th>            <td> 5.112e+05</td> <td> 5509.093</td> <td>   92.801</td> <td> 0.000</td> <td>    5e+05</td> <td> 5.22e+05</td>\n",
       "</tr>\n",
       "<tr>\n",
       "  <th>long</th>           <td> 8869.4302</td> <td> 6688.390</td> <td>    1.326</td> <td> 0.185</td> <td>-4240.403</td> <td>  2.2e+04</td>\n",
       "</tr>\n",
       "</table>\n",
       "<table class=\"simpletable\">\n",
       "<tr>\n",
       "  <th>Omnibus:</th>       <td>664.087</td> <th>  Durbin-Watson:     </th> <td>   1.993</td> \n",
       "</tr>\n",
       "<tr>\n",
       "  <th>Prob(Omnibus):</th> <td> 0.000</td>  <th>  Jarque-Bera (JB):  </th> <td> 883.379</td> \n",
       "</tr>\n",
       "<tr>\n",
       "  <th>Skew:</th>          <td> 0.378</td>  <th>  Prob(JB):          </th> <td>1.50e-192</td>\n",
       "</tr>\n",
       "<tr>\n",
       "  <th>Kurtosis:</th>      <td> 3.730</td>  <th>  Cond. No.          </th> <td>2.05e+08</td> \n",
       "</tr>\n",
       "</table><br/><br/>Warnings:<br/>[1] Standard Errors assume that the covariance matrix of the errors is correctly specified.<br/>[2] The condition number is large, 2.05e+08. This might indicate that there are<br/>strong multicollinearity or other numerical problems."
      ],
      "text/plain": [
       "<class 'statsmodels.iolib.summary.Summary'>\n",
       "\"\"\"\n",
       "                            OLS Regression Results                            \n",
       "==============================================================================\n",
       "Dep. Variable:                  price   R-squared:                       0.651\n",
       "Model:                            OLS   Adj. R-squared:                  0.651\n",
       "Method:                 Least Squares   F-statistic:                     2382.\n",
       "Date:                Mon, 25 Jan 2021   Prob (F-statistic):               0.00\n",
       "Time:                        23:51:39   Log-Likelihood:            -2.4812e+05\n",
       "No. Observations:               19165   AIC:                         4.963e+05\n",
       "Df Residuals:                   19149   BIC:                         4.964e+05\n",
       "Df Model:                          15                                         \n",
       "Covariance Type:            nonrobust                                         \n",
       "==================================================================================\n",
       "                     coef    std err          t      P>|t|      [0.025      0.975]\n",
       "----------------------------------------------------------------------------------\n",
       "Intercept      -5.543e+06   1.51e+06     -3.669      0.000    -8.5e+06   -2.58e+06\n",
       "grade_bin[T.C]  3.276e+04   4752.023      6.895      0.000    2.34e+04    4.21e+04\n",
       "grade_bin[T.B]  7.577e+04   8130.852      9.319      0.000    5.98e+04    9.17e+04\n",
       "grade_bin[T.A]  1.283e+05   1.25e+04     10.291      0.000    1.04e+05    1.53e+05\n",
       "bedrooms       -9346.1104   1053.840     -8.869      0.000   -1.14e+04   -7280.491\n",
       "bathrooms       2.322e+04   1807.029     12.848      0.000    1.97e+04    2.68e+04\n",
       "sqft_living       78.7813      1.884     41.821      0.000      75.089      82.474\n",
       "sqft_lot           0.2291      0.020     11.312      0.000       0.189       0.269\n",
       "floors           2.45e+04   1762.492     13.902      0.000     2.1e+04     2.8e+04\n",
       "waterfront      2.107e+05   1.63e+04     12.893      0.000    1.79e+05    2.43e+05\n",
       "condition       2.105e+04   1244.992     16.905      0.000    1.86e+04    2.35e+04\n",
       "grade           3.529e+04   3617.361      9.756      0.000    2.82e+04    4.24e+04\n",
       "yr_built       -1632.9963     39.059    -41.809      0.000   -1709.555   -1556.438\n",
       "zipcode         -148.9926     17.562     -8.484      0.000    -183.416    -114.569\n",
       "lat             5.112e+05   5509.093     92.801      0.000       5e+05    5.22e+05\n",
       "long            8869.4302   6688.390      1.326      0.185   -4240.403     2.2e+04\n",
       "==============================================================================\n",
       "Omnibus:                      664.087   Durbin-Watson:                   1.993\n",
       "Prob(Omnibus):                  0.000   Jarque-Bera (JB):              883.379\n",
       "Skew:                           0.378   Prob(JB):                    1.50e-192\n",
       "Kurtosis:                       3.730   Cond. No.                     2.05e+08\n",
       "==============================================================================\n",
       "\n",
       "Warnings:\n",
       "[1] Standard Errors assume that the covariance matrix of the errors is correctly specified.\n",
       "[2] The condition number is large, 2.05e+08. This might indicate that there are\n",
       "strong multicollinearity or other numerical problems.\n",
       "\"\"\""
      ]
     },
     "execution_count": 320,
     "metadata": {},
     "output_type": "execute_result"
    }
   ],
   "source": [
    "predictors = '+'.join(xcols)\n",
    "\n",
    "f = outcome + '~' + predictors\n",
    "\n",
    "model_grade_bin = ols(formula = f, data = df_low_prices).fit()\n",
    "model_grade_bin.summary()"
   ]
  },
  {
   "cell_type": "code",
   "execution_count": 321,
   "metadata": {
    "ExecuteTime": {
     "end_time": "2021-01-26T05:51:39.929330Z",
     "start_time": "2021-01-26T05:51:39.926519Z"
    }
   },
   "outputs": [],
   "source": [
    "#\n",
    "#\n",
    "# making qqplot from binned grade"
   ]
  },
  {
   "cell_type": "code",
   "execution_count": 322,
   "metadata": {
    "ExecuteTime": {
     "end_time": "2021-01-26T05:51:40.558627Z",
     "start_time": "2021-01-26T05:51:40.531896Z"
    }
   },
   "outputs": [
    {
     "data": {
      "text/html": [
       "<div>\n",
       "<style scoped>\n",
       "    .dataframe tbody tr th:only-of-type {\n",
       "        vertical-align: middle;\n",
       "    }\n",
       "\n",
       "    .dataframe tbody tr th {\n",
       "        vertical-align: top;\n",
       "    }\n",
       "\n",
       "    .dataframe thead th {\n",
       "        text-align: right;\n",
       "    }\n",
       "</style>\n",
       "<table border=\"1\" class=\"dataframe\">\n",
       "  <thead>\n",
       "    <tr style=\"text-align: right;\">\n",
       "      <th></th>\n",
       "      <th>id</th>\n",
       "      <th>date</th>\n",
       "      <th>price</th>\n",
       "      <th>bedrooms</th>\n",
       "      <th>bathrooms</th>\n",
       "      <th>sqft_living</th>\n",
       "      <th>sqft_lot</th>\n",
       "      <th>floors</th>\n",
       "      <th>waterfront</th>\n",
       "      <th>condition</th>\n",
       "      <th>...</th>\n",
       "      <th>zipcode</th>\n",
       "      <th>lat</th>\n",
       "      <th>long</th>\n",
       "      <th>date_dateformat</th>\n",
       "      <th>month</th>\n",
       "      <th>year</th>\n",
       "      <th>age_sold</th>\n",
       "      <th>name_of_month</th>\n",
       "      <th>seasons</th>\n",
       "      <th>grade_bin</th>\n",
       "    </tr>\n",
       "  </thead>\n",
       "  <tbody>\n",
       "    <tr>\n",
       "      <th>0</th>\n",
       "      <td>7129300520</td>\n",
       "      <td>10/13/2014</td>\n",
       "      <td>221900.0</td>\n",
       "      <td>3</td>\n",
       "      <td>1.00</td>\n",
       "      <td>1180</td>\n",
       "      <td>5650</td>\n",
       "      <td>1.0</td>\n",
       "      <td>0.0</td>\n",
       "      <td>3</td>\n",
       "      <td>...</td>\n",
       "      <td>98178</td>\n",
       "      <td>47.5112</td>\n",
       "      <td>-122.257</td>\n",
       "      <td>2014-10-13</td>\n",
       "      <td>10</td>\n",
       "      <td>2014</td>\n",
       "      <td>59</td>\n",
       "      <td>Oct</td>\n",
       "      <td>fall</td>\n",
       "      <td>C</td>\n",
       "    </tr>\n",
       "    <tr>\n",
       "      <th>1</th>\n",
       "      <td>6414100192</td>\n",
       "      <td>12/9/2014</td>\n",
       "      <td>538000.0</td>\n",
       "      <td>3</td>\n",
       "      <td>2.25</td>\n",
       "      <td>2570</td>\n",
       "      <td>7242</td>\n",
       "      <td>2.0</td>\n",
       "      <td>0.0</td>\n",
       "      <td>3</td>\n",
       "      <td>...</td>\n",
       "      <td>98125</td>\n",
       "      <td>47.7210</td>\n",
       "      <td>-122.319</td>\n",
       "      <td>2014-12-09</td>\n",
       "      <td>12</td>\n",
       "      <td>2014</td>\n",
       "      <td>63</td>\n",
       "      <td>Dec</td>\n",
       "      <td>winter</td>\n",
       "      <td>C</td>\n",
       "    </tr>\n",
       "    <tr>\n",
       "      <th>2</th>\n",
       "      <td>5631500400</td>\n",
       "      <td>2/25/2015</td>\n",
       "      <td>180000.0</td>\n",
       "      <td>2</td>\n",
       "      <td>1.00</td>\n",
       "      <td>770</td>\n",
       "      <td>10000</td>\n",
       "      <td>1.0</td>\n",
       "      <td>0.0</td>\n",
       "      <td>3</td>\n",
       "      <td>...</td>\n",
       "      <td>98028</td>\n",
       "      <td>47.7379</td>\n",
       "      <td>-122.233</td>\n",
       "      <td>2015-02-25</td>\n",
       "      <td>2</td>\n",
       "      <td>2015</td>\n",
       "      <td>82</td>\n",
       "      <td>Feb</td>\n",
       "      <td>winter</td>\n",
       "      <td>D</td>\n",
       "    </tr>\n",
       "    <tr>\n",
       "      <th>3</th>\n",
       "      <td>2487200875</td>\n",
       "      <td>12/9/2014</td>\n",
       "      <td>604000.0</td>\n",
       "      <td>4</td>\n",
       "      <td>3.00</td>\n",
       "      <td>1960</td>\n",
       "      <td>5000</td>\n",
       "      <td>1.0</td>\n",
       "      <td>0.0</td>\n",
       "      <td>5</td>\n",
       "      <td>...</td>\n",
       "      <td>98136</td>\n",
       "      <td>47.5208</td>\n",
       "      <td>-122.393</td>\n",
       "      <td>2014-12-09</td>\n",
       "      <td>12</td>\n",
       "      <td>2014</td>\n",
       "      <td>49</td>\n",
       "      <td>Dec</td>\n",
       "      <td>winter</td>\n",
       "      <td>C</td>\n",
       "    </tr>\n",
       "    <tr>\n",
       "      <th>4</th>\n",
       "      <td>1954400510</td>\n",
       "      <td>2/18/2015</td>\n",
       "      <td>510000.0</td>\n",
       "      <td>3</td>\n",
       "      <td>2.00</td>\n",
       "      <td>1680</td>\n",
       "      <td>8080</td>\n",
       "      <td>1.0</td>\n",
       "      <td>0.0</td>\n",
       "      <td>3</td>\n",
       "      <td>...</td>\n",
       "      <td>98074</td>\n",
       "      <td>47.6168</td>\n",
       "      <td>-122.045</td>\n",
       "      <td>2015-02-18</td>\n",
       "      <td>2</td>\n",
       "      <td>2015</td>\n",
       "      <td>28</td>\n",
       "      <td>Feb</td>\n",
       "      <td>winter</td>\n",
       "      <td>B</td>\n",
       "    </tr>\n",
       "  </tbody>\n",
       "</table>\n",
       "<p>5 rows × 22 columns</p>\n",
       "</div>"
      ],
      "text/plain": [
       "           id        date     price  bedrooms  bathrooms  sqft_living  \\\n",
       "0  7129300520  10/13/2014  221900.0         3       1.00         1180   \n",
       "1  6414100192   12/9/2014  538000.0         3       2.25         2570   \n",
       "2  5631500400   2/25/2015  180000.0         2       1.00          770   \n",
       "3  2487200875   12/9/2014  604000.0         4       3.00         1960   \n",
       "4  1954400510   2/18/2015  510000.0         3       2.00         1680   \n",
       "\n",
       "   sqft_lot  floors  waterfront  condition  ...  zipcode      lat     long  \\\n",
       "0      5650     1.0         0.0          3  ...    98178  47.5112 -122.257   \n",
       "1      7242     2.0         0.0          3  ...    98125  47.7210 -122.319   \n",
       "2     10000     1.0         0.0          3  ...    98028  47.7379 -122.233   \n",
       "3      5000     1.0         0.0          5  ...    98136  47.5208 -122.393   \n",
       "4      8080     1.0         0.0          3  ...    98074  47.6168 -122.045   \n",
       "\n",
       "   date_dateformat  month  year  age_sold  name_of_month  seasons grade_bin  \n",
       "0       2014-10-13     10  2014        59            Oct     fall         C  \n",
       "1       2014-12-09     12  2014        63            Dec   winter         C  \n",
       "2       2015-02-25      2  2015        82            Feb   winter         D  \n",
       "3       2014-12-09     12  2014        49            Dec   winter         C  \n",
       "4       2015-02-18      2  2015        28            Feb   winter         B  \n",
       "\n",
       "[5 rows x 22 columns]"
      ]
     },
     "execution_count": 322,
     "metadata": {},
     "output_type": "execute_result"
    }
   ],
   "source": [
    "df_low_prices.head()"
   ]
  },
  {
   "cell_type": "code",
   "execution_count": 323,
   "metadata": {
    "ExecuteTime": {
     "end_time": "2021-01-26T05:51:41.725075Z",
     "start_time": "2021-01-26T05:51:41.157454Z"
    }
   },
   "outputs": [
    {
     "name": "stdout",
     "output_type": "stream",
     "text": [
      "Train MSE: 10378585722.340864\n",
      "Test MSE: 10356218490.096106\n",
      "Train RMSE: 101875.34403544787\n",
      "Test RMSE: 101765.5073691283\n"
     ]
    },
    {
     "data": {
      "image/png": "[encoded data removed]",
      "text/plain": [
       "<Figure size 432x288 with 1 Axes>"
      ]
     },
     "execution_count": 323,
     "metadata": {},
     "output_type": "execute_result"
    },
    {
     "data": {
      "image/png": "[encoded data removed]",
      "text/plain": [
       "<Figure size 432x288 with 1 Axes>"
      ]
     },
     "metadata": {},
     "output_type": "display_data"
    }
   ],
   "source": [
    "data = df_low_prices.copy()\n",
    "\n",
    "y = data['price']\n",
    "X = data.drop(['price','id','date','date_dateformat','month','year','grade_bin',\n",
    "                                       'age_sold','name_of_month','seasons'], axis = 1)\n",
    "\n",
    "X_train, X_test, y_train, y_test = train_test_split(X, y, test_size = .2)\n",
    "\n",
    "linreg = LinearRegression()\n",
    "linreg.fit(X_train, y_train)\n",
    "\n",
    "y_hat_train = linreg.predict(X_train)\n",
    "y_hat_test = linreg.predict(X_test)\n",
    "\n",
    "mse_train = mean_squared_error(y_train, y_hat_train)\n",
    "mse_test = mean_squared_error(y_test, y_hat_test)\n",
    "\n",
    "print('Train MSE:', mse_train)\n",
    "print('Test MSE:', mse_test)\n",
    "\n",
    "print('Train RMSE:', np.sqrt(mse_train))\n",
    "print('Test RMSE:', np.sqrt(mse_test))\n",
    "\n",
    "r2_score(y_test, y_hat_test)\n",
    "\n",
    "residuals = (y_test - y_hat_test)\n",
    "\n",
    "statsmodels.graphics.gofplots.qqplot(residuals, line = 'r')"
   ]
  },
  {
   "cell_type": "code",
   "execution_count": 324,
   "metadata": {
    "ExecuteTime": {
     "end_time": "2021-01-26T05:51:42.157293Z",
     "start_time": "2021-01-26T05:51:42.152817Z"
    },
    "scrolled": true
   },
   "outputs": [],
   "source": [
    "#\n",
    "#\n",
    "# getting dummies for zipcodes"
   ]
  },
  {
   "cell_type": "code",
   "execution_count": 325,
   "metadata": {
    "ExecuteTime": {
     "end_time": "2021-01-26T05:51:42.557012Z",
     "start_time": "2021-01-26T05:51:42.544633Z"
    }
   },
   "outputs": [],
   "source": [
    "zipcodes = pd.get_dummies(df_original['zipcode'], prefix = 'zipcode')"
   ]
  },
  {
   "cell_type": "code",
   "execution_count": 326,
   "metadata": {
    "ExecuteTime": {
     "end_time": "2021-01-26T05:51:42.993590Z",
     "start_time": "2021-01-26T05:51:42.977510Z"
    }
   },
   "outputs": [
    {
     "name": "stdout",
     "output_type": "stream",
     "text": [
      "<class 'pandas.core.frame.DataFrame'>\n",
      "RangeIndex: 21597 entries, 0 to 21596\n",
      "Data columns (total 70 columns):\n",
      "zipcode_98001    21597 non-null uint8\n",
      "zipcode_98002    21597 non-null uint8\n",
      "zipcode_98003    21597 non-null uint8\n",
      "zipcode_98004    21597 non-null uint8\n",
      "zipcode_98005    21597 non-null uint8\n",
      "zipcode_98006    21597 non-null uint8\n",
      "zipcode_98007    21597 non-null uint8\n",
      "zipcode_98008    21597 non-null uint8\n",
      "zipcode_98010    21597 non-null uint8\n",
      "zipcode_98011    21597 non-null uint8\n",
      "zipcode_98014    21597 non-null uint8\n",
      "zipcode_98019    21597 non-null uint8\n",
      "zipcode_98022    21597 non-null uint8\n",
      "zipcode_98023    21597 non-null uint8\n",
      "zipcode_98024    21597 non-null uint8\n",
      "zipcode_98027    21597 non-null uint8\n",
      "zipcode_98028    21597 non-null uint8\n",
      "zipcode_98029    21597 non-null uint8\n",
      "zipcode_98030    21597 non-null uint8\n",
      "zipcode_98031    21597 non-null uint8\n",
      "zipcode_98032    21597 non-null uint8\n",
      "zipcode_98033    21597 non-null uint8\n",
      "zipcode_98034    21597 non-null uint8\n",
      "zipcode_98038    21597 non-null uint8\n",
      "zipcode_98039    21597 non-null uint8\n",
      "zipcode_98040    21597 non-null uint8\n",
      "zipcode_98042    21597 non-null uint8\n",
      "zipcode_98045    21597 non-null uint8\n",
      "zipcode_98052    21597 non-null uint8\n",
      "zipcode_98053    21597 non-null uint8\n",
      "zipcode_98055    21597 non-null uint8\n",
      "zipcode_98056    21597 non-null uint8\n",
      "zipcode_98058    21597 non-null uint8\n",
      "zipcode_98059    21597 non-null uint8\n",
      "zipcode_98065    21597 non-null uint8\n",
      "zipcode_98070    21597 non-null uint8\n",
      "zipcode_98072    21597 non-null uint8\n",
      "zipcode_98074    21597 non-null uint8\n",
      "zipcode_98075    21597 non-null uint8\n",
      "zipcode_98077    21597 non-null uint8\n",
      "zipcode_98092    21597 non-null uint8\n",
      "zipcode_98102    21597 non-null uint8\n",
      "zipcode_98103    21597 non-null uint8\n",
      "zipcode_98105    21597 non-null uint8\n",
      "zipcode_98106    21597 non-null uint8\n",
      "zipcode_98107    21597 non-null uint8\n",
      "zipcode_98108    21597 non-null uint8\n",
      "zipcode_98109    21597 non-null uint8\n",
      "zipcode_98112    21597 non-null uint8\n",
      "zipcode_98115    21597 non-null uint8\n",
      "zipcode_98116    21597 non-null uint8\n",
      "zipcode_98117    21597 non-null uint8\n",
      "zipcode_98118    21597 non-null uint8\n",
      "zipcode_98119    21597 non-null uint8\n",
      "zipcode_98122    21597 non-null uint8\n",
      "zipcode_98125    21597 non-null uint8\n",
      "zipcode_98126    21597 non-null uint8\n",
      "zipcode_98133    21597 non-null uint8\n",
      "zipcode_98136    21597 non-null uint8\n",
      "zipcode_98144    21597 non-null uint8\n",
      "zipcode_98146    21597 non-null uint8\n",
      "zipcode_98148    21597 non-null uint8\n",
      "zipcode_98155    21597 non-null uint8\n",
      "zipcode_98166    21597 non-null uint8\n",
      "zipcode_98168    21597 non-null uint8\n",
      "zipcode_98177    21597 non-null uint8\n",
      "zipcode_98178    21597 non-null uint8\n",
      "zipcode_98188    21597 non-null uint8\n",
      "zipcode_98198    21597 non-null uint8\n",
      "zipcode_98199    21597 non-null uint8\n",
      "dtypes: uint8(70)\n",
      "memory usage: 1.4 MB\n"
     ]
    }
   ],
   "source": [
    "zipcodes.info()"
   ]
  },
  {
   "cell_type": "code",
   "execution_count": 327,
   "metadata": {
    "ExecuteTime": {
     "end_time": "2021-01-26T05:51:43.512863Z",
     "start_time": "2021-01-26T05:51:43.495315Z"
    }
   },
   "outputs": [],
   "source": [
    "df_zipcodes = pd.concat([df_low_prices, zipcodes], axis = 1)"
   ]
  },
  {
   "cell_type": "code",
   "execution_count": 328,
   "metadata": {
    "ExecuteTime": {
     "end_time": "2021-01-26T05:51:44.038034Z",
     "start_time": "2021-01-26T05:51:44.035386Z"
    },
    "scrolled": true
   },
   "outputs": [],
   "source": [
    "#\n",
    "#\n",
    "# making zipcodes into four sectors on the map trying to make each sector a corner of the map"
   ]
  },
  {
   "cell_type": "code",
   "execution_count": 329,
   "metadata": {
    "ExecuteTime": {
     "end_time": "2021-01-26T05:51:44.621648Z",
     "start_time": "2021-01-26T05:51:44.591376Z"
    }
   },
   "outputs": [
    {
     "name": "stdout",
     "output_type": "stream",
     "text": [
      "<class 'pandas.core.frame.DataFrame'>\n",
      "Int64Index: 21597 entries, 0 to 21596\n",
      "Data columns (total 92 columns):\n",
      "id                 19165 non-null float64\n",
      "date               19165 non-null object\n",
      "price              19165 non-null float64\n",
      "bedrooms           19165 non-null float64\n",
      "bathrooms          19165 non-null float64\n",
      "sqft_living        19165 non-null float64\n",
      "sqft_lot           19165 non-null float64\n",
      "floors             19165 non-null float64\n",
      "waterfront         19165 non-null float64\n",
      "condition          19165 non-null float64\n",
      "grade              19165 non-null float64\n",
      "yr_built           19165 non-null float64\n",
      "zipcode            19165 non-null float64\n",
      "lat                19165 non-null float64\n",
      "long               19165 non-null float64\n",
      "date_dateformat    19165 non-null datetime64[ns]\n",
      "month              19165 non-null float64\n",
      "year               19165 non-null float64\n",
      "age_sold           19165 non-null float64\n",
      "name_of_month      19165 non-null object\n",
      "seasons            19165 non-null object\n",
      "grade_bin          19165 non-null category\n",
      "zipcode_98001      21597 non-null uint8\n",
      "zipcode_98002      21597 non-null uint8\n",
      "zipcode_98003      21597 non-null uint8\n",
      "zipcode_98004      21597 non-null uint8\n",
      "zipcode_98005      21597 non-null uint8\n",
      "zipcode_98006      21597 non-null uint8\n",
      "zipcode_98007      21597 non-null uint8\n",
      "zipcode_98008      21597 non-null uint8\n",
      "zipcode_98010      21597 non-null uint8\n",
      "zipcode_98011      21597 non-null uint8\n",
      "zipcode_98014      21597 non-null uint8\n",
      "zipcode_98019      21597 non-null uint8\n",
      "zipcode_98022      21597 non-null uint8\n",
      "zipcode_98023      21597 non-null uint8\n",
      "zipcode_98024      21597 non-null uint8\n",
      "zipcode_98027      21597 non-null uint8\n",
      "zipcode_98028      21597 non-null uint8\n",
      "zipcode_98029      21597 non-null uint8\n",
      "zipcode_98030      21597 non-null uint8\n",
      "zipcode_98031      21597 non-null uint8\n",
      "zipcode_98032      21597 non-null uint8\n",
      "zipcode_98033      21597 non-null uint8\n",
      "zipcode_98034      21597 non-null uint8\n",
      "zipcode_98038      21597 non-null uint8\n",
      "zipcode_98039      21597 non-null uint8\n",
      "zipcode_98040      21597 non-null uint8\n",
      "zipcode_98042      21597 non-null uint8\n",
      "zipcode_98045      21597 non-null uint8\n",
      "zipcode_98052      21597 non-null uint8\n",
      "zipcode_98053      21597 non-null uint8\n",
      "zipcode_98055      21597 non-null uint8\n",
      "zipcode_98056      21597 non-null uint8\n",
      "zipcode_98058      21597 non-null uint8\n",
      "zipcode_98059      21597 non-null uint8\n",
      "zipcode_98065      21597 non-null uint8\n",
      "zipcode_98070      21597 non-null uint8\n",
      "zipcode_98072      21597 non-null uint8\n",
      "zipcode_98074      21597 non-null uint8\n",
      "zipcode_98075      21597 non-null uint8\n",
      "zipcode_98077      21597 non-null uint8\n",
      "zipcode_98092      21597 non-null uint8\n",
      "zipcode_98102      21597 non-null uint8\n",
      "zipcode_98103      21597 non-null uint8\n",
      "zipcode_98105      21597 non-null uint8\n",
      "zipcode_98106      21597 non-null uint8\n",
      "zipcode_98107      21597 non-null uint8\n",
      "zipcode_98108      21597 non-null uint8\n",
      "zipcode_98109      21597 non-null uint8\n",
      "zipcode_98112      21597 non-null uint8\n",
      "zipcode_98115      21597 non-null uint8\n",
      "zipcode_98116      21597 non-null uint8\n",
      "zipcode_98117      21597 non-null uint8\n",
      "zipcode_98118      21597 non-null uint8\n",
      "zipcode_98119      21597 non-null uint8\n",
      "zipcode_98122      21597 non-null uint8\n",
      "zipcode_98125      21597 non-null uint8\n",
      "zipcode_98126      21597 non-null uint8\n",
      "zipcode_98133      21597 non-null uint8\n",
      "zipcode_98136      21597 non-null uint8\n",
      "zipcode_98144      21597 non-null uint8\n",
      "zipcode_98146      21597 non-null uint8\n",
      "zipcode_98148      21597 non-null uint8\n",
      "zipcode_98155      21597 non-null uint8\n",
      "zipcode_98166      21597 non-null uint8\n",
      "zipcode_98168      21597 non-null uint8\n",
      "zipcode_98177      21597 non-null uint8\n",
      "zipcode_98178      21597 non-null uint8\n",
      "zipcode_98188      21597 non-null uint8\n",
      "zipcode_98198      21597 non-null uint8\n",
      "zipcode_98199      21597 non-null uint8\n",
      "dtypes: category(1), datetime64[ns](1), float64(17), object(3), uint8(70)\n",
      "memory usage: 5.1+ MB\n"
     ]
    }
   ],
   "source": [
    "df_zipcodes.info()"
   ]
  },
  {
   "cell_type": "code",
   "execution_count": 330,
   "metadata": {
    "ExecuteTime": {
     "end_time": "2021-01-26T05:51:45.161505Z",
     "start_time": "2021-01-26T05:51:45.138878Z"
    }
   },
   "outputs": [],
   "source": [
    "df_zipcodes['lat_long'] = list(zip(df_zipcodes.lat, df_zipcodes.long))"
   ]
  },
  {
   "cell_type": "code",
   "execution_count": 331,
   "metadata": {
    "ExecuteTime": {
     "end_time": "2021-01-26T05:51:45.719081Z",
     "start_time": "2021-01-26T05:51:45.705747Z"
    }
   },
   "outputs": [],
   "source": [
    "df_zipcodes['sector'] = df_zipcodes['lat_long'].apply(lambda x: 'sector_1' if (x[0] >= 47.5) & (x[1] < -122.2)\n",
    "                           else ('sector_2' if (x[0] >= 47.5) & (x[1] >=-122.2)\n",
    "                           else ('sector_3' if (x[0] < 47.5) & (x[1] < -122.2)\n",
    "                           else 'sector_4')))"
   ]
  },
  {
   "cell_type": "code",
   "execution_count": 332,
   "metadata": {
    "ExecuteTime": {
     "end_time": "2021-01-26T05:51:46.261513Z",
     "start_time": "2021-01-26T05:51:46.253782Z"
    }
   },
   "outputs": [
    {
     "data": {
      "text/plain": [
       "sector_1    7758\n",
       "sector_4    5923\n",
       "sector_2    4867\n",
       "sector_3    3049\n",
       "Name: sector, dtype: int64"
      ]
     },
     "execution_count": 332,
     "metadata": {},
     "output_type": "execute_result"
    }
   ],
   "source": [
    "df_zipcodes.sector.value_counts()"
   ]
  },
  {
   "cell_type": "code",
   "execution_count": 333,
   "metadata": {
    "ExecuteTime": {
     "end_time": "2021-01-26T05:51:48.315249Z",
     "start_time": "2021-01-26T05:51:46.806194Z"
    }
   },
   "outputs": [
    {
     "data": {
      "text/plain": [
       "<matplotlib.axes._subplots.AxesSubplot at 0x7fb33bc135c0>"
      ]
     },
     "execution_count": 333,
     "metadata": {},
     "output_type": "execute_result"
    },
    {
     "data": {
      "image/png": "[encoded data removed]",
      "text/plain": [
       "<Figure size 720x720 with 1 Axes>"
      ]
     },
     "metadata": {},
     "output_type": "display_data"
    }
   ],
   "source": [
    "plt.figure(figsize = (10,10))\n",
    "sns.scatterplot(x = 'long', y = 'lat', hue = 'sector', data = df_zipcodes)"
   ]
  },
  {
   "cell_type": "code",
   "execution_count": 334,
   "metadata": {
    "ExecuteTime": {
     "end_time": "2021-01-26T05:51:48.797063Z",
     "start_time": "2021-01-26T05:51:48.763364Z"
    }
   },
   "outputs": [
    {
     "data": {
      "text/html": [
       "<div>\n",
       "<style scoped>\n",
       "    .dataframe tbody tr th:only-of-type {\n",
       "        vertical-align: middle;\n",
       "    }\n",
       "\n",
       "    .dataframe tbody tr th {\n",
       "        vertical-align: top;\n",
       "    }\n",
       "\n",
       "    .dataframe thead th {\n",
       "        text-align: right;\n",
       "    }\n",
       "</style>\n",
       "<table border=\"1\" class=\"dataframe\">\n",
       "  <thead>\n",
       "    <tr style=\"text-align: right;\">\n",
       "      <th></th>\n",
       "      <th>id</th>\n",
       "      <th>date</th>\n",
       "      <th>price</th>\n",
       "      <th>bedrooms</th>\n",
       "      <th>bathrooms</th>\n",
       "      <th>sqft_living</th>\n",
       "      <th>sqft_lot</th>\n",
       "      <th>floors</th>\n",
       "      <th>waterfront</th>\n",
       "      <th>condition</th>\n",
       "      <th>...</th>\n",
       "      <th>zipcode_98155</th>\n",
       "      <th>zipcode_98166</th>\n",
       "      <th>zipcode_98168</th>\n",
       "      <th>zipcode_98177</th>\n",
       "      <th>zipcode_98178</th>\n",
       "      <th>zipcode_98188</th>\n",
       "      <th>zipcode_98198</th>\n",
       "      <th>zipcode_98199</th>\n",
       "      <th>lat_long</th>\n",
       "      <th>sector</th>\n",
       "    </tr>\n",
       "  </thead>\n",
       "  <tbody>\n",
       "    <tr>\n",
       "      <th>0</th>\n",
       "      <td>7.129301e+09</td>\n",
       "      <td>10/13/2014</td>\n",
       "      <td>221900.0</td>\n",
       "      <td>3.0</td>\n",
       "      <td>1.00</td>\n",
       "      <td>1180.0</td>\n",
       "      <td>5650.0</td>\n",
       "      <td>1.0</td>\n",
       "      <td>0.0</td>\n",
       "      <td>3.0</td>\n",
       "      <td>...</td>\n",
       "      <td>0</td>\n",
       "      <td>0</td>\n",
       "      <td>0</td>\n",
       "      <td>0</td>\n",
       "      <td>1</td>\n",
       "      <td>0</td>\n",
       "      <td>0</td>\n",
       "      <td>0</td>\n",
       "      <td>(47.5112, -122.257)</td>\n",
       "      <td>sector_1</td>\n",
       "    </tr>\n",
       "    <tr>\n",
       "      <th>1</th>\n",
       "      <td>6.414100e+09</td>\n",
       "      <td>12/9/2014</td>\n",
       "      <td>538000.0</td>\n",
       "      <td>3.0</td>\n",
       "      <td>2.25</td>\n",
       "      <td>2570.0</td>\n",
       "      <td>7242.0</td>\n",
       "      <td>2.0</td>\n",
       "      <td>0.0</td>\n",
       "      <td>3.0</td>\n",
       "      <td>...</td>\n",
       "      <td>0</td>\n",
       "      <td>0</td>\n",
       "      <td>0</td>\n",
       "      <td>0</td>\n",
       "      <td>0</td>\n",
       "      <td>0</td>\n",
       "      <td>0</td>\n",
       "      <td>0</td>\n",
       "      <td>(47.721000000000004, -122.319)</td>\n",
       "      <td>sector_1</td>\n",
       "    </tr>\n",
       "    <tr>\n",
       "      <th>2</th>\n",
       "      <td>5.631500e+09</td>\n",
       "      <td>2/25/2015</td>\n",
       "      <td>180000.0</td>\n",
       "      <td>2.0</td>\n",
       "      <td>1.00</td>\n",
       "      <td>770.0</td>\n",
       "      <td>10000.0</td>\n",
       "      <td>1.0</td>\n",
       "      <td>0.0</td>\n",
       "      <td>3.0</td>\n",
       "      <td>...</td>\n",
       "      <td>0</td>\n",
       "      <td>0</td>\n",
       "      <td>0</td>\n",
       "      <td>0</td>\n",
       "      <td>0</td>\n",
       "      <td>0</td>\n",
       "      <td>0</td>\n",
       "      <td>0</td>\n",
       "      <td>(47.7379, -122.23299999999999)</td>\n",
       "      <td>sector_1</td>\n",
       "    </tr>\n",
       "    <tr>\n",
       "      <th>3</th>\n",
       "      <td>2.487201e+09</td>\n",
       "      <td>12/9/2014</td>\n",
       "      <td>604000.0</td>\n",
       "      <td>4.0</td>\n",
       "      <td>3.00</td>\n",
       "      <td>1960.0</td>\n",
       "      <td>5000.0</td>\n",
       "      <td>1.0</td>\n",
       "      <td>0.0</td>\n",
       "      <td>5.0</td>\n",
       "      <td>...</td>\n",
       "      <td>0</td>\n",
       "      <td>0</td>\n",
       "      <td>0</td>\n",
       "      <td>0</td>\n",
       "      <td>0</td>\n",
       "      <td>0</td>\n",
       "      <td>0</td>\n",
       "      <td>0</td>\n",
       "      <td>(47.5208, -122.39299999999999)</td>\n",
       "      <td>sector_1</td>\n",
       "    </tr>\n",
       "    <tr>\n",
       "      <th>4</th>\n",
       "      <td>1.954401e+09</td>\n",
       "      <td>2/18/2015</td>\n",
       "      <td>510000.0</td>\n",
       "      <td>3.0</td>\n",
       "      <td>2.00</td>\n",
       "      <td>1680.0</td>\n",
       "      <td>8080.0</td>\n",
       "      <td>1.0</td>\n",
       "      <td>0.0</td>\n",
       "      <td>3.0</td>\n",
       "      <td>...</td>\n",
       "      <td>0</td>\n",
       "      <td>0</td>\n",
       "      <td>0</td>\n",
       "      <td>0</td>\n",
       "      <td>0</td>\n",
       "      <td>0</td>\n",
       "      <td>0</td>\n",
       "      <td>0</td>\n",
       "      <td>(47.6168, -122.045)</td>\n",
       "      <td>sector_2</td>\n",
       "    </tr>\n",
       "  </tbody>\n",
       "</table>\n",
       "<p>5 rows × 94 columns</p>\n",
       "</div>"
      ],
      "text/plain": [
       "             id        date     price  bedrooms  bathrooms  sqft_living  \\\n",
       "0  7.129301e+09  10/13/2014  221900.0       3.0       1.00       1180.0   \n",
       "1  6.414100e+09   12/9/2014  538000.0       3.0       2.25       2570.0   \n",
       "2  5.631500e+09   2/25/2015  180000.0       2.0       1.00        770.0   \n",
       "3  2.487201e+09   12/9/2014  604000.0       4.0       3.00       1960.0   \n",
       "4  1.954401e+09   2/18/2015  510000.0       3.0       2.00       1680.0   \n",
       "\n",
       "   sqft_lot  floors  waterfront  condition  ...  zipcode_98155  zipcode_98166  \\\n",
       "0    5650.0     1.0         0.0        3.0  ...              0              0   \n",
       "1    7242.0     2.0         0.0        3.0  ...              0              0   \n",
       "2   10000.0     1.0         0.0        3.0  ...              0              0   \n",
       "3    5000.0     1.0         0.0        5.0  ...              0              0   \n",
       "4    8080.0     1.0         0.0        3.0  ...              0              0   \n",
       "\n",
       "   zipcode_98168  zipcode_98177  zipcode_98178 zipcode_98188  zipcode_98198  \\\n",
       "0              0              0              1             0              0   \n",
       "1              0              0              0             0              0   \n",
       "2              0              0              0             0              0   \n",
       "3              0              0              0             0              0   \n",
       "4              0              0              0             0              0   \n",
       "\n",
       "   zipcode_98199                        lat_long    sector  \n",
       "0              0             (47.5112, -122.257)  sector_1  \n",
       "1              0  (47.721000000000004, -122.319)  sector_1  \n",
       "2              0  (47.7379, -122.23299999999999)  sector_1  \n",
       "3              0  (47.5208, -122.39299999999999)  sector_1  \n",
       "4              0             (47.6168, -122.045)  sector_2  \n",
       "\n",
       "[5 rows x 94 columns]"
      ]
     },
     "execution_count": 334,
     "metadata": {},
     "output_type": "execute_result"
    }
   ],
   "source": [
    "df_zipcodes.head()"
   ]
  },
  {
   "cell_type": "code",
   "execution_count": null,
   "metadata": {
    "ExecuteTime": {
     "end_time": "2021-01-26T05:44:00.757665Z",
     "start_time": "2021-01-26T05:44:00.754007Z"
    }
   },
   "outputs": [],
   "source": []
  },
  {
   "cell_type": "code",
   "execution_count": null,
   "metadata": {
    "ExecuteTime": {
     "end_time": "2021-01-26T05:44:04.400837Z",
     "start_time": "2021-01-26T05:44:04.396586Z"
    }
   },
   "outputs": [],
   "source": []
  },
  {
   "cell_type": "code",
   "execution_count": null,
   "metadata": {
    "ExecuteTime": {
     "end_time": "2021-01-26T05:44:11.423909Z",
     "start_time": "2021-01-26T05:44:11.419197Z"
    }
   },
   "outputs": [],
   "source": []
  },
  {
   "cell_type": "code",
   "execution_count": null,
   "metadata": {
    "ExecuteTime": {
     "end_time": "2021-01-26T05:44:15.054132Z",
     "start_time": "2021-01-26T05:44:15.037123Z"
    },
    "scrolled": true
   },
   "outputs": [],
   "source": []
  },
  {
   "cell_type": "code",
   "execution_count": null,
   "metadata": {
    "ExecuteTime": {
     "end_time": "2021-01-25T22:52:11.634594Z",
     "start_time": "2021-01-25T22:52:11.339170Z"
    }
   },
   "outputs": [],
   "source": []
  },
  {
   "cell_type": "code",
   "execution_count": null,
   "metadata": {
    "ExecuteTime": {
     "end_time": "2021-01-25T22:51:45.480598Z",
     "start_time": "2021-01-25T22:51:44.051116Z"
    }
   },
   "outputs": [],
   "source": []
  },
  {
   "cell_type": "code",
   "execution_count": null,
   "metadata": {
    "ExecuteTime": {
     "end_time": "2021-01-26T01:23:45.461907Z",
     "start_time": "2021-01-26T01:23:45.436890Z"
    }
   },
   "outputs": [],
   "source": []
  },
  {
   "cell_type": "code",
   "execution_count": null,
   "metadata": {
    "ExecuteTime": {
     "end_time": "2021-01-26T01:25:05.165225Z",
     "start_time": "2021-01-26T01:25:05.110031Z"
    }
   },
   "outputs": [],
   "source": []
  },
  {
   "cell_type": "code",
   "execution_count": 335,
   "metadata": {
    "ExecuteTime": {
     "end_time": "2021-01-26T05:51:53.128372Z",
     "start_time": "2021-01-26T05:51:53.125262Z"
    }
   },
   "outputs": [],
   "source": [
    "#\n",
    "#\n",
    "# finding what the price per sqft is per zipcode"
   ]
  },
  {
   "cell_type": "code",
   "execution_count": 336,
   "metadata": {
    "ExecuteTime": {
     "end_time": "2021-01-26T05:51:53.693564Z",
     "start_time": "2021-01-26T05:51:53.652248Z"
    }
   },
   "outputs": [
    {
     "data": {
      "text/html": [
       "<div>\n",
       "<style scoped>\n",
       "    .dataframe tbody tr th:only-of-type {\n",
       "        vertical-align: middle;\n",
       "    }\n",
       "\n",
       "    .dataframe tbody tr th {\n",
       "        vertical-align: top;\n",
       "    }\n",
       "\n",
       "    .dataframe thead th {\n",
       "        text-align: right;\n",
       "    }\n",
       "</style>\n",
       "<table border=\"1\" class=\"dataframe\">\n",
       "  <thead>\n",
       "    <tr style=\"text-align: right;\">\n",
       "      <th></th>\n",
       "      <th>id</th>\n",
       "      <th>price</th>\n",
       "      <th>bedrooms</th>\n",
       "      <th>bathrooms</th>\n",
       "      <th>sqft_living</th>\n",
       "      <th>sqft_lot</th>\n",
       "      <th>floors</th>\n",
       "      <th>waterfront</th>\n",
       "      <th>condition</th>\n",
       "      <th>grade</th>\n",
       "      <th>yr_built</th>\n",
       "      <th>lat</th>\n",
       "      <th>long</th>\n",
       "      <th>month</th>\n",
       "      <th>year</th>\n",
       "      <th>age_sold</th>\n",
       "      <th>sqft_price</th>\n",
       "    </tr>\n",
       "    <tr>\n",
       "      <th>zipcode</th>\n",
       "      <th></th>\n",
       "      <th></th>\n",
       "      <th></th>\n",
       "      <th></th>\n",
       "      <th></th>\n",
       "      <th></th>\n",
       "      <th></th>\n",
       "      <th></th>\n",
       "      <th></th>\n",
       "      <th></th>\n",
       "      <th></th>\n",
       "      <th></th>\n",
       "      <th></th>\n",
       "      <th></th>\n",
       "      <th></th>\n",
       "      <th></th>\n",
       "      <th></th>\n",
       "    </tr>\n",
       "  </thead>\n",
       "  <tbody>\n",
       "    <tr>\n",
       "      <th>98001</th>\n",
       "      <td>4.651274e+09</td>\n",
       "      <td>281194.869806</td>\n",
       "      <td>3.393352</td>\n",
       "      <td>2.011773</td>\n",
       "      <td>1903.783934</td>\n",
       "      <td>14967.002770</td>\n",
       "      <td>1.430748</td>\n",
       "      <td>0.000000</td>\n",
       "      <td>3.335180</td>\n",
       "      <td>7.296399</td>\n",
       "      <td>1980.867036</td>\n",
       "      <td>47.309106</td>\n",
       "      <td>-122.270704</td>\n",
       "      <td>6.567867</td>\n",
       "      <td>2014.321330</td>\n",
       "      <td>33.454294</td>\n",
       "      <td>151.347966</td>\n",
       "    </tr>\n",
       "    <tr>\n",
       "      <th>98002</th>\n",
       "      <td>4.850894e+09</td>\n",
       "      <td>234284.035176</td>\n",
       "      <td>3.326633</td>\n",
       "      <td>1.839196</td>\n",
       "      <td>1627.743719</td>\n",
       "      <td>7517.633166</td>\n",
       "      <td>1.334171</td>\n",
       "      <td>0.000000</td>\n",
       "      <td>3.743719</td>\n",
       "      <td>6.693467</td>\n",
       "      <td>1967.773869</td>\n",
       "      <td>47.308780</td>\n",
       "      <td>-122.213357</td>\n",
       "      <td>6.698492</td>\n",
       "      <td>2014.336683</td>\n",
       "      <td>46.562814</td>\n",
       "      <td>151.174091</td>\n",
       "    </tr>\n",
       "    <tr>\n",
       "      <th>98003</th>\n",
       "      <td>4.689068e+09</td>\n",
       "      <td>291760.422939</td>\n",
       "      <td>3.354839</td>\n",
       "      <td>2.040323</td>\n",
       "      <td>1915.598566</td>\n",
       "      <td>10606.351254</td>\n",
       "      <td>1.308244</td>\n",
       "      <td>0.000000</td>\n",
       "      <td>3.372760</td>\n",
       "      <td>7.534050</td>\n",
       "      <td>1976.763441</td>\n",
       "      <td>47.315658</td>\n",
       "      <td>-122.309968</td>\n",
       "      <td>6.602151</td>\n",
       "      <td>2014.344086</td>\n",
       "      <td>37.580645</td>\n",
       "      <td>157.072283</td>\n",
       "    </tr>\n",
       "    <tr>\n",
       "      <th>98004</th>\n",
       "      <td>4.275247e+09</td>\n",
       "      <td>724470.439024</td>\n",
       "      <td>3.353659</td>\n",
       "      <td>1.743902</td>\n",
       "      <td>1757.439024</td>\n",
       "      <td>10379.463415</td>\n",
       "      <td>1.195122</td>\n",
       "      <td>0.000000</td>\n",
       "      <td>3.597561</td>\n",
       "      <td>7.402439</td>\n",
       "      <td>1959.390244</td>\n",
       "      <td>47.610707</td>\n",
       "      <td>-122.198963</td>\n",
       "      <td>6.743902</td>\n",
       "      <td>2014.268293</td>\n",
       "      <td>54.878049</td>\n",
       "      <td>447.904335</td>\n",
       "    </tr>\n",
       "    <tr>\n",
       "      <th>98005</th>\n",
       "      <td>5.366156e+09</td>\n",
       "      <td>675091.867257</td>\n",
       "      <td>3.716814</td>\n",
       "      <td>2.192478</td>\n",
       "      <td>2231.061947</td>\n",
       "      <td>13619.663717</td>\n",
       "      <td>1.159292</td>\n",
       "      <td>0.000000</td>\n",
       "      <td>3.725664</td>\n",
       "      <td>7.964602</td>\n",
       "      <td>1966.592920</td>\n",
       "      <td>47.604085</td>\n",
       "      <td>-122.168602</td>\n",
       "      <td>6.787611</td>\n",
       "      <td>2014.300885</td>\n",
       "      <td>47.707965</td>\n",
       "      <td>314.630707</td>\n",
       "    </tr>\n",
       "    <tr>\n",
       "      <th>...</th>\n",
       "      <td>...</td>\n",
       "      <td>...</td>\n",
       "      <td>...</td>\n",
       "      <td>...</td>\n",
       "      <td>...</td>\n",
       "      <td>...</td>\n",
       "      <td>...</td>\n",
       "      <td>...</td>\n",
       "      <td>...</td>\n",
       "      <td>...</td>\n",
       "      <td>...</td>\n",
       "      <td>...</td>\n",
       "      <td>...</td>\n",
       "      <td>...</td>\n",
       "      <td>...</td>\n",
       "      <td>...</td>\n",
       "      <td>...</td>\n",
       "    </tr>\n",
       "    <tr>\n",
       "      <th>98177</th>\n",
       "      <td>4.026798e+09</td>\n",
       "      <td>521969.447115</td>\n",
       "      <td>3.298077</td>\n",
       "      <td>1.909856</td>\n",
       "      <td>2003.942308</td>\n",
       "      <td>9577.644231</td>\n",
       "      <td>1.221154</td>\n",
       "      <td>0.000000</td>\n",
       "      <td>3.461538</td>\n",
       "      <td>7.600962</td>\n",
       "      <td>1959.427885</td>\n",
       "      <td>47.743174</td>\n",
       "      <td>-122.367880</td>\n",
       "      <td>6.692308</td>\n",
       "      <td>2014.278846</td>\n",
       "      <td>54.850962</td>\n",
       "      <td>275.104589</td>\n",
       "    </tr>\n",
       "    <tr>\n",
       "      <th>98178</th>\n",
       "      <td>4.276430e+09</td>\n",
       "      <td>300044.563707</td>\n",
       "      <td>3.305019</td>\n",
       "      <td>1.718147</td>\n",
       "      <td>1717.413127</td>\n",
       "      <td>8242.888031</td>\n",
       "      <td>1.179537</td>\n",
       "      <td>0.023166</td>\n",
       "      <td>3.324324</td>\n",
       "      <td>6.799228</td>\n",
       "      <td>1955.065637</td>\n",
       "      <td>47.499003</td>\n",
       "      <td>-122.247054</td>\n",
       "      <td>6.895753</td>\n",
       "      <td>2014.293436</td>\n",
       "      <td>59.227799</td>\n",
       "      <td>186.208846</td>\n",
       "    </tr>\n",
       "    <tr>\n",
       "      <th>98188</th>\n",
       "      <td>4.481851e+09</td>\n",
       "      <td>289078.345588</td>\n",
       "      <td>3.433824</td>\n",
       "      <td>1.863971</td>\n",
       "      <td>1802.772059</td>\n",
       "      <td>10126.080882</td>\n",
       "      <td>1.227941</td>\n",
       "      <td>0.000000</td>\n",
       "      <td>3.330882</td>\n",
       "      <td>7.036765</td>\n",
       "      <td>1965.507353</td>\n",
       "      <td>47.447310</td>\n",
       "      <td>-122.280993</td>\n",
       "      <td>6.205882</td>\n",
       "      <td>2014.389706</td>\n",
       "      <td>48.882353</td>\n",
       "      <td>169.007306</td>\n",
       "    </tr>\n",
       "    <tr>\n",
       "      <th>98198</th>\n",
       "      <td>5.157120e+09</td>\n",
       "      <td>293433.527076</td>\n",
       "      <td>3.176895</td>\n",
       "      <td>1.775271</td>\n",
       "      <td>1722.602888</td>\n",
       "      <td>10319.631769</td>\n",
       "      <td>1.220217</td>\n",
       "      <td>0.025271</td>\n",
       "      <td>3.436823</td>\n",
       "      <td>7.079422</td>\n",
       "      <td>1966.642599</td>\n",
       "      <td>47.390881</td>\n",
       "      <td>-122.315625</td>\n",
       "      <td>6.411552</td>\n",
       "      <td>2014.353791</td>\n",
       "      <td>47.711191</td>\n",
       "      <td>176.911590</td>\n",
       "    </tr>\n",
       "    <tr>\n",
       "      <th>98199</th>\n",
       "      <td>3.776412e+09</td>\n",
       "      <td>592684.045662</td>\n",
       "      <td>2.954338</td>\n",
       "      <td>1.867580</td>\n",
       "      <td>1710.771689</td>\n",
       "      <td>4805.863014</td>\n",
       "      <td>1.363014</td>\n",
       "      <td>0.000000</td>\n",
       "      <td>3.470320</td>\n",
       "      <td>7.433790</td>\n",
       "      <td>1955.159817</td>\n",
       "      <td>47.649543</td>\n",
       "      <td>-122.396498</td>\n",
       "      <td>6.694064</td>\n",
       "      <td>2014.328767</td>\n",
       "      <td>59.168950</td>\n",
       "      <td>367.237077</td>\n",
       "    </tr>\n",
       "  </tbody>\n",
       "</table>\n",
       "<p>70 rows × 17 columns</p>\n",
       "</div>"
      ],
      "text/plain": [
       "                   id          price  bedrooms  bathrooms  sqft_living  \\\n",
       "zipcode                                                                  \n",
       "98001    4.651274e+09  281194.869806  3.393352   2.011773  1903.783934   \n",
       "98002    4.850894e+09  234284.035176  3.326633   1.839196  1627.743719   \n",
       "98003    4.689068e+09  291760.422939  3.354839   2.040323  1915.598566   \n",
       "98004    4.275247e+09  724470.439024  3.353659   1.743902  1757.439024   \n",
       "98005    5.366156e+09  675091.867257  3.716814   2.192478  2231.061947   \n",
       "...               ...            ...       ...        ...          ...   \n",
       "98177    4.026798e+09  521969.447115  3.298077   1.909856  2003.942308   \n",
       "98178    4.276430e+09  300044.563707  3.305019   1.718147  1717.413127   \n",
       "98188    4.481851e+09  289078.345588  3.433824   1.863971  1802.772059   \n",
       "98198    5.157120e+09  293433.527076  3.176895   1.775271  1722.602888   \n",
       "98199    3.776412e+09  592684.045662  2.954338   1.867580  1710.771689   \n",
       "\n",
       "             sqft_lot    floors  waterfront  condition     grade     yr_built  \\\n",
       "zipcode                                                                         \n",
       "98001    14967.002770  1.430748    0.000000   3.335180  7.296399  1980.867036   \n",
       "98002     7517.633166  1.334171    0.000000   3.743719  6.693467  1967.773869   \n",
       "98003    10606.351254  1.308244    0.000000   3.372760  7.534050  1976.763441   \n",
       "98004    10379.463415  1.195122    0.000000   3.597561  7.402439  1959.390244   \n",
       "98005    13619.663717  1.159292    0.000000   3.725664  7.964602  1966.592920   \n",
       "...               ...       ...         ...        ...       ...          ...   \n",
       "98177     9577.644231  1.221154    0.000000   3.461538  7.600962  1959.427885   \n",
       "98178     8242.888031  1.179537    0.023166   3.324324  6.799228  1955.065637   \n",
       "98188    10126.080882  1.227941    0.000000   3.330882  7.036765  1965.507353   \n",
       "98198    10319.631769  1.220217    0.025271   3.436823  7.079422  1966.642599   \n",
       "98199     4805.863014  1.363014    0.000000   3.470320  7.433790  1955.159817   \n",
       "\n",
       "               lat        long     month         year   age_sold  sqft_price  \n",
       "zipcode                                                                       \n",
       "98001    47.309106 -122.270704  6.567867  2014.321330  33.454294  151.347966  \n",
       "98002    47.308780 -122.213357  6.698492  2014.336683  46.562814  151.174091  \n",
       "98003    47.315658 -122.309968  6.602151  2014.344086  37.580645  157.072283  \n",
       "98004    47.610707 -122.198963  6.743902  2014.268293  54.878049  447.904335  \n",
       "98005    47.604085 -122.168602  6.787611  2014.300885  47.707965  314.630707  \n",
       "...            ...         ...       ...          ...        ...         ...  \n",
       "98177    47.743174 -122.367880  6.692308  2014.278846  54.850962  275.104589  \n",
       "98178    47.499003 -122.247054  6.895753  2014.293436  59.227799  186.208846  \n",
       "98188    47.447310 -122.280993  6.205882  2014.389706  48.882353  169.007306  \n",
       "98198    47.390881 -122.315625  6.411552  2014.353791  47.711191  176.911590  \n",
       "98199    47.649543 -122.396498  6.694064  2014.328767  59.168950  367.237077  \n",
       "\n",
       "[70 rows x 17 columns]"
      ]
     },
     "execution_count": 336,
     "metadata": {},
     "output_type": "execute_result"
    }
   ],
   "source": [
    "\n",
    "\n",
    "df_low_prices['sqft_price'] = df_low_prices['price'] / df_low_prices['sqft_living']\n",
    "\n",
    "zip_mean = df_low_prices.groupby('zipcode').mean()\n",
    "zip_mean"
   ]
  },
  {
   "cell_type": "code",
   "execution_count": 337,
   "metadata": {
    "ExecuteTime": {
     "end_time": "2021-01-26T05:51:54.177698Z",
     "start_time": "2021-01-26T05:51:54.147013Z"
    }
   },
   "outputs": [
    {
     "data": {
      "text/html": [
       "<div>\n",
       "<style scoped>\n",
       "    .dataframe tbody tr th:only-of-type {\n",
       "        vertical-align: middle;\n",
       "    }\n",
       "\n",
       "    .dataframe tbody tr th {\n",
       "        vertical-align: top;\n",
       "    }\n",
       "\n",
       "    .dataframe thead th {\n",
       "        text-align: right;\n",
       "    }\n",
       "</style>\n",
       "<table border=\"1\" class=\"dataframe\">\n",
       "  <thead>\n",
       "    <tr style=\"text-align: right;\">\n",
       "      <th></th>\n",
       "      <th>id</th>\n",
       "      <th>date</th>\n",
       "      <th>price</th>\n",
       "      <th>bedrooms</th>\n",
       "      <th>bathrooms</th>\n",
       "      <th>sqft_living</th>\n",
       "      <th>sqft_lot</th>\n",
       "      <th>floors</th>\n",
       "      <th>waterfront</th>\n",
       "      <th>condition</th>\n",
       "      <th>...</th>\n",
       "      <th>lat</th>\n",
       "      <th>long</th>\n",
       "      <th>date_dateformat</th>\n",
       "      <th>month</th>\n",
       "      <th>year</th>\n",
       "      <th>age_sold</th>\n",
       "      <th>name_of_month</th>\n",
       "      <th>seasons</th>\n",
       "      <th>grade_bin</th>\n",
       "      <th>sqft_price</th>\n",
       "    </tr>\n",
       "  </thead>\n",
       "  <tbody>\n",
       "    <tr>\n",
       "      <th>0</th>\n",
       "      <td>7129300520</td>\n",
       "      <td>10/13/2014</td>\n",
       "      <td>221900.0</td>\n",
       "      <td>3</td>\n",
       "      <td>1.00</td>\n",
       "      <td>1180</td>\n",
       "      <td>5650</td>\n",
       "      <td>1.0</td>\n",
       "      <td>0.0</td>\n",
       "      <td>3</td>\n",
       "      <td>...</td>\n",
       "      <td>47.5112</td>\n",
       "      <td>-122.257</td>\n",
       "      <td>2014-10-13</td>\n",
       "      <td>10</td>\n",
       "      <td>2014</td>\n",
       "      <td>59</td>\n",
       "      <td>Oct</td>\n",
       "      <td>fall</td>\n",
       "      <td>C</td>\n",
       "      <td>188.050847</td>\n",
       "    </tr>\n",
       "    <tr>\n",
       "      <th>1</th>\n",
       "      <td>6414100192</td>\n",
       "      <td>12/9/2014</td>\n",
       "      <td>538000.0</td>\n",
       "      <td>3</td>\n",
       "      <td>2.25</td>\n",
       "      <td>2570</td>\n",
       "      <td>7242</td>\n",
       "      <td>2.0</td>\n",
       "      <td>0.0</td>\n",
       "      <td>3</td>\n",
       "      <td>...</td>\n",
       "      <td>47.7210</td>\n",
       "      <td>-122.319</td>\n",
       "      <td>2014-12-09</td>\n",
       "      <td>12</td>\n",
       "      <td>2014</td>\n",
       "      <td>63</td>\n",
       "      <td>Dec</td>\n",
       "      <td>winter</td>\n",
       "      <td>C</td>\n",
       "      <td>209.338521</td>\n",
       "    </tr>\n",
       "    <tr>\n",
       "      <th>2</th>\n",
       "      <td>5631500400</td>\n",
       "      <td>2/25/2015</td>\n",
       "      <td>180000.0</td>\n",
       "      <td>2</td>\n",
       "      <td>1.00</td>\n",
       "      <td>770</td>\n",
       "      <td>10000</td>\n",
       "      <td>1.0</td>\n",
       "      <td>0.0</td>\n",
       "      <td>3</td>\n",
       "      <td>...</td>\n",
       "      <td>47.7379</td>\n",
       "      <td>-122.233</td>\n",
       "      <td>2015-02-25</td>\n",
       "      <td>2</td>\n",
       "      <td>2015</td>\n",
       "      <td>82</td>\n",
       "      <td>Feb</td>\n",
       "      <td>winter</td>\n",
       "      <td>D</td>\n",
       "      <td>233.766234</td>\n",
       "    </tr>\n",
       "    <tr>\n",
       "      <th>3</th>\n",
       "      <td>2487200875</td>\n",
       "      <td>12/9/2014</td>\n",
       "      <td>604000.0</td>\n",
       "      <td>4</td>\n",
       "      <td>3.00</td>\n",
       "      <td>1960</td>\n",
       "      <td>5000</td>\n",
       "      <td>1.0</td>\n",
       "      <td>0.0</td>\n",
       "      <td>5</td>\n",
       "      <td>...</td>\n",
       "      <td>47.5208</td>\n",
       "      <td>-122.393</td>\n",
       "      <td>2014-12-09</td>\n",
       "      <td>12</td>\n",
       "      <td>2014</td>\n",
       "      <td>49</td>\n",
       "      <td>Dec</td>\n",
       "      <td>winter</td>\n",
       "      <td>C</td>\n",
       "      <td>308.163265</td>\n",
       "    </tr>\n",
       "    <tr>\n",
       "      <th>4</th>\n",
       "      <td>1954400510</td>\n",
       "      <td>2/18/2015</td>\n",
       "      <td>510000.0</td>\n",
       "      <td>3</td>\n",
       "      <td>2.00</td>\n",
       "      <td>1680</td>\n",
       "      <td>8080</td>\n",
       "      <td>1.0</td>\n",
       "      <td>0.0</td>\n",
       "      <td>3</td>\n",
       "      <td>...</td>\n",
       "      <td>47.6168</td>\n",
       "      <td>-122.045</td>\n",
       "      <td>2015-02-18</td>\n",
       "      <td>2</td>\n",
       "      <td>2015</td>\n",
       "      <td>28</td>\n",
       "      <td>Feb</td>\n",
       "      <td>winter</td>\n",
       "      <td>B</td>\n",
       "      <td>303.571429</td>\n",
       "    </tr>\n",
       "  </tbody>\n",
       "</table>\n",
       "<p>5 rows × 23 columns</p>\n",
       "</div>"
      ],
      "text/plain": [
       "           id        date     price  bedrooms  bathrooms  sqft_living  \\\n",
       "0  7129300520  10/13/2014  221900.0         3       1.00         1180   \n",
       "1  6414100192   12/9/2014  538000.0         3       2.25         2570   \n",
       "2  5631500400   2/25/2015  180000.0         2       1.00          770   \n",
       "3  2487200875   12/9/2014  604000.0         4       3.00         1960   \n",
       "4  1954400510   2/18/2015  510000.0         3       2.00         1680   \n",
       "\n",
       "   sqft_lot  floors  waterfront  condition  ...      lat     long  \\\n",
       "0      5650     1.0         0.0          3  ...  47.5112 -122.257   \n",
       "1      7242     2.0         0.0          3  ...  47.7210 -122.319   \n",
       "2     10000     1.0         0.0          3  ...  47.7379 -122.233   \n",
       "3      5000     1.0         0.0          5  ...  47.5208 -122.393   \n",
       "4      8080     1.0         0.0          3  ...  47.6168 -122.045   \n",
       "\n",
       "   date_dateformat  month  year age_sold  name_of_month  seasons  grade_bin  \\\n",
       "0       2014-10-13     10  2014       59            Oct     fall          C   \n",
       "1       2014-12-09     12  2014       63            Dec   winter          C   \n",
       "2       2015-02-25      2  2015       82            Feb   winter          D   \n",
       "3       2014-12-09     12  2014       49            Dec   winter          C   \n",
       "4       2015-02-18      2  2015       28            Feb   winter          B   \n",
       "\n",
       "   sqft_price  \n",
       "0  188.050847  \n",
       "1  209.338521  \n",
       "2  233.766234  \n",
       "3  308.163265  \n",
       "4  303.571429  \n",
       "\n",
       "[5 rows x 23 columns]"
      ]
     },
     "execution_count": 337,
     "metadata": {},
     "output_type": "execute_result"
    }
   ],
   "source": [
    "df_low_prices.head()"
   ]
  },
  {
   "cell_type": "code",
   "execution_count": 338,
   "metadata": {
    "ExecuteTime": {
     "end_time": "2021-01-26T05:51:55.126754Z",
     "start_time": "2021-01-26T05:51:54.726544Z"
    }
   },
   "outputs": [
    {
     "data": {
      "text/plain": [
       "<matplotlib.axes._subplots.AxesSubplot at 0x7fb3417d39b0>"
      ]
     },
     "execution_count": 338,
     "metadata": {},
     "output_type": "execute_result"
    },
    {
     "data": {
      "image/png": "[encoded data removed]",
      "text/plain": [
       "<Figure size 432x288 with 1 Axes>"
      ]
     },
     "metadata": {},
     "output_type": "display_data"
    }
   ],
   "source": [
    "sns.set_style('darkgrid')\n",
    "sns.barplot(x = 'grade_bin', y = 'sqft_price', data = df_low_prices, palette = 'mako',edgecolor = 'black')"
   ]
  },
  {
   "cell_type": "code",
   "execution_count": null,
   "metadata": {},
   "outputs": [],
   "source": []
  },
  {
   "cell_type": "code",
   "execution_count": 339,
   "metadata": {
    "ExecuteTime": {
     "end_time": "2021-01-26T05:51:55.778727Z",
     "start_time": "2021-01-26T05:51:55.773028Z"
    }
   },
   "outputs": [],
   "source": [
    "outcome = 'price'\n",
    "xcols = df_low_prices.drop(['price', 'id', 'date', 'date_dateformat', 'month', 'year', 'age_sold',\n",
    "                         'name_of_month', 'seasons'], axis = 1).columns\n",
    "predictors = '+'.join(xcols)\n",
    "\n",
    "f = outcome + '~' + predictors\n"
   ]
  },
  {
   "cell_type": "code",
   "execution_count": 340,
   "metadata": {
    "ExecuteTime": {
     "end_time": "2021-01-26T05:51:56.407443Z",
     "start_time": "2021-01-26T05:51:56.310714Z"
    },
    "scrolled": false
   },
   "outputs": [
    {
     "data": {
      "text/html": [
       "<table class=\"simpletable\">\n",
       "<caption>OLS Regression Results</caption>\n",
       "<tr>\n",
       "  <th>Dep. Variable:</th>          <td>price</td>      <th>  R-squared:         </th>  <td>   0.896</td>  \n",
       "</tr>\n",
       "<tr>\n",
       "  <th>Model:</th>                   <td>OLS</td>       <th>  Adj. R-squared:    </th>  <td>   0.896</td>  \n",
       "</tr>\n",
       "<tr>\n",
       "  <th>Method:</th>             <td>Least Squares</td>  <th>  F-statistic:       </th>  <td>1.027e+04</td> \n",
       "</tr>\n",
       "<tr>\n",
       "  <th>Date:</th>             <td>Mon, 25 Jan 2021</td> <th>  Prob (F-statistic):</th>   <td>  0.00</td>   \n",
       "</tr>\n",
       "<tr>\n",
       "  <th>Time:</th>                 <td>23:51:56</td>     <th>  Log-Likelihood:    </th> <td>-2.3655e+05</td>\n",
       "</tr>\n",
       "<tr>\n",
       "  <th>No. Observations:</th>      <td> 19165</td>      <th>  AIC:               </th>  <td>4.731e+05</td> \n",
       "</tr>\n",
       "<tr>\n",
       "  <th>Df Residuals:</th>          <td> 19148</td>      <th>  BIC:               </th>  <td>4.733e+05</td> \n",
       "</tr>\n",
       "<tr>\n",
       "  <th>Df Model:</th>              <td>    16</td>      <th>                     </th>      <td> </td>     \n",
       "</tr>\n",
       "<tr>\n",
       "  <th>Covariance Type:</th>      <td>nonrobust</td>    <th>                     </th>      <td> </td>     \n",
       "</tr>\n",
       "</table>\n",
       "<table class=\"simpletable\">\n",
       "<tr>\n",
       "         <td></td>           <th>coef</th>     <th>std err</th>      <th>t</th>      <th>P>|t|</th>  <th>[0.025</th>    <th>0.975]</th>  \n",
       "</tr>\n",
       "<tr>\n",
       "  <th>Intercept</th>      <td> 1.596e+06</td> <td> 8.27e+05</td> <td>    1.930</td> <td> 0.054</td> <td> -2.5e+04</td> <td> 3.22e+06</td>\n",
       "</tr>\n",
       "<tr>\n",
       "  <th>grade_bin[T.C]</th> <td> 1.646e+04</td> <td> 2600.186</td> <td>    6.329</td> <td> 0.000</td> <td> 1.14e+04</td> <td> 2.16e+04</td>\n",
       "</tr>\n",
       "<tr>\n",
       "  <th>grade_bin[T.B]</th> <td> 2.926e+04</td> <td> 4452.461</td> <td>    6.572</td> <td> 0.000</td> <td> 2.05e+04</td> <td>  3.8e+04</td>\n",
       "</tr>\n",
       "<tr>\n",
       "  <th>grade_bin[T.A]</th> <td> 4.115e+04</td> <td> 6829.250</td> <td>    6.025</td> <td> 0.000</td> <td> 2.78e+04</td> <td> 5.45e+04</td>\n",
       "</tr>\n",
       "<tr>\n",
       "  <th>bedrooms</th>       <td> 5564.6367</td> <td>  580.665</td> <td>    9.583</td> <td> 0.000</td> <td> 4426.483</td> <td> 6702.790</td>\n",
       "</tr>\n",
       "<tr>\n",
       "  <th>bathrooms</th>      <td> 1.276e+04</td> <td>  989.558</td> <td>   12.896</td> <td> 0.000</td> <td> 1.08e+04</td> <td> 1.47e+04</td>\n",
       "</tr>\n",
       "<tr>\n",
       "  <th>sqft_living</th>    <td>  172.4137</td> <td>    1.121</td> <td>  153.787</td> <td> 0.000</td> <td>  170.216</td> <td>  174.611</td>\n",
       "</tr>\n",
       "<tr>\n",
       "  <th>sqft_lot</th>       <td>    0.0410</td> <td>    0.011</td> <td>    3.691</td> <td> 0.000</td> <td>    0.019</td> <td>    0.063</td>\n",
       "</tr>\n",
       "<tr>\n",
       "  <th>floors</th>         <td> 3024.9908</td> <td>  969.286</td> <td>    3.121</td> <td> 0.002</td> <td> 1125.105</td> <td> 4924.877</td>\n",
       "</tr>\n",
       "<tr>\n",
       "  <th>waterfront</th>     <td> 4.022e+04</td> <td> 8973.793</td> <td>    4.482</td> <td> 0.000</td> <td> 2.26e+04</td> <td> 5.78e+04</td>\n",
       "</tr>\n",
       "<tr>\n",
       "  <th>condition</th>      <td> 1.032e+04</td> <td>  682.811</td> <td>   15.109</td> <td> 0.000</td> <td> 8978.098</td> <td> 1.17e+04</td>\n",
       "</tr>\n",
       "<tr>\n",
       "  <th>grade</th>          <td> 1.514e+04</td> <td> 1980.746</td> <td>    7.643</td> <td> 0.000</td> <td> 1.13e+04</td> <td>  1.9e+04</td>\n",
       "</tr>\n",
       "<tr>\n",
       "  <th>yr_built</th>       <td> -387.3486</td> <td>   22.157</td> <td>  -17.482</td> <td> 0.000</td> <td> -430.779</td> <td> -343.918</td>\n",
       "</tr>\n",
       "<tr>\n",
       "  <th>zipcode</th>        <td>  -28.6866</td> <td>    9.622</td> <td>   -2.981</td> <td> 0.003</td> <td>  -47.547</td> <td>   -9.826</td>\n",
       "</tr>\n",
       "<tr>\n",
       "  <th>lat</th>            <td> 1.425e+05</td> <td> 3479.908</td> <td>   40.946</td> <td> 0.000</td> <td> 1.36e+05</td> <td> 1.49e+05</td>\n",
       "</tr>\n",
       "<tr>\n",
       "  <th>long</th>           <td> 4.261e+04</td> <td> 3661.579</td> <td>   11.637</td> <td> 0.000</td> <td> 3.54e+04</td> <td> 4.98e+04</td>\n",
       "</tr>\n",
       "<tr>\n",
       "  <th>sqft_price</th>     <td> 1253.2141</td> <td>    5.917</td> <td>  211.816</td> <td> 0.000</td> <td> 1241.617</td> <td> 1264.811</td>\n",
       "</tr>\n",
       "</table>\n",
       "<table class=\"simpletable\">\n",
       "<tr>\n",
       "  <th>Omnibus:</th>       <td>3950.900</td> <th>  Durbin-Watson:     </th> <td>   1.989</td> \n",
       "</tr>\n",
       "<tr>\n",
       "  <th>Prob(Omnibus):</th>  <td> 0.000</td>  <th>  Jarque-Bera (JB):  </th> <td>17351.057</td>\n",
       "</tr>\n",
       "<tr>\n",
       "  <th>Skew:</th>           <td>-0.950</td>  <th>  Prob(JB):          </th> <td>    0.00</td> \n",
       "</tr>\n",
       "<tr>\n",
       "  <th>Kurtosis:</th>       <td> 7.256</td>  <th>  Cond. No.          </th> <td>2.05e+08</td> \n",
       "</tr>\n",
       "</table><br/><br/>Warnings:<br/>[1] Standard Errors assume that the covariance matrix of the errors is correctly specified.<br/>[2] The condition number is large, 2.05e+08. This might indicate that there are<br/>strong multicollinearity or other numerical problems."
      ],
      "text/plain": [
       "<class 'statsmodels.iolib.summary.Summary'>\n",
       "\"\"\"\n",
       "                            OLS Regression Results                            \n",
       "==============================================================================\n",
       "Dep. Variable:                  price   R-squared:                       0.896\n",
       "Model:                            OLS   Adj. R-squared:                  0.896\n",
       "Method:                 Least Squares   F-statistic:                 1.027e+04\n",
       "Date:                Mon, 25 Jan 2021   Prob (F-statistic):               0.00\n",
       "Time:                        23:51:56   Log-Likelihood:            -2.3655e+05\n",
       "No. Observations:               19165   AIC:                         4.731e+05\n",
       "Df Residuals:                   19148   BIC:                         4.733e+05\n",
       "Df Model:                          16                                         \n",
       "Covariance Type:            nonrobust                                         \n",
       "==================================================================================\n",
       "                     coef    std err          t      P>|t|      [0.025      0.975]\n",
       "----------------------------------------------------------------------------------\n",
       "Intercept       1.596e+06   8.27e+05      1.930      0.054    -2.5e+04    3.22e+06\n",
       "grade_bin[T.C]  1.646e+04   2600.186      6.329      0.000    1.14e+04    2.16e+04\n",
       "grade_bin[T.B]  2.926e+04   4452.461      6.572      0.000    2.05e+04     3.8e+04\n",
       "grade_bin[T.A]  4.115e+04   6829.250      6.025      0.000    2.78e+04    5.45e+04\n",
       "bedrooms        5564.6367    580.665      9.583      0.000    4426.483    6702.790\n",
       "bathrooms       1.276e+04    989.558     12.896      0.000    1.08e+04    1.47e+04\n",
       "sqft_living      172.4137      1.121    153.787      0.000     170.216     174.611\n",
       "sqft_lot           0.0410      0.011      3.691      0.000       0.019       0.063\n",
       "floors          3024.9908    969.286      3.121      0.002    1125.105    4924.877\n",
       "waterfront      4.022e+04   8973.793      4.482      0.000    2.26e+04    5.78e+04\n",
       "condition       1.032e+04    682.811     15.109      0.000    8978.098    1.17e+04\n",
       "grade           1.514e+04   1980.746      7.643      0.000    1.13e+04     1.9e+04\n",
       "yr_built        -387.3486     22.157    -17.482      0.000    -430.779    -343.918\n",
       "zipcode          -28.6866      9.622     -2.981      0.003     -47.547      -9.826\n",
       "lat             1.425e+05   3479.908     40.946      0.000    1.36e+05    1.49e+05\n",
       "long            4.261e+04   3661.579     11.637      0.000    3.54e+04    4.98e+04\n",
       "sqft_price      1253.2141      5.917    211.816      0.000    1241.617    1264.811\n",
       "==============================================================================\n",
       "Omnibus:                     3950.900   Durbin-Watson:                   1.989\n",
       "Prob(Omnibus):                  0.000   Jarque-Bera (JB):            17351.057\n",
       "Skew:                          -0.950   Prob(JB):                         0.00\n",
       "Kurtosis:                       7.256   Cond. No.                     2.05e+08\n",
       "==============================================================================\n",
       "\n",
       "Warnings:\n",
       "[1] Standard Errors assume that the covariance matrix of the errors is correctly specified.\n",
       "[2] The condition number is large, 2.05e+08. This might indicate that there are\n",
       "strong multicollinearity or other numerical problems.\n",
       "\"\"\""
      ]
     },
     "execution_count": 340,
     "metadata": {},
     "output_type": "execute_result"
    }
   ],
   "source": [
    "model_zip = ols(formula = f, data = df_low_prices).fit()\n",
    "model_zip.summary()"
   ]
  },
  {
   "cell_type": "code",
   "execution_count": 341,
   "metadata": {
    "ExecuteTime": {
     "end_time": "2021-01-26T05:51:56.866911Z",
     "start_time": "2021-01-26T05:51:56.856485Z"
    }
   },
   "outputs": [
    {
     "ename": "TypeError",
     "evalue": "scatter() missing 2 required positional arguments: 'x' and 'y'",
     "output_type": "error",
     "traceback": [
      "\u001b[0;31m---------------------------------------------------------------------------\u001b[0m",
      "\u001b[0;31mTypeError\u001b[0m                                 Traceback (most recent call last)",
      "\u001b[0;32m<ipython-input-341-1516a20b26b1>\u001b[0m in \u001b[0;36m<module>\u001b[0;34m()\u001b[0m\n\u001b[0;32m----> 1\u001b[0;31m \u001b[0mplt\u001b[0m\u001b[0;34m.\u001b[0m\u001b[0mscatter\u001b[0m\u001b[0;34m(\u001b[0m\u001b[0;34m)\u001b[0m\u001b[0;34m\u001b[0m\u001b[0;34m\u001b[0m\u001b[0m\n\u001b[0m",
      "\u001b[0;31mTypeError\u001b[0m: scatter() missing 2 required positional arguments: 'x' and 'y'"
     ]
    }
   ],
   "source": [
    "plt.scatter()"
   ]
  },
  {
   "cell_type": "code",
   "execution_count": null,
   "metadata": {},
   "outputs": [],
   "source": []
  },
  {
   "cell_type": "code",
   "execution_count": null,
   "metadata": {},
   "outputs": [],
   "source": []
  },
  {
   "cell_type": "code",
   "execution_count": 342,
   "metadata": {
    "ExecuteTime": {
     "end_time": "2021-01-26T05:52:00.064614Z",
     "start_time": "2021-01-26T05:52:00.061918Z"
    }
   },
   "outputs": [],
   "source": [
    "#\n",
    "#\n",
    "# binning the zipcodes"
   ]
  },
  {
   "cell_type": "code",
   "execution_count": 343,
   "metadata": {
    "ExecuteTime": {
     "end_time": "2021-01-26T05:52:00.959604Z",
     "start_time": "2021-01-26T05:52:00.934498Z"
    }
   },
   "outputs": [
    {
     "data": {
      "text/html": [
       "<div>\n",
       "<style scoped>\n",
       "    .dataframe tbody tr th:only-of-type {\n",
       "        vertical-align: middle;\n",
       "    }\n",
       "\n",
       "    .dataframe tbody tr th {\n",
       "        vertical-align: top;\n",
       "    }\n",
       "\n",
       "    .dataframe thead th {\n",
       "        text-align: right;\n",
       "    }\n",
       "</style>\n",
       "<table border=\"1\" class=\"dataframe\">\n",
       "  <thead>\n",
       "    <tr style=\"text-align: right;\">\n",
       "      <th></th>\n",
       "      <th>id</th>\n",
       "      <th>price</th>\n",
       "      <th>bedrooms</th>\n",
       "      <th>bathrooms</th>\n",
       "      <th>sqft_living</th>\n",
       "      <th>sqft_lot</th>\n",
       "      <th>floors</th>\n",
       "      <th>waterfront</th>\n",
       "      <th>condition</th>\n",
       "      <th>grade</th>\n",
       "      <th>yr_built</th>\n",
       "      <th>lat</th>\n",
       "      <th>long</th>\n",
       "      <th>month</th>\n",
       "      <th>year</th>\n",
       "      <th>age_sold</th>\n",
       "      <th>sqft_price</th>\n",
       "    </tr>\n",
       "    <tr>\n",
       "      <th>zipcode</th>\n",
       "      <th></th>\n",
       "      <th></th>\n",
       "      <th></th>\n",
       "      <th></th>\n",
       "      <th></th>\n",
       "      <th></th>\n",
       "      <th></th>\n",
       "      <th></th>\n",
       "      <th></th>\n",
       "      <th></th>\n",
       "      <th></th>\n",
       "      <th></th>\n",
       "      <th></th>\n",
       "      <th></th>\n",
       "      <th></th>\n",
       "      <th></th>\n",
       "      <th></th>\n",
       "    </tr>\n",
       "  </thead>\n",
       "  <tbody>\n",
       "    <tr>\n",
       "      <th>98001</th>\n",
       "      <td>4.651274e+09</td>\n",
       "      <td>281194.869806</td>\n",
       "      <td>3.393352</td>\n",
       "      <td>2.011773</td>\n",
       "      <td>1903.783934</td>\n",
       "      <td>14967.002770</td>\n",
       "      <td>1.430748</td>\n",
       "      <td>0.0</td>\n",
       "      <td>3.335180</td>\n",
       "      <td>7.296399</td>\n",
       "      <td>1980.867036</td>\n",
       "      <td>47.309106</td>\n",
       "      <td>-122.270704</td>\n",
       "      <td>6.567867</td>\n",
       "      <td>2014.321330</td>\n",
       "      <td>33.454294</td>\n",
       "      <td>151.347966</td>\n",
       "    </tr>\n",
       "    <tr>\n",
       "      <th>98002</th>\n",
       "      <td>4.850894e+09</td>\n",
       "      <td>234284.035176</td>\n",
       "      <td>3.326633</td>\n",
       "      <td>1.839196</td>\n",
       "      <td>1627.743719</td>\n",
       "      <td>7517.633166</td>\n",
       "      <td>1.334171</td>\n",
       "      <td>0.0</td>\n",
       "      <td>3.743719</td>\n",
       "      <td>6.693467</td>\n",
       "      <td>1967.773869</td>\n",
       "      <td>47.308780</td>\n",
       "      <td>-122.213357</td>\n",
       "      <td>6.698492</td>\n",
       "      <td>2014.336683</td>\n",
       "      <td>46.562814</td>\n",
       "      <td>151.174091</td>\n",
       "    </tr>\n",
       "    <tr>\n",
       "      <th>98003</th>\n",
       "      <td>4.689068e+09</td>\n",
       "      <td>291760.422939</td>\n",
       "      <td>3.354839</td>\n",
       "      <td>2.040323</td>\n",
       "      <td>1915.598566</td>\n",
       "      <td>10606.351254</td>\n",
       "      <td>1.308244</td>\n",
       "      <td>0.0</td>\n",
       "      <td>3.372760</td>\n",
       "      <td>7.534050</td>\n",
       "      <td>1976.763441</td>\n",
       "      <td>47.315658</td>\n",
       "      <td>-122.309968</td>\n",
       "      <td>6.602151</td>\n",
       "      <td>2014.344086</td>\n",
       "      <td>37.580645</td>\n",
       "      <td>157.072283</td>\n",
       "    </tr>\n",
       "    <tr>\n",
       "      <th>98004</th>\n",
       "      <td>4.275247e+09</td>\n",
       "      <td>724470.439024</td>\n",
       "      <td>3.353659</td>\n",
       "      <td>1.743902</td>\n",
       "      <td>1757.439024</td>\n",
       "      <td>10379.463415</td>\n",
       "      <td>1.195122</td>\n",
       "      <td>0.0</td>\n",
       "      <td>3.597561</td>\n",
       "      <td>7.402439</td>\n",
       "      <td>1959.390244</td>\n",
       "      <td>47.610707</td>\n",
       "      <td>-122.198963</td>\n",
       "      <td>6.743902</td>\n",
       "      <td>2014.268293</td>\n",
       "      <td>54.878049</td>\n",
       "      <td>447.904335</td>\n",
       "    </tr>\n",
       "    <tr>\n",
       "      <th>98005</th>\n",
       "      <td>5.366156e+09</td>\n",
       "      <td>675091.867257</td>\n",
       "      <td>3.716814</td>\n",
       "      <td>2.192478</td>\n",
       "      <td>2231.061947</td>\n",
       "      <td>13619.663717</td>\n",
       "      <td>1.159292</td>\n",
       "      <td>0.0</td>\n",
       "      <td>3.725664</td>\n",
       "      <td>7.964602</td>\n",
       "      <td>1966.592920</td>\n",
       "      <td>47.604085</td>\n",
       "      <td>-122.168602</td>\n",
       "      <td>6.787611</td>\n",
       "      <td>2014.300885</td>\n",
       "      <td>47.707965</td>\n",
       "      <td>314.630707</td>\n",
       "    </tr>\n",
       "  </tbody>\n",
       "</table>\n",
       "</div>"
      ],
      "text/plain": [
       "                   id          price  bedrooms  bathrooms  sqft_living  \\\n",
       "zipcode                                                                  \n",
       "98001    4.651274e+09  281194.869806  3.393352   2.011773  1903.783934   \n",
       "98002    4.850894e+09  234284.035176  3.326633   1.839196  1627.743719   \n",
       "98003    4.689068e+09  291760.422939  3.354839   2.040323  1915.598566   \n",
       "98004    4.275247e+09  724470.439024  3.353659   1.743902  1757.439024   \n",
       "98005    5.366156e+09  675091.867257  3.716814   2.192478  2231.061947   \n",
       "\n",
       "             sqft_lot    floors  waterfront  condition     grade     yr_built  \\\n",
       "zipcode                                                                         \n",
       "98001    14967.002770  1.430748         0.0   3.335180  7.296399  1980.867036   \n",
       "98002     7517.633166  1.334171         0.0   3.743719  6.693467  1967.773869   \n",
       "98003    10606.351254  1.308244         0.0   3.372760  7.534050  1976.763441   \n",
       "98004    10379.463415  1.195122         0.0   3.597561  7.402439  1959.390244   \n",
       "98005    13619.663717  1.159292         0.0   3.725664  7.964602  1966.592920   \n",
       "\n",
       "               lat        long     month         year   age_sold  sqft_price  \n",
       "zipcode                                                                       \n",
       "98001    47.309106 -122.270704  6.567867  2014.321330  33.454294  151.347966  \n",
       "98002    47.308780 -122.213357  6.698492  2014.336683  46.562814  151.174091  \n",
       "98003    47.315658 -122.309968  6.602151  2014.344086  37.580645  157.072283  \n",
       "98004    47.610707 -122.198963  6.743902  2014.268293  54.878049  447.904335  \n",
       "98005    47.604085 -122.168602  6.787611  2014.300885  47.707965  314.630707  "
      ]
     },
     "execution_count": 343,
     "metadata": {},
     "output_type": "execute_result"
    }
   ],
   "source": [
    "\n",
    "\n",
    "df_low_prices['sqft_price'] = df_low_prices['price'] / df_low_prices['sqft_living']\n",
    "\n",
    "zip_mean = df_low_prices.groupby('zipcode').mean()\n",
    "zip_mean.head()"
   ]
  },
  {
   "cell_type": "code",
   "execution_count": 344,
   "metadata": {
    "ExecuteTime": {
     "end_time": "2021-01-26T05:52:01.849710Z",
     "start_time": "2021-01-26T05:52:01.838183Z"
    }
   },
   "outputs": [
    {
     "name": "stdout",
     "output_type": "stream",
     "text": [
      "<class 'pandas.core.frame.DataFrame'>\n",
      "Int64Index: 19165 entries, 0 to 21596\n",
      "Data columns (total 23 columns):\n",
      "id                 19165 non-null int64\n",
      "date               19165 non-null object\n",
      "price              19165 non-null float64\n",
      "bedrooms           19165 non-null int64\n",
      "bathrooms          19165 non-null float64\n",
      "sqft_living        19165 non-null int64\n",
      "sqft_lot           19165 non-null int64\n",
      "floors             19165 non-null float64\n",
      "waterfront         19165 non-null float64\n",
      "condition          19165 non-null int64\n",
      "grade              19165 non-null int64\n",
      "yr_built           19165 non-null int64\n",
      "zipcode            19165 non-null int64\n",
      "lat                19165 non-null float64\n",
      "long               19165 non-null float64\n",
      "date_dateformat    19165 non-null datetime64[ns]\n",
      "month              19165 non-null int64\n",
      "year               19165 non-null int64\n",
      "age_sold           19165 non-null int64\n",
      "name_of_month      19165 non-null object\n",
      "seasons            19165 non-null object\n",
      "grade_bin          19165 non-null category\n",
      "sqft_price         19165 non-null float64\n",
      "dtypes: category(1), datetime64[ns](1), float64(7), int64(11), object(3)\n",
      "memory usage: 4.0+ MB\n"
     ]
    }
   ],
   "source": [
    "df_low_prices.info()"
   ]
  },
  {
   "cell_type": "code",
   "execution_count": null,
   "metadata": {
    "ExecuteTime": {
     "end_time": "2021-01-26T01:12:52.875121Z",
     "start_time": "2021-01-26T01:12:52.868176Z"
    }
   },
   "outputs": [],
   "source": []
  },
  {
   "cell_type": "code",
   "execution_count": null,
   "metadata": {},
   "outputs": [],
   "source": []
  },
  {
   "cell_type": "code",
   "execution_count": null,
   "metadata": {},
   "outputs": [],
   "source": []
  },
  {
   "cell_type": "code",
   "execution_count": null,
   "metadata": {
    "ExecuteTime": {
     "end_time": "2021-01-25T22:33:33.435330Z",
     "start_time": "2021-01-25T22:33:25.283Z"
    }
   },
   "outputs": [],
   "source": []
  },
  {
   "cell_type": "code",
   "execution_count": null,
   "metadata": {
    "ExecuteTime": {
     "end_time": "2021-01-25T22:33:33.437200Z",
     "start_time": "2021-01-25T22:33:25.286Z"
    }
   },
   "outputs": [],
   "source": []
  },
  {
   "cell_type": "code",
   "execution_count": null,
   "metadata": {
    "ExecuteTime": {
     "end_time": "2021-01-25T22:33:33.439105Z",
     "start_time": "2021-01-25T22:33:25.290Z"
    }
   },
   "outputs": [],
   "source": []
  },
  {
   "cell_type": "code",
   "execution_count": null,
   "metadata": {
    "ExecuteTime": {
     "end_time": "2021-01-25T22:33:33.440896Z",
     "start_time": "2021-01-25T22:33:25.293Z"
    }
   },
   "outputs": [],
   "source": []
  },
  {
   "cell_type": "code",
   "execution_count": 345,
   "metadata": {
    "ExecuteTime": {
     "end_time": "2021-01-26T05:52:04.480334Z",
     "start_time": "2021-01-26T05:52:04.469308Z"
    }
   },
   "outputs": [
    {
     "name": "stdout",
     "output_type": "stream",
     "text": [
      "<class 'pandas.core.frame.DataFrame'>\n",
      "RangeIndex: 21597 entries, 0 to 21596\n",
      "Data columns (total 21 columns):\n",
      "id               21597 non-null int64\n",
      "date             21597 non-null object\n",
      "price            21597 non-null float64\n",
      "bedrooms         21597 non-null int64\n",
      "bathrooms        21597 non-null float64\n",
      "sqft_living      21597 non-null int64\n",
      "sqft_lot         21597 non-null int64\n",
      "floors           21597 non-null float64\n",
      "waterfront       19221 non-null float64\n",
      "view             21534 non-null float64\n",
      "condition        21597 non-null int64\n",
      "grade            21597 non-null int64\n",
      "sqft_above       21597 non-null int64\n",
      "sqft_basement    21597 non-null object\n",
      "yr_built         21597 non-null int64\n",
      "yr_renovated     17755 non-null float64\n",
      "zipcode          21597 non-null int64\n",
      "lat              21597 non-null float64\n",
      "long             21597 non-null float64\n",
      "sqft_living15    21597 non-null int64\n",
      "sqft_lot15       21597 non-null int64\n",
      "dtypes: float64(8), int64(11), object(2)\n",
      "memory usage: 3.5+ MB\n"
     ]
    }
   ],
   "source": [
    "df_original.info()"
   ]
  },
  {
   "cell_type": "code",
   "execution_count": null,
   "metadata": {},
   "outputs": [],
   "source": []
  },
  {
   "cell_type": "code",
   "execution_count": null,
   "metadata": {
    "ExecuteTime": {
     "end_time": "2021-01-25T22:33:33.444553Z",
     "start_time": "2021-01-25T22:33:25.300Z"
    }
   },
   "outputs": [],
   "source": []
  },
  {
   "cell_type": "code",
   "execution_count": 346,
   "metadata": {
    "ExecuteTime": {
     "end_time": "2021-01-26T05:52:05.969012Z",
     "start_time": "2021-01-26T05:52:05.966084Z"
    }
   },
   "outputs": [],
   "source": [
    "# \n",
    "# \n",
    "# separating categorical and continuous values"
   ]
  },
  {
   "cell_type": "code",
   "execution_count": 347,
   "metadata": {
    "ExecuteTime": {
     "end_time": "2021-01-26T05:52:06.507306Z",
     "start_time": "2021-01-26T05:52:06.505241Z"
    }
   },
   "outputs": [],
   "source": [
    "continuous = []\n",
    "categorical = []"
   ]
  },
  {
   "cell_type": "code",
   "execution_count": 348,
   "metadata": {
    "ExecuteTime": {
     "end_time": "2021-01-26T05:52:06.923563Z",
     "start_time": "2021-01-26T05:52:06.908729Z"
    }
   },
   "outputs": [],
   "source": [
    "for col in df.columns:\n",
    "    if (df[col].nunique() < 25):\n",
    "        categorical.append(col)\n",
    "    else:\n",
    "        continuous.append(col)"
   ]
  },
  {
   "cell_type": "code",
   "execution_count": 349,
   "metadata": {
    "ExecuteTime": {
     "end_time": "2021-01-26T05:52:07.357635Z",
     "start_time": "2021-01-26T05:52:07.346700Z"
    }
   },
   "outputs": [
    {
     "data": {
      "text/plain": [
       "['id',\n",
       " 'date',\n",
       " 'price',\n",
       " 'bathrooms',\n",
       " 'sqft_living',\n",
       " 'sqft_lot',\n",
       " 'yr_built',\n",
       " 'zipcode',\n",
       " 'lat',\n",
       " 'long']"
      ]
     },
     "execution_count": 349,
     "metadata": {},
     "output_type": "execute_result"
    }
   ],
   "source": [
    "continuous"
   ]
  },
  {
   "cell_type": "code",
   "execution_count": 350,
   "metadata": {
    "ExecuteTime": {
     "end_time": "2021-01-26T05:52:07.827580Z",
     "start_time": "2021-01-26T05:52:07.823309Z"
    }
   },
   "outputs": [
    {
     "data": {
      "text/plain": [
       "['bedrooms', 'floors', 'waterfront', 'condition', 'grade']"
      ]
     },
     "execution_count": 350,
     "metadata": {},
     "output_type": "execute_result"
    }
   ],
   "source": [
    "categorical"
   ]
  },
  {
   "cell_type": "code",
   "execution_count": 351,
   "metadata": {
    "ExecuteTime": {
     "end_time": "2021-01-26T05:52:08.257805Z",
     "start_time": "2021-01-26T05:52:08.246901Z"
    }
   },
   "outputs": [],
   "source": [
    "df_continuous = df.loc[:, continuous]"
   ]
  },
  {
   "cell_type": "code",
   "execution_count": 352,
   "metadata": {
    "ExecuteTime": {
     "end_time": "2021-01-26T05:52:10.803828Z",
     "start_time": "2021-01-26T05:52:08.679315Z"
    }
   },
   "outputs": [
    {
     "data": {
      "text/plain": [
       "array([[<matplotlib.axes._subplots.AxesSubplot object at 0x7fb33b65a160>,\n",
       "        <matplotlib.axes._subplots.AxesSubplot object at 0x7fb33b67cf98>,\n",
       "        <matplotlib.axes._subplots.AxesSubplot object at 0x7fb3410bf550>],\n",
       "       [<matplotlib.axes._subplots.AxesSubplot object at 0x7fb341590240>,\n",
       "        <matplotlib.axes._subplots.AxesSubplot object at 0x7fb3420a6be0>,\n",
       "        <matplotlib.axes._subplots.AxesSubplot object at 0x7fb34151d5c0>],\n",
       "       [<matplotlib.axes._subplots.AxesSubplot object at 0x7fb34154bf60>,\n",
       "        <matplotlib.axes._subplots.AxesSubplot object at 0x7fb341c75978>,\n",
       "        <matplotlib.axes._subplots.AxesSubplot object at 0x7fb341c759b0>]],\n",
       "      dtype=object)"
      ]
     },
     "execution_count": 352,
     "metadata": {},
     "output_type": "execute_result"
    },
    {
     "data": {
      "image/png": "[encoded data removed]",
      "text/plain": [
       "<Figure size 864x720 with 9 Axes>"
      ]
     },
     "metadata": {},
     "output_type": "display_data"
    }
   ],
   "source": [
    "df_continuous.hist(figsize = (12,10))"
   ]
  },
  {
   "cell_type": "code",
   "execution_count": 353,
   "metadata": {
    "ExecuteTime": {
     "end_time": "2021-01-26T05:52:11.266699Z",
     "start_time": "2021-01-26T05:52:11.262739Z"
    }
   },
   "outputs": [],
   "source": [
    "df_categorical = df.loc[:, categorical]"
   ]
  },
  {
   "cell_type": "code",
   "execution_count": 354,
   "metadata": {
    "ExecuteTime": {
     "end_time": "2021-01-26T05:52:12.841706Z",
     "start_time": "2021-01-26T05:52:11.659412Z"
    }
   },
   "outputs": [
    {
     "data": {
      "text/plain": [
       "array([[<matplotlib.axes._subplots.AxesSubplot object at 0x7fb342765be0>,\n",
       "        <matplotlib.axes._subplots.AxesSubplot object at 0x7fb3414eb6a0>],\n",
       "       [<matplotlib.axes._subplots.AxesSubplot object at 0x7fb3436a7b00>,\n",
       "        <matplotlib.axes._subplots.AxesSubplot object at 0x7fb3436dd4e0>],\n",
       "       [<matplotlib.axes._subplots.AxesSubplot object at 0x7fb343ecee80>,\n",
       "        <matplotlib.axes._subplots.AxesSubplot object at 0x7fb3431fd860>]],\n",
       "      dtype=object)"
      ]
     },
     "execution_count": 354,
     "metadata": {},
     "output_type": "execute_result"
    },
    {
     "data": {
      "image/png": "[encoded data removed]",
      "text/plain": [
       "<Figure size 720x720 with 6 Axes>"
      ]
     },
     "metadata": {},
     "output_type": "display_data"
    }
   ],
   "source": [
    "df_categorical.hist(figsize = (10,10))"
   ]
  },
  {
   "cell_type": "code",
   "execution_count": 355,
   "metadata": {
    "ExecuteTime": {
     "end_time": "2021-01-26T05:52:13.303910Z",
     "start_time": "2021-01-26T05:52:13.301292Z"
    }
   },
   "outputs": [],
   "source": [
    "#\n",
    "# try to clean up bedrooms"
   ]
  },
  {
   "cell_type": "code",
   "execution_count": 356,
   "metadata": {
    "ExecuteTime": {
     "end_time": "2021-01-26T05:52:14.072599Z",
     "start_time": "2021-01-26T05:52:13.757854Z"
    }
   },
   "outputs": [
    {
     "data": {
      "text/plain": [
       "<matplotlib.axes._subplots.AxesSubplot at 0x7fb3427f3940>"
      ]
     },
     "execution_count": 356,
     "metadata": {},
     "output_type": "execute_result"
    },
    {
     "data": {
      "image/png": "[encoded data removed]",
      "text/plain": [
       "<Figure size 432x288 with 1 Axes>"
      ]
     },
     "metadata": {},
     "output_type": "display_data"
    }
   ],
   "source": [
    "df.bedrooms.hist()"
   ]
  },
  {
   "cell_type": "code",
   "execution_count": 357,
   "metadata": {
    "ExecuteTime": {
     "end_time": "2021-01-26T05:52:14.544286Z",
     "start_time": "2021-01-26T05:52:14.538910Z"
    }
   },
   "outputs": [
    {
     "data": {
      "text/plain": [
       "array([ 3,  2,  4,  5,  1,  6,  7,  8,  9, 11, 10, 33])"
      ]
     },
     "execution_count": 357,
     "metadata": {},
     "output_type": "execute_result"
    }
   ],
   "source": [
    "df.bedrooms.unique()\n"
   ]
  },
  {
   "cell_type": "code",
   "execution_count": 358,
   "metadata": {
    "ExecuteTime": {
     "end_time": "2021-01-26T05:52:15.406357Z",
     "start_time": "2021-01-26T05:52:14.998934Z"
    }
   },
   "outputs": [
    {
     "data": {
      "text/plain": [
       "<matplotlib.axes._subplots.AxesSubplot at 0x7fb3432e2b38>"
      ]
     },
     "execution_count": 358,
     "metadata": {},
     "output_type": "execute_result"
    },
    {
     "data": {
      "image/png": "[encoded data removed]",
      "text/plain": [
       "<Figure size 432x288 with 1 Axes>"
      ]
     },
     "metadata": {},
     "output_type": "display_data"
    }
   ],
   "source": [
    "df.plot.scatter(x = 'bedrooms', y = 'price')"
   ]
  },
  {
   "cell_type": "code",
   "execution_count": 359,
   "metadata": {
    "ExecuteTime": {
     "end_time": "2021-01-26T05:52:15.999076Z",
     "start_time": "2021-01-26T05:52:15.873158Z"
    }
   },
   "outputs": [
    {
     "data": {
      "text/plain": [
       "id             21420\n",
       "date             372\n",
       "price           3622\n",
       "bathrooms         29\n",
       "sqft_living     1034\n",
       "sqft_lot        9776\n",
       "yr_built         116\n",
       "zipcode           70\n",
       "lat             5033\n",
       "long             751\n",
       "dtype: int64"
      ]
     },
     "execution_count": 359,
     "metadata": {},
     "output_type": "execute_result"
    }
   ],
   "source": [
    "df_continuous.nunique()"
   ]
  },
  {
   "cell_type": "code",
   "execution_count": 360,
   "metadata": {
    "ExecuteTime": {
     "end_time": "2021-01-26T05:52:16.527132Z",
     "start_time": "2021-01-26T05:52:16.519460Z"
    }
   },
   "outputs": [
    {
     "data": {
      "text/plain": [
       "bedrooms      12\n",
       "floors         6\n",
       "waterfront     2\n",
       "condition      5\n",
       "grade         11\n",
       "dtype: int64"
      ]
     },
     "execution_count": 360,
     "metadata": {},
     "output_type": "execute_result"
    }
   ],
   "source": [
    "df_categorical.nunique()"
   ]
  },
  {
   "cell_type": "code",
   "execution_count": 361,
   "metadata": {
    "ExecuteTime": {
     "end_time": "2021-01-26T05:52:16.936406Z",
     "start_time": "2021-01-26T05:52:16.932540Z"
    }
   },
   "outputs": [],
   "source": [
    "df_cont = df[continuous]"
   ]
  },
  {
   "cell_type": "code",
   "execution_count": 362,
   "metadata": {
    "ExecuteTime": {
     "end_time": "2021-01-26T05:52:17.356365Z",
     "start_time": "2021-01-26T05:52:17.351242Z"
    }
   },
   "outputs": [],
   "source": [
    "df_cat = df[categorical]"
   ]
  },
  {
   "cell_type": "code",
   "execution_count": 363,
   "metadata": {
    "ExecuteTime": {
     "end_time": "2021-01-26T05:52:17.795101Z",
     "start_time": "2021-01-26T05:52:17.775446Z"
    }
   },
   "outputs": [
    {
     "data": {
      "text/html": [
       "<div>\n",
       "<style scoped>\n",
       "    .dataframe tbody tr th:only-of-type {\n",
       "        vertical-align: middle;\n",
       "    }\n",
       "\n",
       "    .dataframe tbody tr th {\n",
       "        vertical-align: top;\n",
       "    }\n",
       "\n",
       "    .dataframe thead th {\n",
       "        text-align: right;\n",
       "    }\n",
       "</style>\n",
       "<table border=\"1\" class=\"dataframe\">\n",
       "  <thead>\n",
       "    <tr style=\"text-align: right;\">\n",
       "      <th></th>\n",
       "      <th>id</th>\n",
       "      <th>date</th>\n",
       "      <th>price</th>\n",
       "      <th>bathrooms</th>\n",
       "      <th>sqft_living</th>\n",
       "      <th>sqft_lot</th>\n",
       "      <th>yr_built</th>\n",
       "      <th>zipcode</th>\n",
       "      <th>lat</th>\n",
       "      <th>long</th>\n",
       "    </tr>\n",
       "  </thead>\n",
       "  <tbody>\n",
       "    <tr>\n",
       "      <th>0</th>\n",
       "      <td>7129300520</td>\n",
       "      <td>10/13/2014</td>\n",
       "      <td>221900.0</td>\n",
       "      <td>1.00</td>\n",
       "      <td>1180</td>\n",
       "      <td>5650</td>\n",
       "      <td>1955</td>\n",
       "      <td>98178</td>\n",
       "      <td>47.5112</td>\n",
       "      <td>-122.257</td>\n",
       "    </tr>\n",
       "    <tr>\n",
       "      <th>1</th>\n",
       "      <td>6414100192</td>\n",
       "      <td>12/9/2014</td>\n",
       "      <td>538000.0</td>\n",
       "      <td>2.25</td>\n",
       "      <td>2570</td>\n",
       "      <td>7242</td>\n",
       "      <td>1951</td>\n",
       "      <td>98125</td>\n",
       "      <td>47.7210</td>\n",
       "      <td>-122.319</td>\n",
       "    </tr>\n",
       "    <tr>\n",
       "      <th>2</th>\n",
       "      <td>5631500400</td>\n",
       "      <td>2/25/2015</td>\n",
       "      <td>180000.0</td>\n",
       "      <td>1.00</td>\n",
       "      <td>770</td>\n",
       "      <td>10000</td>\n",
       "      <td>1933</td>\n",
       "      <td>98028</td>\n",
       "      <td>47.7379</td>\n",
       "      <td>-122.233</td>\n",
       "    </tr>\n",
       "    <tr>\n",
       "      <th>3</th>\n",
       "      <td>2487200875</td>\n",
       "      <td>12/9/2014</td>\n",
       "      <td>604000.0</td>\n",
       "      <td>3.00</td>\n",
       "      <td>1960</td>\n",
       "      <td>5000</td>\n",
       "      <td>1965</td>\n",
       "      <td>98136</td>\n",
       "      <td>47.5208</td>\n",
       "      <td>-122.393</td>\n",
       "    </tr>\n",
       "    <tr>\n",
       "      <th>4</th>\n",
       "      <td>1954400510</td>\n",
       "      <td>2/18/2015</td>\n",
       "      <td>510000.0</td>\n",
       "      <td>2.00</td>\n",
       "      <td>1680</td>\n",
       "      <td>8080</td>\n",
       "      <td>1987</td>\n",
       "      <td>98074</td>\n",
       "      <td>47.6168</td>\n",
       "      <td>-122.045</td>\n",
       "    </tr>\n",
       "    <tr>\n",
       "      <th>...</th>\n",
       "      <td>...</td>\n",
       "      <td>...</td>\n",
       "      <td>...</td>\n",
       "      <td>...</td>\n",
       "      <td>...</td>\n",
       "      <td>...</td>\n",
       "      <td>...</td>\n",
       "      <td>...</td>\n",
       "      <td>...</td>\n",
       "      <td>...</td>\n",
       "    </tr>\n",
       "    <tr>\n",
       "      <th>21592</th>\n",
       "      <td>263000018</td>\n",
       "      <td>5/21/2014</td>\n",
       "      <td>360000.0</td>\n",
       "      <td>2.50</td>\n",
       "      <td>1530</td>\n",
       "      <td>1131</td>\n",
       "      <td>2009</td>\n",
       "      <td>98103</td>\n",
       "      <td>47.6993</td>\n",
       "      <td>-122.346</td>\n",
       "    </tr>\n",
       "    <tr>\n",
       "      <th>21593</th>\n",
       "      <td>6600060120</td>\n",
       "      <td>2/23/2015</td>\n",
       "      <td>400000.0</td>\n",
       "      <td>2.50</td>\n",
       "      <td>2310</td>\n",
       "      <td>5813</td>\n",
       "      <td>2014</td>\n",
       "      <td>98146</td>\n",
       "      <td>47.5107</td>\n",
       "      <td>-122.362</td>\n",
       "    </tr>\n",
       "    <tr>\n",
       "      <th>21594</th>\n",
       "      <td>1523300141</td>\n",
       "      <td>6/23/2014</td>\n",
       "      <td>402101.0</td>\n",
       "      <td>0.75</td>\n",
       "      <td>1020</td>\n",
       "      <td>1350</td>\n",
       "      <td>2009</td>\n",
       "      <td>98144</td>\n",
       "      <td>47.5944</td>\n",
       "      <td>-122.299</td>\n",
       "    </tr>\n",
       "    <tr>\n",
       "      <th>21595</th>\n",
       "      <td>291310100</td>\n",
       "      <td>1/16/2015</td>\n",
       "      <td>400000.0</td>\n",
       "      <td>2.50</td>\n",
       "      <td>1600</td>\n",
       "      <td>2388</td>\n",
       "      <td>2004</td>\n",
       "      <td>98027</td>\n",
       "      <td>47.5345</td>\n",
       "      <td>-122.069</td>\n",
       "    </tr>\n",
       "    <tr>\n",
       "      <th>21596</th>\n",
       "      <td>1523300157</td>\n",
       "      <td>10/15/2014</td>\n",
       "      <td>325000.0</td>\n",
       "      <td>0.75</td>\n",
       "      <td>1020</td>\n",
       "      <td>1076</td>\n",
       "      <td>2008</td>\n",
       "      <td>98144</td>\n",
       "      <td>47.5941</td>\n",
       "      <td>-122.299</td>\n",
       "    </tr>\n",
       "  </tbody>\n",
       "</table>\n",
       "<p>21597 rows × 10 columns</p>\n",
       "</div>"
      ],
      "text/plain": [
       "               id        date     price  bathrooms  sqft_living  sqft_lot  \\\n",
       "0      7129300520  10/13/2014  221900.0       1.00         1180      5650   \n",
       "1      6414100192   12/9/2014  538000.0       2.25         2570      7242   \n",
       "2      5631500400   2/25/2015  180000.0       1.00          770     10000   \n",
       "3      2487200875   12/9/2014  604000.0       3.00         1960      5000   \n",
       "4      1954400510   2/18/2015  510000.0       2.00         1680      8080   \n",
       "...           ...         ...       ...        ...          ...       ...   \n",
       "21592   263000018   5/21/2014  360000.0       2.50         1530      1131   \n",
       "21593  6600060120   2/23/2015  400000.0       2.50         2310      5813   \n",
       "21594  1523300141   6/23/2014  402101.0       0.75         1020      1350   \n",
       "21595   291310100   1/16/2015  400000.0       2.50         1600      2388   \n",
       "21596  1523300157  10/15/2014  325000.0       0.75         1020      1076   \n",
       "\n",
       "       yr_built  zipcode      lat     long  \n",
       "0          1955    98178  47.5112 -122.257  \n",
       "1          1951    98125  47.7210 -122.319  \n",
       "2          1933    98028  47.7379 -122.233  \n",
       "3          1965    98136  47.5208 -122.393  \n",
       "4          1987    98074  47.6168 -122.045  \n",
       "...         ...      ...      ...      ...  \n",
       "21592      2009    98103  47.6993 -122.346  \n",
       "21593      2014    98146  47.5107 -122.362  \n",
       "21594      2009    98144  47.5944 -122.299  \n",
       "21595      2004    98027  47.5345 -122.069  \n",
       "21596      2008    98144  47.5941 -122.299  \n",
       "\n",
       "[21597 rows x 10 columns]"
      ]
     },
     "execution_count": 363,
     "metadata": {},
     "output_type": "execute_result"
    }
   ],
   "source": [
    "df_cont"
   ]
  },
  {
   "cell_type": "code",
   "execution_count": 364,
   "metadata": {
    "ExecuteTime": {
     "end_time": "2021-01-26T05:52:18.320616Z",
     "start_time": "2021-01-26T05:52:18.305635Z"
    }
   },
   "outputs": [
    {
     "data": {
      "text/html": [
       "<div>\n",
       "<style scoped>\n",
       "    .dataframe tbody tr th:only-of-type {\n",
       "        vertical-align: middle;\n",
       "    }\n",
       "\n",
       "    .dataframe tbody tr th {\n",
       "        vertical-align: top;\n",
       "    }\n",
       "\n",
       "    .dataframe thead th {\n",
       "        text-align: right;\n",
       "    }\n",
       "</style>\n",
       "<table border=\"1\" class=\"dataframe\">\n",
       "  <thead>\n",
       "    <tr style=\"text-align: right;\">\n",
       "      <th></th>\n",
       "      <th>bedrooms</th>\n",
       "      <th>floors</th>\n",
       "      <th>waterfront</th>\n",
       "      <th>condition</th>\n",
       "      <th>grade</th>\n",
       "    </tr>\n",
       "  </thead>\n",
       "  <tbody>\n",
       "    <tr>\n",
       "      <th>0</th>\n",
       "      <td>3</td>\n",
       "      <td>1.0</td>\n",
       "      <td>0.0</td>\n",
       "      <td>3</td>\n",
       "      <td>7</td>\n",
       "    </tr>\n",
       "    <tr>\n",
       "      <th>1</th>\n",
       "      <td>3</td>\n",
       "      <td>2.0</td>\n",
       "      <td>0.0</td>\n",
       "      <td>3</td>\n",
       "      <td>7</td>\n",
       "    </tr>\n",
       "    <tr>\n",
       "      <th>2</th>\n",
       "      <td>2</td>\n",
       "      <td>1.0</td>\n",
       "      <td>0.0</td>\n",
       "      <td>3</td>\n",
       "      <td>6</td>\n",
       "    </tr>\n",
       "    <tr>\n",
       "      <th>3</th>\n",
       "      <td>4</td>\n",
       "      <td>1.0</td>\n",
       "      <td>0.0</td>\n",
       "      <td>5</td>\n",
       "      <td>7</td>\n",
       "    </tr>\n",
       "    <tr>\n",
       "      <th>4</th>\n",
       "      <td>3</td>\n",
       "      <td>1.0</td>\n",
       "      <td>0.0</td>\n",
       "      <td>3</td>\n",
       "      <td>8</td>\n",
       "    </tr>\n",
       "    <tr>\n",
       "      <th>...</th>\n",
       "      <td>...</td>\n",
       "      <td>...</td>\n",
       "      <td>...</td>\n",
       "      <td>...</td>\n",
       "      <td>...</td>\n",
       "    </tr>\n",
       "    <tr>\n",
       "      <th>21592</th>\n",
       "      <td>3</td>\n",
       "      <td>3.0</td>\n",
       "      <td>0.0</td>\n",
       "      <td>3</td>\n",
       "      <td>8</td>\n",
       "    </tr>\n",
       "    <tr>\n",
       "      <th>21593</th>\n",
       "      <td>4</td>\n",
       "      <td>2.0</td>\n",
       "      <td>0.0</td>\n",
       "      <td>3</td>\n",
       "      <td>8</td>\n",
       "    </tr>\n",
       "    <tr>\n",
       "      <th>21594</th>\n",
       "      <td>2</td>\n",
       "      <td>2.0</td>\n",
       "      <td>0.0</td>\n",
       "      <td>3</td>\n",
       "      <td>7</td>\n",
       "    </tr>\n",
       "    <tr>\n",
       "      <th>21595</th>\n",
       "      <td>3</td>\n",
       "      <td>2.0</td>\n",
       "      <td>0.0</td>\n",
       "      <td>3</td>\n",
       "      <td>8</td>\n",
       "    </tr>\n",
       "    <tr>\n",
       "      <th>21596</th>\n",
       "      <td>2</td>\n",
       "      <td>2.0</td>\n",
       "      <td>0.0</td>\n",
       "      <td>3</td>\n",
       "      <td>7</td>\n",
       "    </tr>\n",
       "  </tbody>\n",
       "</table>\n",
       "<p>21597 rows × 5 columns</p>\n",
       "</div>"
      ],
      "text/plain": [
       "       bedrooms  floors  waterfront  condition  grade\n",
       "0             3     1.0         0.0          3      7\n",
       "1             3     2.0         0.0          3      7\n",
       "2             2     1.0         0.0          3      6\n",
       "3             4     1.0         0.0          5      7\n",
       "4             3     1.0         0.0          3      8\n",
       "...         ...     ...         ...        ...    ...\n",
       "21592         3     3.0         0.0          3      8\n",
       "21593         4     2.0         0.0          3      8\n",
       "21594         2     2.0         0.0          3      7\n",
       "21595         3     2.0         0.0          3      8\n",
       "21596         2     2.0         0.0          3      7\n",
       "\n",
       "[21597 rows x 5 columns]"
      ]
     },
     "execution_count": 364,
     "metadata": {},
     "output_type": "execute_result"
    }
   ],
   "source": [
    "df_cat\n"
   ]
  },
  {
   "cell_type": "code",
   "execution_count": 365,
   "metadata": {
    "ExecuteTime": {
     "end_time": "2021-01-26T05:52:18.801749Z",
     "start_time": "2021-01-26T05:52:18.778081Z"
    }
   },
   "outputs": [
    {
     "data": {
      "text/html": [
       "<div>\n",
       "<style scoped>\n",
       "    .dataframe tbody tr th:only-of-type {\n",
       "        vertical-align: middle;\n",
       "    }\n",
       "\n",
       "    .dataframe tbody tr th {\n",
       "        vertical-align: top;\n",
       "    }\n",
       "\n",
       "    .dataframe thead th {\n",
       "        text-align: right;\n",
       "    }\n",
       "</style>\n",
       "<table border=\"1\" class=\"dataframe\">\n",
       "  <thead>\n",
       "    <tr style=\"text-align: right;\">\n",
       "      <th></th>\n",
       "      <th>id</th>\n",
       "      <th>date</th>\n",
       "      <th>price</th>\n",
       "      <th>bedrooms</th>\n",
       "      <th>bathrooms</th>\n",
       "      <th>sqft_living</th>\n",
       "      <th>sqft_lot</th>\n",
       "      <th>floors</th>\n",
       "      <th>waterfront</th>\n",
       "      <th>condition</th>\n",
       "      <th>...</th>\n",
       "      <th>zipcode_98155</th>\n",
       "      <th>zipcode_98166</th>\n",
       "      <th>zipcode_98168</th>\n",
       "      <th>zipcode_98177</th>\n",
       "      <th>zipcode_98178</th>\n",
       "      <th>zipcode_98188</th>\n",
       "      <th>zipcode_98198</th>\n",
       "      <th>zipcode_98199</th>\n",
       "      <th>lat_long</th>\n",
       "      <th>sector</th>\n",
       "    </tr>\n",
       "  </thead>\n",
       "  <tbody>\n",
       "    <tr>\n",
       "      <th>0</th>\n",
       "      <td>7.129301e+09</td>\n",
       "      <td>10/13/2014</td>\n",
       "      <td>221900.0</td>\n",
       "      <td>3.0</td>\n",
       "      <td>1.00</td>\n",
       "      <td>1180.0</td>\n",
       "      <td>5650.0</td>\n",
       "      <td>1.0</td>\n",
       "      <td>0.0</td>\n",
       "      <td>3.0</td>\n",
       "      <td>...</td>\n",
       "      <td>0</td>\n",
       "      <td>0</td>\n",
       "      <td>0</td>\n",
       "      <td>0</td>\n",
       "      <td>1</td>\n",
       "      <td>0</td>\n",
       "      <td>0</td>\n",
       "      <td>0</td>\n",
       "      <td>(47.5112, -122.257)</td>\n",
       "      <td>sector_1</td>\n",
       "    </tr>\n",
       "    <tr>\n",
       "      <th>1</th>\n",
       "      <td>6.414100e+09</td>\n",
       "      <td>12/9/2014</td>\n",
       "      <td>538000.0</td>\n",
       "      <td>3.0</td>\n",
       "      <td>2.25</td>\n",
       "      <td>2570.0</td>\n",
       "      <td>7242.0</td>\n",
       "      <td>2.0</td>\n",
       "      <td>0.0</td>\n",
       "      <td>3.0</td>\n",
       "      <td>...</td>\n",
       "      <td>0</td>\n",
       "      <td>0</td>\n",
       "      <td>0</td>\n",
       "      <td>0</td>\n",
       "      <td>0</td>\n",
       "      <td>0</td>\n",
       "      <td>0</td>\n",
       "      <td>0</td>\n",
       "      <td>(47.721000000000004, -122.319)</td>\n",
       "      <td>sector_1</td>\n",
       "    </tr>\n",
       "    <tr>\n",
       "      <th>2</th>\n",
       "      <td>5.631500e+09</td>\n",
       "      <td>2/25/2015</td>\n",
       "      <td>180000.0</td>\n",
       "      <td>2.0</td>\n",
       "      <td>1.00</td>\n",
       "      <td>770.0</td>\n",
       "      <td>10000.0</td>\n",
       "      <td>1.0</td>\n",
       "      <td>0.0</td>\n",
       "      <td>3.0</td>\n",
       "      <td>...</td>\n",
       "      <td>0</td>\n",
       "      <td>0</td>\n",
       "      <td>0</td>\n",
       "      <td>0</td>\n",
       "      <td>0</td>\n",
       "      <td>0</td>\n",
       "      <td>0</td>\n",
       "      <td>0</td>\n",
       "      <td>(47.7379, -122.23299999999999)</td>\n",
       "      <td>sector_1</td>\n",
       "    </tr>\n",
       "    <tr>\n",
       "      <th>3</th>\n",
       "      <td>2.487201e+09</td>\n",
       "      <td>12/9/2014</td>\n",
       "      <td>604000.0</td>\n",
       "      <td>4.0</td>\n",
       "      <td>3.00</td>\n",
       "      <td>1960.0</td>\n",
       "      <td>5000.0</td>\n",
       "      <td>1.0</td>\n",
       "      <td>0.0</td>\n",
       "      <td>5.0</td>\n",
       "      <td>...</td>\n",
       "      <td>0</td>\n",
       "      <td>0</td>\n",
       "      <td>0</td>\n",
       "      <td>0</td>\n",
       "      <td>0</td>\n",
       "      <td>0</td>\n",
       "      <td>0</td>\n",
       "      <td>0</td>\n",
       "      <td>(47.5208, -122.39299999999999)</td>\n",
       "      <td>sector_1</td>\n",
       "    </tr>\n",
       "    <tr>\n",
       "      <th>4</th>\n",
       "      <td>1.954401e+09</td>\n",
       "      <td>2/18/2015</td>\n",
       "      <td>510000.0</td>\n",
       "      <td>3.0</td>\n",
       "      <td>2.00</td>\n",
       "      <td>1680.0</td>\n",
       "      <td>8080.0</td>\n",
       "      <td>1.0</td>\n",
       "      <td>0.0</td>\n",
       "      <td>3.0</td>\n",
       "      <td>...</td>\n",
       "      <td>0</td>\n",
       "      <td>0</td>\n",
       "      <td>0</td>\n",
       "      <td>0</td>\n",
       "      <td>0</td>\n",
       "      <td>0</td>\n",
       "      <td>0</td>\n",
       "      <td>0</td>\n",
       "      <td>(47.6168, -122.045)</td>\n",
       "      <td>sector_2</td>\n",
       "    </tr>\n",
       "  </tbody>\n",
       "</table>\n",
       "<p>5 rows × 94 columns</p>\n",
       "</div>"
      ],
      "text/plain": [
       "             id        date     price  bedrooms  bathrooms  sqft_living  \\\n",
       "0  7.129301e+09  10/13/2014  221900.0       3.0       1.00       1180.0   \n",
       "1  6.414100e+09   12/9/2014  538000.0       3.0       2.25       2570.0   \n",
       "2  5.631500e+09   2/25/2015  180000.0       2.0       1.00        770.0   \n",
       "3  2.487201e+09   12/9/2014  604000.0       4.0       3.00       1960.0   \n",
       "4  1.954401e+09   2/18/2015  510000.0       3.0       2.00       1680.0   \n",
       "\n",
       "   sqft_lot  floors  waterfront  condition  ...  zipcode_98155  zipcode_98166  \\\n",
       "0    5650.0     1.0         0.0        3.0  ...              0              0   \n",
       "1    7242.0     2.0         0.0        3.0  ...              0              0   \n",
       "2   10000.0     1.0         0.0        3.0  ...              0              0   \n",
       "3    5000.0     1.0         0.0        5.0  ...              0              0   \n",
       "4    8080.0     1.0         0.0        3.0  ...              0              0   \n",
       "\n",
       "   zipcode_98168  zipcode_98177  zipcode_98178 zipcode_98188  zipcode_98198  \\\n",
       "0              0              0              1             0              0   \n",
       "1              0              0              0             0              0   \n",
       "2              0              0              0             0              0   \n",
       "3              0              0              0             0              0   \n",
       "4              0              0              0             0              0   \n",
       "\n",
       "   zipcode_98199                        lat_long    sector  \n",
       "0              0             (47.5112, -122.257)  sector_1  \n",
       "1              0  (47.721000000000004, -122.319)  sector_1  \n",
       "2              0  (47.7379, -122.23299999999999)  sector_1  \n",
       "3              0  (47.5208, -122.39299999999999)  sector_1  \n",
       "4              0             (47.6168, -122.045)  sector_2  \n",
       "\n",
       "[5 rows x 94 columns]"
      ]
     },
     "execution_count": 365,
     "metadata": {},
     "output_type": "execute_result"
    }
   ],
   "source": [
    "df_zipcodes.head()"
   ]
  },
  {
   "cell_type": "code",
   "execution_count": 366,
   "metadata": {
    "ExecuteTime": {
     "end_time": "2021-01-26T05:52:19.245757Z",
     "start_time": "2021-01-26T05:52:19.223748Z"
    }
   },
   "outputs": [
    {
     "data": {
      "text/html": [
       "<div>\n",
       "<style scoped>\n",
       "    .dataframe tbody tr th:only-of-type {\n",
       "        vertical-align: middle;\n",
       "    }\n",
       "\n",
       "    .dataframe tbody tr th {\n",
       "        vertical-align: top;\n",
       "    }\n",
       "\n",
       "    .dataframe thead th {\n",
       "        text-align: right;\n",
       "    }\n",
       "</style>\n",
       "<table border=\"1\" class=\"dataframe\">\n",
       "  <thead>\n",
       "    <tr style=\"text-align: right;\">\n",
       "      <th></th>\n",
       "      <th>id</th>\n",
       "      <th>date</th>\n",
       "      <th>price</th>\n",
       "      <th>bedrooms</th>\n",
       "      <th>bathrooms</th>\n",
       "      <th>sqft_living</th>\n",
       "      <th>sqft_lot</th>\n",
       "      <th>floors</th>\n",
       "      <th>waterfront</th>\n",
       "      <th>view</th>\n",
       "      <th>...</th>\n",
       "      <th>grade</th>\n",
       "      <th>sqft_above</th>\n",
       "      <th>sqft_basement</th>\n",
       "      <th>yr_built</th>\n",
       "      <th>yr_renovated</th>\n",
       "      <th>zipcode</th>\n",
       "      <th>lat</th>\n",
       "      <th>long</th>\n",
       "      <th>sqft_living15</th>\n",
       "      <th>sqft_lot15</th>\n",
       "    </tr>\n",
       "  </thead>\n",
       "  <tbody>\n",
       "    <tr>\n",
       "      <th>0</th>\n",
       "      <td>7129300520</td>\n",
       "      <td>10/13/2014</td>\n",
       "      <td>221900.0</td>\n",
       "      <td>3</td>\n",
       "      <td>1.00</td>\n",
       "      <td>1180</td>\n",
       "      <td>5650</td>\n",
       "      <td>1.0</td>\n",
       "      <td>NaN</td>\n",
       "      <td>0.0</td>\n",
       "      <td>...</td>\n",
       "      <td>7</td>\n",
       "      <td>1180</td>\n",
       "      <td>0.0</td>\n",
       "      <td>1955</td>\n",
       "      <td>0.0</td>\n",
       "      <td>98178</td>\n",
       "      <td>47.5112</td>\n",
       "      <td>-122.257</td>\n",
       "      <td>1340</td>\n",
       "      <td>5650</td>\n",
       "    </tr>\n",
       "    <tr>\n",
       "      <th>1</th>\n",
       "      <td>6414100192</td>\n",
       "      <td>12/9/2014</td>\n",
       "      <td>538000.0</td>\n",
       "      <td>3</td>\n",
       "      <td>2.25</td>\n",
       "      <td>2570</td>\n",
       "      <td>7242</td>\n",
       "      <td>2.0</td>\n",
       "      <td>0.0</td>\n",
       "      <td>0.0</td>\n",
       "      <td>...</td>\n",
       "      <td>7</td>\n",
       "      <td>2170</td>\n",
       "      <td>400.0</td>\n",
       "      <td>1951</td>\n",
       "      <td>1991.0</td>\n",
       "      <td>98125</td>\n",
       "      <td>47.7210</td>\n",
       "      <td>-122.319</td>\n",
       "      <td>1690</td>\n",
       "      <td>7639</td>\n",
       "    </tr>\n",
       "    <tr>\n",
       "      <th>2</th>\n",
       "      <td>5631500400</td>\n",
       "      <td>2/25/2015</td>\n",
       "      <td>180000.0</td>\n",
       "      <td>2</td>\n",
       "      <td>1.00</td>\n",
       "      <td>770</td>\n",
       "      <td>10000</td>\n",
       "      <td>1.0</td>\n",
       "      <td>0.0</td>\n",
       "      <td>0.0</td>\n",
       "      <td>...</td>\n",
       "      <td>6</td>\n",
       "      <td>770</td>\n",
       "      <td>0.0</td>\n",
       "      <td>1933</td>\n",
       "      <td>NaN</td>\n",
       "      <td>98028</td>\n",
       "      <td>47.7379</td>\n",
       "      <td>-122.233</td>\n",
       "      <td>2720</td>\n",
       "      <td>8062</td>\n",
       "    </tr>\n",
       "    <tr>\n",
       "      <th>3</th>\n",
       "      <td>2487200875</td>\n",
       "      <td>12/9/2014</td>\n",
       "      <td>604000.0</td>\n",
       "      <td>4</td>\n",
       "      <td>3.00</td>\n",
       "      <td>1960</td>\n",
       "      <td>5000</td>\n",
       "      <td>1.0</td>\n",
       "      <td>0.0</td>\n",
       "      <td>0.0</td>\n",
       "      <td>...</td>\n",
       "      <td>7</td>\n",
       "      <td>1050</td>\n",
       "      <td>910.0</td>\n",
       "      <td>1965</td>\n",
       "      <td>0.0</td>\n",
       "      <td>98136</td>\n",
       "      <td>47.5208</td>\n",
       "      <td>-122.393</td>\n",
       "      <td>1360</td>\n",
       "      <td>5000</td>\n",
       "    </tr>\n",
       "    <tr>\n",
       "      <th>4</th>\n",
       "      <td>1954400510</td>\n",
       "      <td>2/18/2015</td>\n",
       "      <td>510000.0</td>\n",
       "      <td>3</td>\n",
       "      <td>2.00</td>\n",
       "      <td>1680</td>\n",
       "      <td>8080</td>\n",
       "      <td>1.0</td>\n",
       "      <td>0.0</td>\n",
       "      <td>0.0</td>\n",
       "      <td>...</td>\n",
       "      <td>8</td>\n",
       "      <td>1680</td>\n",
       "      <td>0.0</td>\n",
       "      <td>1987</td>\n",
       "      <td>0.0</td>\n",
       "      <td>98074</td>\n",
       "      <td>47.6168</td>\n",
       "      <td>-122.045</td>\n",
       "      <td>1800</td>\n",
       "      <td>7503</td>\n",
       "    </tr>\n",
       "  </tbody>\n",
       "</table>\n",
       "<p>5 rows × 21 columns</p>\n",
       "</div>"
      ],
      "text/plain": [
       "           id        date     price  bedrooms  bathrooms  sqft_living  \\\n",
       "0  7129300520  10/13/2014  221900.0         3       1.00         1180   \n",
       "1  6414100192   12/9/2014  538000.0         3       2.25         2570   \n",
       "2  5631500400   2/25/2015  180000.0         2       1.00          770   \n",
       "3  2487200875   12/9/2014  604000.0         4       3.00         1960   \n",
       "4  1954400510   2/18/2015  510000.0         3       2.00         1680   \n",
       "\n",
       "   sqft_lot  floors  waterfront  view  ...  grade  sqft_above  sqft_basement  \\\n",
       "0      5650     1.0         NaN   0.0  ...      7        1180            0.0   \n",
       "1      7242     2.0         0.0   0.0  ...      7        2170          400.0   \n",
       "2     10000     1.0         0.0   0.0  ...      6         770            0.0   \n",
       "3      5000     1.0         0.0   0.0  ...      7        1050          910.0   \n",
       "4      8080     1.0         0.0   0.0  ...      8        1680            0.0   \n",
       "\n",
       "  yr_built  yr_renovated  zipcode      lat     long  sqft_living15  sqft_lot15  \n",
       "0     1955           0.0    98178  47.5112 -122.257           1340        5650  \n",
       "1     1951        1991.0    98125  47.7210 -122.319           1690        7639  \n",
       "2     1933           NaN    98028  47.7379 -122.233           2720        8062  \n",
       "3     1965           0.0    98136  47.5208 -122.393           1360        5000  \n",
       "4     1987           0.0    98074  47.6168 -122.045           1800        7503  \n",
       "\n",
       "[5 rows x 21 columns]"
      ]
     },
     "execution_count": 366,
     "metadata": {},
     "output_type": "execute_result"
    }
   ],
   "source": [
    "df_original.head()"
   ]
  },
  {
   "cell_type": "code",
   "execution_count": 367,
   "metadata": {
    "ExecuteTime": {
     "end_time": "2021-01-26T05:52:19.687586Z",
     "start_time": "2021-01-26T05:52:19.680471Z"
    }
   },
   "outputs": [
    {
     "data": {
      "text/plain": [
       "0    98178\n",
       "1    98125\n",
       "2    98028\n",
       "3    98136\n",
       "4    98074\n",
       "Name: zipcode, dtype: int64"
      ]
     },
     "execution_count": 367,
     "metadata": {},
     "output_type": "execute_result"
    }
   ],
   "source": [
    "df_original.zipcode.head()"
   ]
  },
  {
   "cell_type": "code",
   "execution_count": null,
   "metadata": {},
   "outputs": [],
   "source": []
  },
  {
   "cell_type": "code",
   "execution_count": null,
   "metadata": {},
   "outputs": [],
   "source": []
  }
 ],
 "metadata": {
  "kernelspec": {
   "display_name": "Python 3",
   "language": "python",
   "name": "python3"
  },
  "language_info": {
   "codemirror_mode": {
    "name": "ipython",
    "version": 3
   },
   "file_extension": ".py",
   "mimetype": "text/x-python",
   "name": "python",
   "nbconvert_exporter": "python",
   "pygments_lexer": "ipython3",
   "version": "3.6.9"
  },
  "toc": {
   "base_numbering": 1,
   "nav_menu": {},
   "number_sections": true,
   "sideBar": true,
   "skip_h1_title": false,
   "title_cell": "Table of Contents",
   "title_sidebar": "Contents",
   "toc_cell": false,
   "toc_position": {},
   "toc_section_display": true,
   "toc_window_display": false
  },
  "varInspector": {
   "cols": {
    "lenName": 16,
    "lenType": 16,
    "lenVar": 40
   },
   "kernels_config": {
    "python": {
     "delete_cmd_postfix": "",
     "delete_cmd_prefix": "del ",
     "library": "var_list.py",
     "varRefreshCmd": "print(var_dic_list())"
    },
    "r": {
     "delete_cmd_postfix": ") ",
     "delete_cmd_prefix": "rm(",
     "library": "var_list.r",
     "varRefreshCmd": "cat(var_dic_list()) "
    }
   },
   "types_to_exclude": [
    "module",
    "function",
    "builtin_function_or_method",
    "instance",
    "_Feature"
   ],
   "window_display": false
  }
 },
 "nbformat": 4,
 "nbformat_minor": 4
}
